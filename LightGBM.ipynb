{
  "nbformat": 4,
  "nbformat_minor": 0,
  "metadata": {
    "colab": {
      "provenance": [],
      "gpuType": "T4",
      "authorship_tag": "ABX9TyNUUssMSI8pR2hdNDYmN8xs"
    },
    "kernelspec": {
      "name": "python3",
      "display_name": "Python 3"
    },
    "language_info": {
      "name": "python"
    },
    "accelerator": "GPU"
  },
  "cells": [
    {
      "cell_type": "code",
      "execution_count": 2,
      "metadata": {
        "colab": {
          "base_uri": "https://localhost:8080/"
        },
        "collapsed": true,
        "id": "Whx9fF5Z_oJ1",
        "outputId": "e445c95e-4565-4558-83bd-de25975990b0"
      },
      "outputs": [
        {
          "output_type": "stream",
          "name": "stdout",
          "text": [
            "Requirement already satisfied: kaggle in /usr/local/lib/python3.11/dist-packages (1.7.4.5)\n",
            "Requirement already satisfied: bleach in /usr/local/lib/python3.11/dist-packages (from kaggle) (6.2.0)\n",
            "Requirement already satisfied: certifi>=14.05.14 in /usr/local/lib/python3.11/dist-packages (from kaggle) (2025.6.15)\n",
            "Requirement already satisfied: charset-normalizer in /usr/local/lib/python3.11/dist-packages (from kaggle) (3.4.2)\n",
            "Requirement already satisfied: idna in /usr/local/lib/python3.11/dist-packages (from kaggle) (3.10)\n",
            "Requirement already satisfied: protobuf in /usr/local/lib/python3.11/dist-packages (from kaggle) (5.29.5)\n",
            "Requirement already satisfied: python-dateutil>=2.5.3 in /usr/local/lib/python3.11/dist-packages (from kaggle) (2.9.0.post0)\n",
            "Requirement already satisfied: python-slugify in /usr/local/lib/python3.11/dist-packages (from kaggle) (8.0.4)\n",
            "Requirement already satisfied: requests in /usr/local/lib/python3.11/dist-packages (from kaggle) (2.32.3)\n",
            "Requirement already satisfied: setuptools>=21.0.0 in /usr/local/lib/python3.11/dist-packages (from kaggle) (75.2.0)\n",
            "Requirement already satisfied: six>=1.10 in /usr/local/lib/python3.11/dist-packages (from kaggle) (1.17.0)\n",
            "Requirement already satisfied: text-unidecode in /usr/local/lib/python3.11/dist-packages (from kaggle) (1.3)\n",
            "Requirement already satisfied: tqdm in /usr/local/lib/python3.11/dist-packages (from kaggle) (4.67.1)\n",
            "Requirement already satisfied: urllib3>=1.15.1 in /usr/local/lib/python3.11/dist-packages (from kaggle) (2.4.0)\n",
            "Requirement already satisfied: webencodings in /usr/local/lib/python3.11/dist-packages (from kaggle) (0.5.1)\n",
            "Mounted at /content/drive\n",
            "Downloading walmart-recruiting-store-sales-forecasting.zip to /content\n",
            "  0% 0.00/2.70M [00:00<?, ?B/s]\n",
            "100% 2.70M/2.70M [00:00<00:00, 722MB/s]\n",
            "Archive:  walmart-recruiting-store-sales-forecasting.zip\n",
            "  inflating: features.csv.zip        \n",
            "  inflating: sampleSubmission.csv.zip  \n",
            "  inflating: stores.csv              \n",
            "  inflating: test.csv.zip            \n",
            "  inflating: train.csv.zip           \n",
            "Archive:  features.csv.zip\n",
            "  inflating: features.csv            \n",
            "Archive:  train.csv.zip\n",
            "  inflating: train.csv               \n",
            "Archive:  test.csv.zip\n",
            "  inflating: test.csv                \n",
            "Archive:  sampleSubmission.csv.zip\n",
            "  inflating: sampleSubmission.csv    \n"
          ]
        }
      ],
      "source": [
        "! pip install kaggle\n",
        "from google.colab import drive\n",
        "drive.mount('/content/drive')\n",
        "! mkdir ~/.kaggle\n",
        "! cp /content/drive/MyDrive/cs231n/assignments/finalproject/kaggle.json ~/.kaggle/kaggle.json\n",
        "! chmod 600 ~/.kaggle/kaggle.json\n",
        "! kaggle competitions download -c walmart-recruiting-store-sales-forecasting\n",
        "! unzip walmart-recruiting-store-sales-forecasting.zip\n",
        "!unzip features.csv.zip\n",
        "!unzip train.csv.zip\n",
        "!unzip test.csv.zip\n",
        "!unzip sampleSubmission.csv.zip"
      ]
    },
    {
      "cell_type": "code",
      "source": [
        "import pandas as pd\n",
        "\n",
        "train = pd.read_csv(\"train.csv\")\n",
        "test = pd.read_csv(\"test.csv\")\n",
        "features = pd.read_csv(\"features.csv\")\n",
        "stores = pd.read_csv(\"stores.csv\")"
      ],
      "metadata": {
        "id": "yAmqxuPQIvs4"
      },
      "execution_count": 3,
      "outputs": []
    },
    {
      "cell_type": "code",
      "source": [
        "print(\"Train:\")\n",
        "print(train.head())\n",
        "\n",
        "print(\"\\nTest:\")\n",
        "print(test.head())\n",
        "\n",
        "print(\"\\nFeatures:\")\n",
        "print(features.head())\n",
        "\n",
        "print(\"\\nStores:\")\n",
        "print(stores.head())\n",
        "train.info()\n",
        "features.info()"
      ],
      "metadata": {
        "colab": {
          "base_uri": "https://localhost:8080/"
        },
        "id": "CUwsboL5Iy-m",
        "outputId": "eb155e06-c0c8-4170-ddfd-309b3caa0703"
      },
      "execution_count": 4,
      "outputs": [
        {
          "output_type": "stream",
          "name": "stdout",
          "text": [
            "Train:\n",
            "   Store  Dept        Date  Weekly_Sales  IsHoliday\n",
            "0      1     1  2010-02-05      24924.50      False\n",
            "1      1     1  2010-02-12      46039.49       True\n",
            "2      1     1  2010-02-19      41595.55      False\n",
            "3      1     1  2010-02-26      19403.54      False\n",
            "4      1     1  2010-03-05      21827.90      False\n",
            "\n",
            "Test:\n",
            "   Store  Dept        Date  IsHoliday\n",
            "0      1     1  2012-11-02      False\n",
            "1      1     1  2012-11-09      False\n",
            "2      1     1  2012-11-16      False\n",
            "3      1     1  2012-11-23       True\n",
            "4      1     1  2012-11-30      False\n",
            "\n",
            "Features:\n",
            "   Store        Date  Temperature  Fuel_Price  MarkDown1  MarkDown2  \\\n",
            "0      1  2010-02-05        42.31       2.572        NaN        NaN   \n",
            "1      1  2010-02-12        38.51       2.548        NaN        NaN   \n",
            "2      1  2010-02-19        39.93       2.514        NaN        NaN   \n",
            "3      1  2010-02-26        46.63       2.561        NaN        NaN   \n",
            "4      1  2010-03-05        46.50       2.625        NaN        NaN   \n",
            "\n",
            "   MarkDown3  MarkDown4  MarkDown5         CPI  Unemployment  IsHoliday  \n",
            "0        NaN        NaN        NaN  211.096358         8.106      False  \n",
            "1        NaN        NaN        NaN  211.242170         8.106       True  \n",
            "2        NaN        NaN        NaN  211.289143         8.106      False  \n",
            "3        NaN        NaN        NaN  211.319643         8.106      False  \n",
            "4        NaN        NaN        NaN  211.350143         8.106      False  \n",
            "\n",
            "Stores:\n",
            "   Store Type    Size\n",
            "0      1    A  151315\n",
            "1      2    A  202307\n",
            "2      3    B   37392\n",
            "3      4    A  205863\n",
            "4      5    B   34875\n",
            "<class 'pandas.core.frame.DataFrame'>\n",
            "RangeIndex: 421570 entries, 0 to 421569\n",
            "Data columns (total 5 columns):\n",
            " #   Column        Non-Null Count   Dtype  \n",
            "---  ------        --------------   -----  \n",
            " 0   Store         421570 non-null  int64  \n",
            " 1   Dept          421570 non-null  int64  \n",
            " 2   Date          421570 non-null  object \n",
            " 3   Weekly_Sales  421570 non-null  float64\n",
            " 4   IsHoliday     421570 non-null  bool   \n",
            "dtypes: bool(1), float64(1), int64(2), object(1)\n",
            "memory usage: 13.3+ MB\n",
            "<class 'pandas.core.frame.DataFrame'>\n",
            "RangeIndex: 8190 entries, 0 to 8189\n",
            "Data columns (total 12 columns):\n",
            " #   Column        Non-Null Count  Dtype  \n",
            "---  ------        --------------  -----  \n",
            " 0   Store         8190 non-null   int64  \n",
            " 1   Date          8190 non-null   object \n",
            " 2   Temperature   8190 non-null   float64\n",
            " 3   Fuel_Price    8190 non-null   float64\n",
            " 4   MarkDown1     4032 non-null   float64\n",
            " 5   MarkDown2     2921 non-null   float64\n",
            " 6   MarkDown3     3613 non-null   float64\n",
            " 7   MarkDown4     3464 non-null   float64\n",
            " 8   MarkDown5     4050 non-null   float64\n",
            " 9   CPI           7605 non-null   float64\n",
            " 10  Unemployment  7605 non-null   float64\n",
            " 11  IsHoliday     8190 non-null   bool   \n",
            "dtypes: bool(1), float64(9), int64(1), object(1)\n",
            "memory usage: 712.0+ KB\n"
          ]
        }
      ]
    },
    {
      "cell_type": "code",
      "source": [
        "def missing_percent(df):\n",
        "    return df.isna().mean().round(4) * 100\n",
        "\n",
        "print(\"Features missing %:\")\n",
        "print(missing_percent(features))"
      ],
      "metadata": {
        "colab": {
          "base_uri": "https://localhost:8080/"
        },
        "id": "eTDWBrUSSscI",
        "outputId": "cf8f7e36-92a2-4afe-e212-910c85c7b895"
      },
      "execution_count": 5,
      "outputs": [
        {
          "output_type": "stream",
          "name": "stdout",
          "text": [
            "Features missing %:\n",
            "Store            0.00\n",
            "Date             0.00\n",
            "Temperature      0.00\n",
            "Fuel_Price       0.00\n",
            "MarkDown1       50.77\n",
            "MarkDown2       64.33\n",
            "MarkDown3       55.89\n",
            "MarkDown4       57.70\n",
            "MarkDown5       50.55\n",
            "CPI              7.14\n",
            "Unemployment     7.14\n",
            "IsHoliday        0.00\n",
            "dtype: float64\n"
          ]
        }
      ]
    },
    {
      "cell_type": "code",
      "source": [
        "from sklearn.base import BaseEstimator, TransformerMixin\n",
        "import pandas as pd\n",
        "import numpy as np\n",
        "\n",
        "class Preprocessor(BaseEstimator, TransformerMixin):\n",
        "    def __init__(self, features_df, stores_df):\n",
        "        self.features_df = features_df\n",
        "        self.stores_df = stores_df\n",
        "        self.cpi_median = None\n",
        "        self.unemployment_median = None\n",
        "        self.markdown_medians = {}\n",
        "\n",
        "    def fit(self, X, y=None):\n",
        "        # Ensure X is copied before merging to avoid modifying original data passed to fit\n",
        "        df = pd.merge(X.copy(), self.features_df, on=[\"Store\", \"Date\", \"IsHoliday\"], how=\"left\")\n",
        "        df = pd.merge(df, self.stores_df, on=\"Store\", how=\"left\")\n",
        "\n",
        "        self.cpi_median = df[\"CPI\"].median()\n",
        "        self.unemployment_median = df[\"Unemployment\"].median()\n",
        "\n",
        "        markdown_cols = [f\"MarkDown{i}\" for i in range(1, 6)]\n",
        "        for col in markdown_cols:\n",
        "            self.markdown_medians[col] = df[col].median()\n",
        "\n",
        "        return self\n",
        "\n",
        "    def transform(self, X):\n",
        "        df = X.copy() # Work on a copy\n",
        "\n",
        "        df = pd.merge(df, self.features_df, on=[\"Store\", \"Date\", \"IsHoliday\"], how=\"left\")\n",
        "        df = pd.merge(df, self.stores_df, on=\"Store\", how=\"left\")\n",
        "        df[\"Date\"] = pd.to_datetime(df[\"Date\"])\n",
        "        df[\"IsHoliday\"] = df[\"IsHoliday\"].astype(int)\n",
        "\n",
        "        for col, median in self.markdown_medians.items():\n",
        "            df[col] = df[col].fillna(median)\n",
        "\n",
        "        df[\"CPI\"] = df[\"CPI\"].fillna(self.cpi_median)\n",
        "        df[\"Unemployment\"] = df[\"Unemployment\"].fillna(self.unemployment_median)\n",
        "\n",
        "        df[\"Type\"] = df[\"Type\"].map({\"A\": 0, \"B\": 1, \"C\": 2})\n",
        "\n",
        "        # This part should only process Weekly_Sales if it exists and is not the target for prediction\n",
        "        # (i.e., during training or for evaluation data where y is known)\n",
        "        if \"Weekly_Sales\" in df.columns:\n",
        "            df[\"Weekly_Sales\"] = df[\"Weekly_Sales\"].apply(lambda x: max(0, x))\n",
        "\n",
        "        return df\n",
        "\n",
        "class FeatureEngineer(BaseEstimator, TransformerMixin):\n",
        "    def __init__(self, major_holiday_dates, holiday_dates_dict):\n",
        "        self.major_holiday_dates = pd.to_datetime(major_holiday_dates)\n",
        "        self.holiday_dates_dict = {k: pd.to_datetime(v) for k, v in holiday_dates_dict.items()}\n",
        "\n",
        "        self._history_for_prediction = pd.DataFrame()\n",
        "        self.max_lookback = max(max([1, 2, 3]), max([4, 12, 26]))\n",
        "\n",
        "    def fit(self, X, y=None):\n",
        "        # During fit, we capture the tail of the training data.\n",
        "        X_sorted = X.sort_values(by=[\"Store\", \"Dept\", \"Date\"]).copy()\n",
        "\n",
        "        relevant_cols = [\"Store\", \"Dept\", \"Date\", \"Weekly_Sales\"]\n",
        "\n",
        "        # For each Store-Dept combination, get the last 'max_lookback' rows\n",
        "        self._history_for_prediction = X_sorted.groupby([\"Store\", \"Dept\"]).tail(self.max_lookback)[relevant_cols].copy()\n",
        "\n",
        "        return self\n",
        "\n",
        "    def transform(self, X):\n",
        "        X_processed = X.copy()\n",
        "\n",
        "        # Check if Weekly_Sales is present in the input X.\n",
        "        # This determines if we are in \"training/evaluation\" mode or \"prediction\" mode.\n",
        "        weekly_sales_present_in_input = \"Weekly_Sales\" in X_processed.columns\n",
        "\n",
        "        combined_df = None # Initialize combined_df\n",
        "\n",
        "        # If in prediction mode (Weekly_Sales is missing from input X) and we have history\n",
        "        if not weekly_sales_present_in_input and not self._history_for_prediction.empty:\n",
        "            stores_depts_in_X = X_processed[[\"Store\", \"Dept\"]].drop_duplicates()\n",
        "            relevant_history = self._history_for_prediction.merge(stores_depts_in_X, on=[\"Store\", \"Dept\"], how=\"inner\")\n",
        "\n",
        "            # Ensure 'Weekly_Sales' column is present in X_processed if it's the target, but filled with NaN\n",
        "            # This is to ensure concatenation works and we can identify the original rows later\n",
        "            if 'Weekly_Sales' not in X_processed.columns:\n",
        "                X_processed['Weekly_Sales'] = np.nan # Add as NaN for the prediction rows\n",
        "\n",
        "            combined_df = pd.concat([relevant_history, X_processed], ignore_index=True)\n",
        "            combined_df = combined_df.sort_values(by=[\"Store\", \"Dept\", \"Date\"])\n",
        "\n",
        "            # Temporarily treat 0s in Weekly_Sales (if any exist in history and represent missing) as NaN for MA/lag calculation\n",
        "            # This is crucial for correct statistical calculation and avoid skewing means\n",
        "            combined_df['Weekly_Sales'] = combined_df['Weekly_Sales'].replace(0, np.nan)\n",
        "\n",
        "        else: # During training/validation, Weekly_Sales is present in X\n",
        "            combined_df = X_processed.copy()\n",
        "            combined_df = combined_df.sort_values(by=[\"Store\", \"Dept\", \"Date\"])\n",
        "            # Similar treatment for 0s in training data if they signify missing values for MA/lag\n",
        "            combined_df['Weekly_Sales'] = combined_df['Weekly_Sales'].replace(0, np.nan)\n",
        "\n",
        "        # Create time-based features\n",
        "        combined_df[\"Year\"] = combined_df[\"Date\"].dt.year\n",
        "        combined_df[\"Month\"] = combined_df[\"Date\"].dt.month\n",
        "        combined_df[\"Week\"] = combined_df[\"Date\"].dt.isocalendar().week\n",
        "        combined_df[\"Day\"] = combined_df[\"Date\"].dt.dayofweek\n",
        "\n",
        "        # Calculate Lag and Moving Averages\n",
        "        for lag in [1, 2, 3]:\n",
        "            col = f\"Weekly_Sales_Lag{lag}\"\n",
        "            combined_df[col] = combined_df.groupby([\"Store\", \"Dept\"])[\"Weekly_Sales\"].shift(lag)\n",
        "            combined_df[col] = combined_df[col].fillna(0) # Fill NaNs from shift with 0\n",
        "\n",
        "        for window in [4, 12, 26]:\n",
        "            col = f\"Weekly_Sales_MA{window}\"\n",
        "            combined_df[col] = combined_df.groupby([\"Store\", \"Dept\"])[\"Weekly_Sales\"].transform(\n",
        "                lambda x: x.rolling(window=window, min_periods=1).mean()\n",
        "            )\n",
        "            combined_df[col] = combined_df[col].fillna(0) # Fill NaNs from rolling with 0\n",
        "\n",
        "        # Holiday-related features\n",
        "        def days_to_next_holiday(date):\n",
        "            future = self.major_holiday_dates[self.major_holiday_dates > date]\n",
        "            return (future.min() - date).days if len(future) else -1\n",
        "\n",
        "        def days_since_last_holiday(date):\n",
        "            past = self.major_holiday_dates[self.major_holiday_dates < date]\n",
        "            return (date - past.max()).days if len(past) else -1\n",
        "\n",
        "        combined_df[\"Days_To_Next_Holiday\"] = combined_df[\"Date\"].apply(days_to_next_holiday)\n",
        "        combined_df[\"Days_Since_Last_Holiday\"] = combined_df[\"Date\"].apply(days_since_last_holiday)\n",
        "\n",
        "        for holiday, dates in self.holiday_dates_dict.items():\n",
        "            combined_df[holiday] = combined_df[\"Date\"].isin(dates).astype(int)\n",
        "\n",
        "\n",
        "        if not weekly_sales_present_in_input:\n",
        "            final_df = combined_df.tail(len(X_processed)).drop(columns=[\"Weekly_Sales\"], errors=\"ignore\")\n",
        "        else:\n",
        "            final_df = combined_df.copy()\n",
        "            final_df['Weekly_Sales'] = final_df['Weekly_Sales'].fillna(0) # Fill NaNs that weren't for lag/MA\n",
        "            final_df[\"Weekly_Sales\"] = final_df[\"Weekly_Sales\"].apply(lambda x: max(0, x))\n",
        "\n",
        "        return final_df\n",
        "\n",
        "\n",
        "class FeatureSelector(BaseEstimator, TransformerMixin):\n",
        "    def __init__(self, drop_columns=None):\n",
        "        self.drop_columns = drop_columns if drop_columns else []\n",
        "\n",
        "    def fit(self, X, y=None):\n",
        "        return self\n",
        "\n",
        "    def transform(self, X):\n",
        "        return X.drop(columns=self.drop_columns, errors=\"ignore\").copy()"
      ],
      "metadata": {
        "id": "3rY6hjGZX2z1"
      },
      "execution_count": 6,
      "outputs": []
    },
    {
      "cell_type": "code",
      "source": [
        "from sklearn.pipeline import Pipeline\n",
        "\n",
        "holiday_dates_dict = {\n",
        "    \"Super_Bowl\": [\"2010-02-12\", \"2011-02-11\", \"2012-02-10\", \"2013-02-08\"],\n",
        "    \"Labor_Day\": [\"2010-09-10\", \"2011-09-09\", \"2012-09-07\", \"2013-09-06\"],\n",
        "    \"Thanksgiving\": [\"2010-11-26\", \"2011-11-25\", \"2012-11-23\", \"2013-11-29\"],\n",
        "    \"Christmas\": [\"2010-12-31\", \"2011-12-30\", \"2012-12-28\", \"2013-12-27\"]\n",
        "}\n",
        "\n",
        "# Extract major holiday dates from train\n",
        "major_holiday_dates = train[train[\"IsHoliday\"] == True][\"Date\"].unique()\n",
        "\n",
        "# Define pipeline\n",
        "pipeline = Pipeline(steps=[\n",
        "    (\"preprocessing\", Preprocessor(features, stores)),\n",
        "    (\"feature_engineering\", FeatureEngineer(major_holiday_dates, holiday_dates_dict)),\n",
        "    (\"feature_selection\", FeatureSelector(drop_columns=[\"Temperature\", \"Fuel_Price\"]))\n",
        "])\n",
        "\n",
        "# Run pipeline\n",
        "processed_train = pipeline.fit_transform(train)\n",
        "processed_test = pipeline.transform(test)\n",
        "processed_train.head()"
      ],
      "metadata": {
        "colab": {
          "base_uri": "https://localhost:8080/",
          "height": 377
        },
        "id": "BAb9vHV2Udow",
        "outputId": "d0684505-4171-4142-d3e0-21c41a42c507"
      },
      "execution_count": 7,
      "outputs": [
        {
          "output_type": "stream",
          "name": "stderr",
          "text": [
            "/usr/local/lib/python3.11/dist-packages/sklearn/pipeline.py:62: FutureWarning: This Pipeline instance is not fitted yet. Call 'fit' with appropriate arguments before using other methods such as transform, predict, etc. This will raise an error in 1.8 instead of the current warning.\n",
            "  warnings.warn(\n"
          ]
        },
        {
          "output_type": "execute_result",
          "data": {
            "text/plain": [
              "   Store  Dept       Date  Weekly_Sales  IsHoliday  MarkDown1  MarkDown2  \\\n",
              "0      1     1 2010-02-05      24924.50          0    5347.45      192.0   \n",
              "1      1     1 2010-02-12      46039.49          1    5347.45      192.0   \n",
              "2      1     1 2010-02-19      41595.55          0    5347.45      192.0   \n",
              "3      1     1 2010-02-26      19403.54          0    5347.45      192.0   \n",
              "4      1     1 2010-03-05      21827.90          0    5347.45      192.0   \n",
              "\n",
              "   MarkDown3  MarkDown4  MarkDown5  ...  Weekly_Sales_Lag3  Weekly_Sales_MA4  \\\n",
              "0       24.6    1481.31    3359.45  ...               0.00      24924.500000   \n",
              "1       24.6    1481.31    3359.45  ...               0.00      35481.995000   \n",
              "2       24.6    1481.31    3359.45  ...               0.00      37519.846667   \n",
              "3       24.6    1481.31    3359.45  ...           24924.50      32990.770000   \n",
              "4       24.6    1481.31    3359.45  ...           46039.49      32216.620000   \n",
              "\n",
              "   Weekly_Sales_MA12  Weekly_Sales_MA26  Days_To_Next_Holiday  \\\n",
              "0       24924.500000       24924.500000                     7   \n",
              "1       35481.995000       35481.995000                   210   \n",
              "2       37519.846667       37519.846667                   203   \n",
              "3       32990.770000       32990.770000                   196   \n",
              "4       30758.196000       30758.196000                   189   \n",
              "\n",
              "   Days_Since_Last_Holiday  Super_Bowl  Labor_Day  Thanksgiving  Christmas  \n",
              "0                       -1           0          0             0          0  \n",
              "1                       -1           1          0             0          0  \n",
              "2                        7           0          0             0          0  \n",
              "3                       14           0          0             0          0  \n",
              "4                       21           0          0             0          0  \n",
              "\n",
              "[5 rows x 30 columns]"
            ],
            "text/html": [
              "\n",
              "  <div id=\"df-3734dc80-6544-4bf2-809f-88603f67b77e\" class=\"colab-df-container\">\n",
              "    <div>\n",
              "<style scoped>\n",
              "    .dataframe tbody tr th:only-of-type {\n",
              "        vertical-align: middle;\n",
              "    }\n",
              "\n",
              "    .dataframe tbody tr th {\n",
              "        vertical-align: top;\n",
              "    }\n",
              "\n",
              "    .dataframe thead th {\n",
              "        text-align: right;\n",
              "    }\n",
              "</style>\n",
              "<table border=\"1\" class=\"dataframe\">\n",
              "  <thead>\n",
              "    <tr style=\"text-align: right;\">\n",
              "      <th></th>\n",
              "      <th>Store</th>\n",
              "      <th>Dept</th>\n",
              "      <th>Date</th>\n",
              "      <th>Weekly_Sales</th>\n",
              "      <th>IsHoliday</th>\n",
              "      <th>MarkDown1</th>\n",
              "      <th>MarkDown2</th>\n",
              "      <th>MarkDown3</th>\n",
              "      <th>MarkDown4</th>\n",
              "      <th>MarkDown5</th>\n",
              "      <th>...</th>\n",
              "      <th>Weekly_Sales_Lag3</th>\n",
              "      <th>Weekly_Sales_MA4</th>\n",
              "      <th>Weekly_Sales_MA12</th>\n",
              "      <th>Weekly_Sales_MA26</th>\n",
              "      <th>Days_To_Next_Holiday</th>\n",
              "      <th>Days_Since_Last_Holiday</th>\n",
              "      <th>Super_Bowl</th>\n",
              "      <th>Labor_Day</th>\n",
              "      <th>Thanksgiving</th>\n",
              "      <th>Christmas</th>\n",
              "    </tr>\n",
              "  </thead>\n",
              "  <tbody>\n",
              "    <tr>\n",
              "      <th>0</th>\n",
              "      <td>1</td>\n",
              "      <td>1</td>\n",
              "      <td>2010-02-05</td>\n",
              "      <td>24924.50</td>\n",
              "      <td>0</td>\n",
              "      <td>5347.45</td>\n",
              "      <td>192.0</td>\n",
              "      <td>24.6</td>\n",
              "      <td>1481.31</td>\n",
              "      <td>3359.45</td>\n",
              "      <td>...</td>\n",
              "      <td>0.00</td>\n",
              "      <td>24924.500000</td>\n",
              "      <td>24924.500000</td>\n",
              "      <td>24924.500000</td>\n",
              "      <td>7</td>\n",
              "      <td>-1</td>\n",
              "      <td>0</td>\n",
              "      <td>0</td>\n",
              "      <td>0</td>\n",
              "      <td>0</td>\n",
              "    </tr>\n",
              "    <tr>\n",
              "      <th>1</th>\n",
              "      <td>1</td>\n",
              "      <td>1</td>\n",
              "      <td>2010-02-12</td>\n",
              "      <td>46039.49</td>\n",
              "      <td>1</td>\n",
              "      <td>5347.45</td>\n",
              "      <td>192.0</td>\n",
              "      <td>24.6</td>\n",
              "      <td>1481.31</td>\n",
              "      <td>3359.45</td>\n",
              "      <td>...</td>\n",
              "      <td>0.00</td>\n",
              "      <td>35481.995000</td>\n",
              "      <td>35481.995000</td>\n",
              "      <td>35481.995000</td>\n",
              "      <td>210</td>\n",
              "      <td>-1</td>\n",
              "      <td>1</td>\n",
              "      <td>0</td>\n",
              "      <td>0</td>\n",
              "      <td>0</td>\n",
              "    </tr>\n",
              "    <tr>\n",
              "      <th>2</th>\n",
              "      <td>1</td>\n",
              "      <td>1</td>\n",
              "      <td>2010-02-19</td>\n",
              "      <td>41595.55</td>\n",
              "      <td>0</td>\n",
              "      <td>5347.45</td>\n",
              "      <td>192.0</td>\n",
              "      <td>24.6</td>\n",
              "      <td>1481.31</td>\n",
              "      <td>3359.45</td>\n",
              "      <td>...</td>\n",
              "      <td>0.00</td>\n",
              "      <td>37519.846667</td>\n",
              "      <td>37519.846667</td>\n",
              "      <td>37519.846667</td>\n",
              "      <td>203</td>\n",
              "      <td>7</td>\n",
              "      <td>0</td>\n",
              "      <td>0</td>\n",
              "      <td>0</td>\n",
              "      <td>0</td>\n",
              "    </tr>\n",
              "    <tr>\n",
              "      <th>3</th>\n",
              "      <td>1</td>\n",
              "      <td>1</td>\n",
              "      <td>2010-02-26</td>\n",
              "      <td>19403.54</td>\n",
              "      <td>0</td>\n",
              "      <td>5347.45</td>\n",
              "      <td>192.0</td>\n",
              "      <td>24.6</td>\n",
              "      <td>1481.31</td>\n",
              "      <td>3359.45</td>\n",
              "      <td>...</td>\n",
              "      <td>24924.50</td>\n",
              "      <td>32990.770000</td>\n",
              "      <td>32990.770000</td>\n",
              "      <td>32990.770000</td>\n",
              "      <td>196</td>\n",
              "      <td>14</td>\n",
              "      <td>0</td>\n",
              "      <td>0</td>\n",
              "      <td>0</td>\n",
              "      <td>0</td>\n",
              "    </tr>\n",
              "    <tr>\n",
              "      <th>4</th>\n",
              "      <td>1</td>\n",
              "      <td>1</td>\n",
              "      <td>2010-03-05</td>\n",
              "      <td>21827.90</td>\n",
              "      <td>0</td>\n",
              "      <td>5347.45</td>\n",
              "      <td>192.0</td>\n",
              "      <td>24.6</td>\n",
              "      <td>1481.31</td>\n",
              "      <td>3359.45</td>\n",
              "      <td>...</td>\n",
              "      <td>46039.49</td>\n",
              "      <td>32216.620000</td>\n",
              "      <td>30758.196000</td>\n",
              "      <td>30758.196000</td>\n",
              "      <td>189</td>\n",
              "      <td>21</td>\n",
              "      <td>0</td>\n",
              "      <td>0</td>\n",
              "      <td>0</td>\n",
              "      <td>0</td>\n",
              "    </tr>\n",
              "  </tbody>\n",
              "</table>\n",
              "<p>5 rows × 30 columns</p>\n",
              "</div>\n",
              "    <div class=\"colab-df-buttons\">\n",
              "\n",
              "  <div class=\"colab-df-container\">\n",
              "    <button class=\"colab-df-convert\" onclick=\"convertToInteractive('df-3734dc80-6544-4bf2-809f-88603f67b77e')\"\n",
              "            title=\"Convert this dataframe to an interactive table.\"\n",
              "            style=\"display:none;\">\n",
              "\n",
              "  <svg xmlns=\"http://www.w3.org/2000/svg\" height=\"24px\" viewBox=\"0 -960 960 960\">\n",
              "    <path d=\"M120-120v-720h720v720H120Zm60-500h600v-160H180v160Zm220 220h160v-160H400v160Zm0 220h160v-160H400v160ZM180-400h160v-160H180v160Zm440 0h160v-160H620v160ZM180-180h160v-160H180v160Zm440 0h160v-160H620v160Z\"/>\n",
              "  </svg>\n",
              "    </button>\n",
              "\n",
              "  <style>\n",
              "    .colab-df-container {\n",
              "      display:flex;\n",
              "      gap: 12px;\n",
              "    }\n",
              "\n",
              "    .colab-df-convert {\n",
              "      background-color: #E8F0FE;\n",
              "      border: none;\n",
              "      border-radius: 50%;\n",
              "      cursor: pointer;\n",
              "      display: none;\n",
              "      fill: #1967D2;\n",
              "      height: 32px;\n",
              "      padding: 0 0 0 0;\n",
              "      width: 32px;\n",
              "    }\n",
              "\n",
              "    .colab-df-convert:hover {\n",
              "      background-color: #E2EBFA;\n",
              "      box-shadow: 0px 1px 2px rgba(60, 64, 67, 0.3), 0px 1px 3px 1px rgba(60, 64, 67, 0.15);\n",
              "      fill: #174EA6;\n",
              "    }\n",
              "\n",
              "    .colab-df-buttons div {\n",
              "      margin-bottom: 4px;\n",
              "    }\n",
              "\n",
              "    [theme=dark] .colab-df-convert {\n",
              "      background-color: #3B4455;\n",
              "      fill: #D2E3FC;\n",
              "    }\n",
              "\n",
              "    [theme=dark] .colab-df-convert:hover {\n",
              "      background-color: #434B5C;\n",
              "      box-shadow: 0px 1px 3px 1px rgba(0, 0, 0, 0.15);\n",
              "      filter: drop-shadow(0px 1px 2px rgba(0, 0, 0, 0.3));\n",
              "      fill: #FFFFFF;\n",
              "    }\n",
              "  </style>\n",
              "\n",
              "    <script>\n",
              "      const buttonEl =\n",
              "        document.querySelector('#df-3734dc80-6544-4bf2-809f-88603f67b77e button.colab-df-convert');\n",
              "      buttonEl.style.display =\n",
              "        google.colab.kernel.accessAllowed ? 'block' : 'none';\n",
              "\n",
              "      async function convertToInteractive(key) {\n",
              "        const element = document.querySelector('#df-3734dc80-6544-4bf2-809f-88603f67b77e');\n",
              "        const dataTable =\n",
              "          await google.colab.kernel.invokeFunction('convertToInteractive',\n",
              "                                                    [key], {});\n",
              "        if (!dataTable) return;\n",
              "\n",
              "        const docLinkHtml = 'Like what you see? Visit the ' +\n",
              "          '<a target=\"_blank\" href=https://colab.research.google.com/notebooks/data_table.ipynb>data table notebook</a>'\n",
              "          + ' to learn more about interactive tables.';\n",
              "        element.innerHTML = '';\n",
              "        dataTable['output_type'] = 'display_data';\n",
              "        await google.colab.output.renderOutput(dataTable, element);\n",
              "        const docLink = document.createElement('div');\n",
              "        docLink.innerHTML = docLinkHtml;\n",
              "        element.appendChild(docLink);\n",
              "      }\n",
              "    </script>\n",
              "  </div>\n",
              "\n",
              "\n",
              "    <div id=\"df-fca6d34d-926d-4ee1-9102-51a9244a52fc\">\n",
              "      <button class=\"colab-df-quickchart\" onclick=\"quickchart('df-fca6d34d-926d-4ee1-9102-51a9244a52fc')\"\n",
              "                title=\"Suggest charts\"\n",
              "                style=\"display:none;\">\n",
              "\n",
              "<svg xmlns=\"http://www.w3.org/2000/svg\" height=\"24px\"viewBox=\"0 0 24 24\"\n",
              "     width=\"24px\">\n",
              "    <g>\n",
              "        <path d=\"M19 3H5c-1.1 0-2 .9-2 2v14c0 1.1.9 2 2 2h14c1.1 0 2-.9 2-2V5c0-1.1-.9-2-2-2zM9 17H7v-7h2v7zm4 0h-2V7h2v10zm4 0h-2v-4h2v4z\"/>\n",
              "    </g>\n",
              "</svg>\n",
              "      </button>\n",
              "\n",
              "<style>\n",
              "  .colab-df-quickchart {\n",
              "      --bg-color: #E8F0FE;\n",
              "      --fill-color: #1967D2;\n",
              "      --hover-bg-color: #E2EBFA;\n",
              "      --hover-fill-color: #174EA6;\n",
              "      --disabled-fill-color: #AAA;\n",
              "      --disabled-bg-color: #DDD;\n",
              "  }\n",
              "\n",
              "  [theme=dark] .colab-df-quickchart {\n",
              "      --bg-color: #3B4455;\n",
              "      --fill-color: #D2E3FC;\n",
              "      --hover-bg-color: #434B5C;\n",
              "      --hover-fill-color: #FFFFFF;\n",
              "      --disabled-bg-color: #3B4455;\n",
              "      --disabled-fill-color: #666;\n",
              "  }\n",
              "\n",
              "  .colab-df-quickchart {\n",
              "    background-color: var(--bg-color);\n",
              "    border: none;\n",
              "    border-radius: 50%;\n",
              "    cursor: pointer;\n",
              "    display: none;\n",
              "    fill: var(--fill-color);\n",
              "    height: 32px;\n",
              "    padding: 0;\n",
              "    width: 32px;\n",
              "  }\n",
              "\n",
              "  .colab-df-quickchart:hover {\n",
              "    background-color: var(--hover-bg-color);\n",
              "    box-shadow: 0 1px 2px rgba(60, 64, 67, 0.3), 0 1px 3px 1px rgba(60, 64, 67, 0.15);\n",
              "    fill: var(--button-hover-fill-color);\n",
              "  }\n",
              "\n",
              "  .colab-df-quickchart-complete:disabled,\n",
              "  .colab-df-quickchart-complete:disabled:hover {\n",
              "    background-color: var(--disabled-bg-color);\n",
              "    fill: var(--disabled-fill-color);\n",
              "    box-shadow: none;\n",
              "  }\n",
              "\n",
              "  .colab-df-spinner {\n",
              "    border: 2px solid var(--fill-color);\n",
              "    border-color: transparent;\n",
              "    border-bottom-color: var(--fill-color);\n",
              "    animation:\n",
              "      spin 1s steps(1) infinite;\n",
              "  }\n",
              "\n",
              "  @keyframes spin {\n",
              "    0% {\n",
              "      border-color: transparent;\n",
              "      border-bottom-color: var(--fill-color);\n",
              "      border-left-color: var(--fill-color);\n",
              "    }\n",
              "    20% {\n",
              "      border-color: transparent;\n",
              "      border-left-color: var(--fill-color);\n",
              "      border-top-color: var(--fill-color);\n",
              "    }\n",
              "    30% {\n",
              "      border-color: transparent;\n",
              "      border-left-color: var(--fill-color);\n",
              "      border-top-color: var(--fill-color);\n",
              "      border-right-color: var(--fill-color);\n",
              "    }\n",
              "    40% {\n",
              "      border-color: transparent;\n",
              "      border-right-color: var(--fill-color);\n",
              "      border-top-color: var(--fill-color);\n",
              "    }\n",
              "    60% {\n",
              "      border-color: transparent;\n",
              "      border-right-color: var(--fill-color);\n",
              "    }\n",
              "    80% {\n",
              "      border-color: transparent;\n",
              "      border-right-color: var(--fill-color);\n",
              "      border-bottom-color: var(--fill-color);\n",
              "    }\n",
              "    90% {\n",
              "      border-color: transparent;\n",
              "      border-bottom-color: var(--fill-color);\n",
              "    }\n",
              "  }\n",
              "</style>\n",
              "\n",
              "      <script>\n",
              "        async function quickchart(key) {\n",
              "          const quickchartButtonEl =\n",
              "            document.querySelector('#' + key + ' button');\n",
              "          quickchartButtonEl.disabled = true;  // To prevent multiple clicks.\n",
              "          quickchartButtonEl.classList.add('colab-df-spinner');\n",
              "          try {\n",
              "            const charts = await google.colab.kernel.invokeFunction(\n",
              "                'suggestCharts', [key], {});\n",
              "          } catch (error) {\n",
              "            console.error('Error during call to suggestCharts:', error);\n",
              "          }\n",
              "          quickchartButtonEl.classList.remove('colab-df-spinner');\n",
              "          quickchartButtonEl.classList.add('colab-df-quickchart-complete');\n",
              "        }\n",
              "        (() => {\n",
              "          let quickchartButtonEl =\n",
              "            document.querySelector('#df-fca6d34d-926d-4ee1-9102-51a9244a52fc button');\n",
              "          quickchartButtonEl.style.display =\n",
              "            google.colab.kernel.accessAllowed ? 'block' : 'none';\n",
              "        })();\n",
              "      </script>\n",
              "    </div>\n",
              "\n",
              "    </div>\n",
              "  </div>\n"
            ],
            "application/vnd.google.colaboratory.intrinsic+json": {
              "type": "dataframe",
              "variable_name": "processed_train"
            }
          },
          "metadata": {},
          "execution_count": 7
        }
      ]
    },
    {
      "cell_type": "code",
      "source": [
        "processed_train.shape"
      ],
      "metadata": {
        "colab": {
          "base_uri": "https://localhost:8080/"
        },
        "id": "PLL7xuSRWZCD",
        "outputId": "96739f1a-1ede-4f7f-b367-842fbe7c802f"
      },
      "execution_count": 8,
      "outputs": [
        {
          "output_type": "execute_result",
          "data": {
            "text/plain": [
              "(421570, 30)"
            ]
          },
          "metadata": {},
          "execution_count": 8
        }
      ]
    },
    {
      "cell_type": "code",
      "source": [
        "processed_test.shape"
      ],
      "metadata": {
        "colab": {
          "base_uri": "https://localhost:8080/"
        },
        "id": "Wx4ZaRhMXAm0",
        "outputId": "e80d8690-9188-48d8-92a4-a6022992afac"
      },
      "execution_count": 9,
      "outputs": [
        {
          "output_type": "execute_result",
          "data": {
            "text/plain": [
              "(115064, 29)"
            ]
          },
          "metadata": {},
          "execution_count": 9
        }
      ]
    },
    {
      "cell_type": "code",
      "metadata": {
        "colab": {
          "base_uri": "https://localhost:8080/"
        },
        "id": "8fd2f4a5",
        "outputId": "397a1647-4f8a-4a35-8348-c346d8cbdee5"
      },
      "source": [
        "# Calculate mean and median weekly sales\n",
        "mean_weekly_sales = processed_train['Weekly_Sales'].mean()\n",
        "median_weekly_sales = processed_train['Weekly_Sales'].median()\n",
        "\n",
        "print(f\"Mean weekly sales: ${mean_weekly_sales:.2f}\")\n",
        "print(f\"Median weekly sales: ${median_weekly_sales:.2f}\")\n",
        "\n",
        "# Compare holiday vs Non-Holiday Sales\n",
        "holiday_sales = processed_train.groupby('IsHoliday')['Weekly_Sales'].agg(['mean', 'median', 'count'])\n",
        "\n",
        "print(\"\\nHoliday vs Non-Holiday Sales:\")\n",
        "print(holiday_sales)\n",
        "\n",
        "# Top 5 departments by average sales\n",
        "top_5_departments = processed_train.groupby('Dept')['Weekly_Sales'].mean().sort_values(ascending=False).head()\n",
        "\n",
        "print(\"\\nTop 5 departments by average sales:\")\n",
        "print(top_5_departments)"
      ],
      "execution_count": 10,
      "outputs": [
        {
          "output_type": "stream",
          "name": "stdout",
          "text": [
            "Mean weekly sales: $15981.47\n",
            "Median weekly sales: $7612.03\n",
            "\n",
            "Holiday vs Non-Holiday Sales:\n",
            "                   mean   median   count\n",
            "IsHoliday                               \n",
            "0          15901.649652  7589.95  391909\n",
            "1          17036.092349  7947.74   29661\n",
            "\n",
            "Top 5 departments by average sales:\n",
            "Dept\n",
            "92    75204.870531\n",
            "95    69824.423080\n",
            "38    61090.619568\n",
            "72    50567.019482\n",
            "65    45441.706224\n",
            "Name: Weekly_Sales, dtype: float64\n"
          ]
        }
      ]
    },
    {
      "cell_type": "code",
      "source": [
        "# Ensure data is sorted by date before splitting\n",
        "processed_train = processed_train.sort_values(\"Date\").reset_index(drop=True)\n",
        "\n",
        "# Determine the split sizes\n",
        "train_size = int(len(processed_train) * 0.8)\n",
        "val_size = int(len(processed_train) * 0.1)\n",
        "\n",
        "# Determine the split points by index\n",
        "train_split_date = processed_train.iloc[train_size]['Date']\n",
        "val_split_date = processed_train.iloc[train_size + val_size]['Date']\n",
        "\n",
        "# Convert 'Date' column to datetime if not already\n",
        "processed_train['Date'] = pd.to_datetime(processed_train['Date'])\n",
        "\n",
        "# Vectorized function to find next Friday\n",
        "def find_closest_friday(date, df_dates):\n",
        "    df_dates = pd.Series(df_dates)\n",
        "    return df_dates[(df_dates >= date) & (df_dates.dt.weekday == 4)].min()\n",
        "\n",
        "# Extract unique sorted dates\n",
        "all_dates = pd.Series(processed_train['Date'].unique()).sort_values()\n",
        "\n",
        "# Find adjusted split dates (closest Fridays)\n",
        "train_split_date_friday = find_closest_friday(train_split_date, all_dates)\n",
        "val_split_date_friday = find_closest_friday(val_split_date, all_dates)\n",
        "\n",
        "print(f\"Original train split date: {train_split_date}\")\n",
        "print(f\"Original validation split date: {val_split_date}\")\n",
        "\n",
        "# Apply the time-based split using Friday boundaries\n",
        "train_df = processed_train[processed_train['Date'] < train_split_date_friday]\n",
        "val_df = processed_train[(processed_train['Date'] >= train_split_date_friday) & (processed_train['Date'] < val_split_date_friday)]\n",
        "test_df = processed_train[processed_train['Date'] >= val_split_date_friday]\n",
        "\n",
        "# Reset index\n",
        "train_df = train_df.reset_index(drop=True)\n",
        "val_df = val_df.reset_index(drop=True)\n",
        "test_df = test_df.reset_index(drop=True)\n",
        "\n",
        "# Sanity checks for NaNs\n",
        "assert not train_df.isnull().any().any(), \"NaNs detected in train set\"\n",
        "assert not val_df.isnull().any().any(), \"NaNs detected in val set\"\n",
        "assert not test_df.isnull().any().any(), \"NaNs detected in test set\"\n",
        "\n",
        "# Print shapes\n",
        "print(\"Training set shape:\", train_df.shape)\n",
        "print(\"Validation set shape:\", val_df.shape)\n",
        "print(\"Test set shape:\", test_df.shape)"
      ],
      "metadata": {
        "id": "0ODSZNWtjcu5",
        "colab": {
          "base_uri": "https://localhost:8080/"
        },
        "outputId": "aa5d9535-6e1a-4db6-ff87-a3fa6e50115f"
      },
      "execution_count": 11,
      "outputs": [
        {
          "output_type": "stream",
          "name": "stdout",
          "text": [
            "Original train split date: 2012-04-13 00:00:00\n",
            "Original validation split date: 2012-07-20 00:00:00\n",
            "Training set shape: (335761, 30)\n",
            "Validation set shape: (41394, 30)\n",
            "Test set shape: (44415, 30)\n"
          ]
        }
      ]
    },
    {
      "cell_type": "code",
      "source": [
        "import wandb\n",
        "wandb.login()"
      ],
      "metadata": {
        "colab": {
          "base_uri": "https://localhost:8080/"
        },
        "id": "618o2o-qtnzc",
        "outputId": "b015d443-a073-4016-8082-a71a8dd50a9b"
      },
      "execution_count": 12,
      "outputs": [
        {
          "output_type": "stream",
          "name": "stderr",
          "text": [
            "\u001b[34m\u001b[1mwandb\u001b[0m: \u001b[33mWARNING\u001b[0m Calling wandb.login() after wandb.init() has no effect.\n"
          ]
        },
        {
          "output_type": "execute_result",
          "data": {
            "text/plain": [
              "True"
            ]
          },
          "metadata": {},
          "execution_count": 12
        }
      ]
    },
    {
      "cell_type": "code",
      "source": [
        "TARGET = \"Weekly_Sales\"\n",
        "DROP_COLS = [\"Date\", TARGET]\n",
        "\n",
        "# Features\n",
        "X_train = train_df.drop(columns=DROP_COLS)\n",
        "X_val = val_df.drop(columns=DROP_COLS)\n",
        "X_test = test_df.drop(columns=DROP_COLS)\n",
        "\n",
        "# Targets\n",
        "y_train = train_df[TARGET]\n",
        "y_val = val_df[TARGET]\n",
        "y_test = test_df[TARGET]"
      ],
      "metadata": {
        "id": "5g-84blbuzX5"
      },
      "execution_count": 13,
      "outputs": []
    },
    {
      "cell_type": "code",
      "source": [
        "def WMAE(y_true, y_pred, weights):\n",
        "    return np.round(np.sum(weights * np.abs(y_true - y_pred)) / np.sum(weights), 5)\n",
        "\n",
        "# Use 5 for holiday weeks, 1 otherwise\n",
        "train_weights = np.where(train_df[\"IsHoliday\"] == 1, 5, 1)\n",
        "val_weights = np.where(val_df[\"IsHoliday\"] == 1, 5, 1)\n",
        "test_weights = np.where(test_df[\"IsHoliday\"] == 1, 5, 1)"
      ],
      "metadata": {
        "id": "TZ9abn1s2doe"
      },
      "execution_count": 14,
      "outputs": []
    },
    {
      "cell_type": "code",
      "source": [
        "import lightgbm as lgb\n",
        "from lightgbm import early_stopping, log_evaluation\n",
        "import numpy as np\n",
        "import itertools\n",
        "import wandb\n",
        "import matplotlib.pyplot as plt\n",
        "import seaborn as sns\n",
        "import pandas as pd\n",
        "from collections import defaultdict\n",
        "import plotly.graph_objects as go\n",
        "import plotly.express as px\n",
        "from plotly.subplots import make_subplots\n",
        "\n",
        "# Set style for better plots\n",
        "plt.style.use('seaborn-v0_8')\n",
        "sns.set_palette(\"husl\")\n",
        "\n",
        "wandb.init(project=\"walmart-forecasting\", name=\"GridSearch-WMAE\")\n",
        "\n",
        "# === Define hyperparameter grid ===\n",
        "param_grid = {\n",
        "    \"learning_rate\": [0.01, 0.05, 0.1],\n",
        "    \"num_leaves\": [31, 63],\n",
        "    \"subsample\": [0.8, 1.0],\n",
        "    \"colsample_bytree\": [0.8, 1.0],\n",
        "}\n",
        "\n",
        "# Create combinations of all grid parameters\n",
        "all_params = list(itertools.product(\n",
        "    param_grid[\"learning_rate\"],\n",
        "    param_grid[\"num_leaves\"],\n",
        "    param_grid[\"subsample\"],\n",
        "    param_grid[\"colsample_bytree\"]\n",
        "))\n",
        "\n",
        "# Tracking results\n",
        "results = []\n",
        "best_val_wmae = float(\"inf\")\n",
        "best_model = None\n",
        "best_params = {}\n",
        "\n",
        "print(f\"Starting grid search with {len(all_params)} combinations...\")\n",
        "\n",
        "# === Grid Search ===\n",
        "for i, (lr, leaves, subsample, colsample) in enumerate(all_params):\n",
        "    print(f\"\\n[{i+1}/{len(all_params)}] Training with lr={lr}, leaves={leaves}, subsample={subsample}, colsample={colsample}\")\n",
        "\n",
        "    model = lgb.LGBMRegressor(\n",
        "        objective=\"regression\",\n",
        "        learning_rate=lr,\n",
        "        num_leaves=leaves,\n",
        "        subsample=subsample,\n",
        "        colsample_bytree=colsample,\n",
        "        n_estimators=1000,\n",
        "        random_state=42,\n",
        "        verbosity=-1\n",
        "    )\n",
        "\n",
        "    model.fit(\n",
        "        X_train, y_train,\n",
        "        eval_set=[(X_val, y_val)],\n",
        "        eval_metric=\"mae\",\n",
        "        callbacks=[\n",
        "            early_stopping(stopping_rounds=50),\n",
        "            log_evaluation(period=0)\n",
        "        ]\n",
        "    )\n",
        "\n",
        "    # Predict\n",
        "    val_preds = model.predict(X_val)\n",
        "    test_preds = model.predict(X_test)\n",
        "\n",
        "    # Compute WMAE\n",
        "    val_wmae = WMAE(y_val, val_preds, val_weights)\n",
        "    test_wmae = WMAE(y_test, test_preds, test_weights)\n",
        "\n",
        "    print(f\"→ Val WMAE: {val_wmae:.5f}, Test WMAE: {test_wmae:.5f}\")\n",
        "\n",
        "    # Store results\n",
        "    result = {\n",
        "        \"combination\": i+1,\n",
        "        \"learning_rate\": lr,\n",
        "        \"num_leaves\": leaves,\n",
        "        \"subsample\": subsample,\n",
        "        \"colsample_bytree\": colsample,\n",
        "        \"val_WMAE\": val_wmae,\n",
        "        \"test_WMAE\": test_wmae,\n",
        "        \"n_estimators_used\": model.best_iteration_ if hasattr(model, 'best_iteration_') else model.n_estimators,\n",
        "        \"overfitting\": test_wmae - val_wmae\n",
        "    }\n",
        "    results.append(result)\n",
        "\n",
        "    # Log to W&B\n",
        "    wandb.log({\n",
        "        \"learning_rate\": lr,\n",
        "        \"num_leaves\": leaves,\n",
        "        \"subsample\": subsample,\n",
        "        \"colsample_bytree\": colsample,\n",
        "        \"val_WMAE\": val_wmae,\n",
        "        \"test_WMAE\": test_wmae,\n",
        "        \"overfitting\": test_wmae - val_wmae,\n",
        "        \"n_estimators_used\": result[\"n_estimators_used\"]\n",
        "    })\n",
        "\n",
        "    # Track best\n",
        "    if val_wmae < best_val_wmae:\n",
        "        best_val_wmae = val_wmae\n",
        "        best_model = model\n",
        "        best_params = {\n",
        "            \"learning_rate\": lr,\n",
        "            \"num_leaves\": leaves,\n",
        "            \"subsample\": subsample,\n",
        "            \"colsample_bytree\": colsample\n",
        "        }\n",
        "\n",
        "# Convert results to DataFrame for easier plotting\n",
        "df_results = pd.DataFrame(results)\n",
        "\n",
        "# === VISUALIZATION SECTION ===\n",
        "\n",
        "# 1. Performance Overview Plot\n",
        "fig, axes = plt.subplots(2, 2, figsize=(15, 12))\n",
        "fig.suptitle('Grid Search Results Overview', fontsize=16, fontweight='bold')\n",
        "\n",
        "# Val vs Test WMAE scatter\n",
        "axes[0, 0].scatter(df_results['val_WMAE'], df_results['test_WMAE'],\n",
        "                   alpha=0.7, s=60, c=df_results['learning_rate'], cmap='viridis')\n",
        "axes[0, 0].plot([df_results['val_WMAE'].min(), df_results['val_WMAE'].max()],\n",
        "                [df_results['val_WMAE'].min(), df_results['val_WMAE'].max()],\n",
        "                'r--', alpha=0.5)\n",
        "axes[0, 0].set_xlabel('Validation WMAE')\n",
        "axes[0, 0].set_ylabel('Test WMAE')\n",
        "axes[0, 0].set_title('Validation vs Test WMAE')\n",
        "axes[0, 0].grid(True, alpha=0.3)\n",
        "\n",
        "# Performance by combination\n",
        "axes[0, 1].plot(df_results['combination'], df_results['val_WMAE'],\n",
        "                'o-', label='Validation WMAE', alpha=0.7)\n",
        "axes[0, 1].plot(df_results['combination'], df_results['test_WMAE'],\n",
        "                'o-', label='Test WMAE', alpha=0.7)\n",
        "axes[0, 1].axhline(y=best_val_wmae, color='red', linestyle='--', alpha=0.5, label='Best Val WMAE')\n",
        "axes[0, 1].set_xlabel('Combination #')\n",
        "axes[0, 1].set_ylabel('WMAE')\n",
        "axes[0, 1].set_title('Performance by Combination')\n",
        "axes[0, 1].legend()\n",
        "axes[0, 1].grid(True, alpha=0.3)\n",
        "\n",
        "# Overfitting analysis\n",
        "axes[1, 0].scatter(df_results['val_WMAE'], df_results['overfitting'],\n",
        "                   alpha=0.7, s=60, c=df_results['num_leaves'], cmap='plasma')\n",
        "axes[1, 0].axhline(y=0, color='red', linestyle='--', alpha=0.5)\n",
        "axes[1, 0].set_xlabel('Validation WMAE')\n",
        "axes[1, 0].set_ylabel('Overfitting (Test - Val)')\n",
        "axes[1, 0].set_title('Overfitting Analysis')\n",
        "axes[1, 0].grid(True, alpha=0.3)\n",
        "\n",
        "# Distribution of results\n",
        "axes[1, 1].hist(df_results['val_WMAE'], bins=10, alpha=0.7, label='Validation WMAE')\n",
        "axes[1, 1].hist(df_results['test_WMAE'], bins=10, alpha=0.7, label='Test WMAE')\n",
        "axes[1, 1].axvline(x=best_val_wmae, color='red', linestyle='--', alpha=0.7, label='Best Val WMAE')\n",
        "axes[1, 1].set_xlabel('WMAE')\n",
        "axes[1, 1].set_ylabel('Frequency')\n",
        "axes[1, 1].set_title('WMAE Distribution')\n",
        "axes[1, 1].legend()\n",
        "axes[1, 1].grid(True, alpha=0.3)\n",
        "\n",
        "plt.tight_layout()\n",
        "plt.show()\n",
        "\n",
        "# 2. Hyperparameter Impact Analysis\n",
        "fig, axes = plt.subplots(2, 2, figsize=(15, 12))\n",
        "fig.suptitle('Hyperparameter Impact on Performance', fontsize=16, fontweight='bold')\n",
        "\n",
        "# Learning rate impact\n",
        "lr_grouped = df_results.groupby('learning_rate')['val_WMAE'].agg(['mean', 'std', 'min', 'max'])\n",
        "axes[0, 0].bar(lr_grouped.index.astype(str), lr_grouped['mean'],\n",
        "               yerr=lr_grouped['std'], capsize=5, alpha=0.7)\n",
        "axes[0, 0].set_xlabel('Learning Rate')\n",
        "axes[0, 0].set_ylabel('Average Validation WMAE')\n",
        "axes[0, 0].set_title('Learning Rate Impact')\n",
        "axes[0, 0].grid(True, alpha=0.3)\n",
        "\n",
        "# Num leaves impact\n",
        "leaves_grouped = df_results.groupby('num_leaves')['val_WMAE'].agg(['mean', 'std', 'min', 'max'])\n",
        "axes[0, 1].bar(leaves_grouped.index.astype(str), leaves_grouped['mean'],\n",
        "               yerr=leaves_grouped['std'], capsize=5, alpha=0.7)\n",
        "axes[0, 1].set_xlabel('Number of Leaves')\n",
        "axes[0, 1].set_ylabel('Average Validation WMAE')\n",
        "axes[0, 1].set_title('Number of Leaves Impact')\n",
        "axes[0, 1].grid(True, alpha=0.3)\n",
        "\n",
        "# Subsample impact\n",
        "subsample_grouped = df_results.groupby('subsample')['val_WMAE'].agg(['mean', 'std', 'min', 'max'])\n",
        "axes[1, 0].bar(subsample_grouped.index.astype(str), subsample_grouped['mean'],\n",
        "               yerr=subsample_grouped['std'], capsize=5, alpha=0.7)\n",
        "axes[1, 0].set_xlabel('Subsample')\n",
        "axes[1, 0].set_ylabel('Average Validation WMAE')\n",
        "axes[1, 0].set_title('Subsample Impact')\n",
        "axes[1, 0].grid(True, alpha=0.3)\n",
        "\n",
        "# Colsample impact\n",
        "colsample_grouped = df_results.groupby('colsample_bytree')['val_WMAE'].agg(['mean', 'std', 'min', 'max'])\n",
        "axes[1, 1].bar(colsample_grouped.index.astype(str), colsample_grouped['mean'],\n",
        "               yerr=colsample_grouped['std'], capsize=5, alpha=0.7)\n",
        "axes[1, 1].set_xlabel('Colsample Bytree')\n",
        "axes[1, 1].set_ylabel('Average Validation WMAE')\n",
        "axes[1, 1].set_title('Colsample Bytree Impact')\n",
        "axes[1, 1].grid(True, alpha=0.3)\n",
        "\n",
        "plt.tight_layout()\n",
        "plt.show()\n",
        "\n",
        "# 3. Interactive Plotly Visualization\n",
        "fig = make_subplots(\n",
        "    rows=2, cols=2,\n",
        "    subplot_titles=('Val vs Test WMAE', 'Performance Timeline',\n",
        "                   'Hyperparameter Heatmap', 'Top 5 Combinations'),\n",
        "    specs=[[{\"secondary_y\": False}, {\"secondary_y\": False}],\n",
        "           [{\"secondary_y\": False}, {\"secondary_y\": False}]]\n",
        ")\n",
        "\n",
        "# Val vs Test scatter\n",
        "fig.add_trace(\n",
        "    go.Scatter(\n",
        "        x=df_results['val_WMAE'],\n",
        "        y=df_results['test_WMAE'],\n",
        "        mode='markers',\n",
        "        marker=dict(\n",
        "            size=8,\n",
        "            color=df_results['learning_rate'],\n",
        "            colorscale='Viridis',\n",
        "            showscale=True,\n",
        "            colorbar=dict(title=\"Learning Rate\")\n",
        "        ),\n",
        "        text=[f\"Combo {i+1}<br>LR: {lr}<br>Leaves: {leaves}\"\n",
        "              for i, (lr, leaves) in enumerate(zip(df_results['learning_rate'], df_results['num_leaves']))],\n",
        "        hovertemplate='<b>%{text}</b><br>Val WMAE: %{x:.5f}<br>Test WMAE: %{y:.5f}<extra></extra>',\n",
        "        name='Combinations'\n",
        "    ),\n",
        "    row=1, col=1\n",
        ")\n",
        "\n",
        "# Performance timeline\n",
        "fig.add_trace(\n",
        "    go.Scatter(\n",
        "        x=df_results['combination'],\n",
        "        y=df_results['val_WMAE'],\n",
        "        mode='lines+markers',\n",
        "        name='Val WMAE',\n",
        "        line=dict(color='blue')\n",
        "    ),\n",
        "    row=1, col=2\n",
        ")\n",
        "\n",
        "fig.add_trace(\n",
        "    go.Scatter(\n",
        "        x=df_results['combination'],\n",
        "        y=df_results['test_WMAE'],\n",
        "        mode='lines+markers',\n",
        "        name='Test WMAE',\n",
        "        line=dict(color='red')\n",
        "    ),\n",
        "    row=1, col=2\n",
        ")\n",
        "\n",
        "# Hyperparameter correlation heatmap\n",
        "param_cols = ['learning_rate', 'num_leaves', 'subsample', 'colsample_bytree']\n",
        "corr_matrix = df_results[param_cols + ['val_WMAE']].corr()\n",
        "\n",
        "fig.add_trace(\n",
        "    go.Heatmap(\n",
        "        z=corr_matrix.values,\n",
        "        x=corr_matrix.columns,\n",
        "        y=corr_matrix.columns,\n",
        "        colorscale='RdYlBu',\n",
        "        zmid=0\n",
        "    ),\n",
        "    row=2, col=1\n",
        ")\n",
        "\n",
        "# Top 5 combinations\n",
        "top_5 = df_results.nsmallest(5, 'val_WMAE')\n",
        "fig.add_trace(\n",
        "    go.Bar(\n",
        "        x=[f\"Combo {i}\" for i in top_5['combination']],\n",
        "        y=top_5['val_WMAE'],\n",
        "        name='Top 5 Val WMAE',\n",
        "        marker_color='lightblue'\n",
        "    ),\n",
        "    row=2, col=2\n",
        ")\n",
        "\n",
        "fig.update_layout(\n",
        "    title_text=\"Interactive Grid Search Analysis\",\n",
        "    showlegend=False,\n",
        "    height=800\n",
        ")\n",
        "\n",
        "fig.show()\n",
        "\n",
        "# 4. Summary Statistics Table\n",
        "print(\"\\n\" + \"=\"*60)\n",
        "print(\"GRID SEARCH SUMMARY\")\n",
        "print(\"=\"*60)\n",
        "\n",
        "print(f\"Total combinations tested: {len(all_params)}\")\n",
        "print(f\"Best validation WMAE: {best_val_wmae:.5f}\")\n",
        "\n",
        "# Top 5 combinations\n",
        "print(\"\\nTop 5 Combinations (by validation WMAE):\")\n",
        "top_5 = df_results.nsmallest(5, 'val_WMAE')\n",
        "for idx, row in top_5.iterrows():\n",
        "    print(f\"  {int(row['combination'])}: Val={row['val_WMAE']:.5f}, Test={row['test_WMAE']:.5f} \"\n",
        "          f\"(LR={row['learning_rate']}, Leaves={row['num_leaves']}, \"\n",
        "          f\"Subsample={row['subsample']}, Colsample={row['colsample_bytree']})\")\n",
        "\n",
        "# Parameter impact analysis\n",
        "print(\"\\nParameter Impact (average validation WMAE):\")\n",
        "for param in param_cols:\n",
        "    print(f\"\\n{param}:\")\n",
        "    param_impact = df_results.groupby(param)['val_WMAE'].agg(['mean', 'std']).round(5)\n",
        "    for val, stats in param_impact.iterrows():\n",
        "        print(f\"  {val}: {stats['mean']:.5f} ± {stats['std']:.5f}\")\n",
        "\n",
        "# === Final Report ===\n",
        "print(\"\\n\" + \"=\"*60)\n",
        "print(\"BEST MODEL RESULTS\")\n",
        "print(\"=\"*60)\n",
        "\n",
        "print(\"Best Parameters:\")\n",
        "for k, v in best_params.items():\n",
        "    print(f\"  {k}: {v}\")\n",
        "\n",
        "print(f\"\\nBest Validation WMAE: {best_val_wmae:.5f}\")\n",
        "\n",
        "# Final Test WMAE\n",
        "final_test_preds = best_model.predict(X_test)\n",
        "final_test_wmae = WMAE(y_test, final_test_preds, test_weights)\n",
        "print(f\"Final Test WMAE: {final_test_wmae:.5f}\")\n",
        "print(f\"Overfitting (Test - Val): {final_test_wmae - best_val_wmae:.5f}\")\n",
        "\n",
        "# Feature importance plot for best model\n",
        "if hasattr(best_model, 'feature_importances_'):\n",
        "    feature_names = X_train.columns if hasattr(X_train, 'columns') else [f'feature_{i}' for i in range(X_train.shape[1])]\n",
        "    importance_df = pd.DataFrame({\n",
        "        'feature': feature_names,\n",
        "        'importance': best_model.feature_importances_\n",
        "    }).sort_values('importance', ascending=False).head(20)\n",
        "\n",
        "    plt.figure(figsize=(12, 8))\n",
        "    sns.barplot(data=importance_df, x='importance', y='feature')\n",
        "    plt.title('Top 20 Feature Importance (Best Model)')\n",
        "    plt.xlabel('Importance')\n",
        "    plt.tight_layout()\n",
        "    plt.show()\n",
        "\n",
        "# Log final results to wandb\n",
        "wandb.log({\n",
        "    \"best_val_WMAE\": best_val_wmae,\n",
        "    \"final_test_WMAE\": final_test_wmae,\n",
        "    \"best_learning_rate\": best_params[\"learning_rate\"],\n",
        "    \"best_num_leaves\": best_params[\"num_leaves\"],\n",
        "    \"best_subsample\": best_params[\"subsample\"],\n",
        "    \"best_colsample_bytree\": best_params[\"colsample_bytree\"],\n",
        "    \"overfitting_best_model\": final_test_wmae - best_val_wmae\n",
        "})\n",
        "\n",
        "# Log plots to wandb\n",
        "wandb.log({\n",
        "    \"grid_search_overview\": wandb.Image(plt.gcf()),\n",
        "    \"results_dataframe\": wandb.Table(dataframe=df_results)\n",
        "})\n",
        "\n",
        "wandb.finish()\n",
        "\n",
        "print(\"\\nGrid search completed! Check your plots above and W&B dashboard for detailed analysis.\")"
      ],
      "metadata": {
        "colab": {
          "base_uri": "https://localhost:8080/",
          "height": 1000
        },
        "id": "qo6MZkckqEng",
        "outputId": "e8b591db-176c-456a-c368-f786d9b4bbd0"
      },
      "execution_count": 15,
      "outputs": [
        {
          "output_type": "display_data",
          "data": {
            "text/plain": [
              "<IPython.core.display.HTML object>"
            ],
            "text/html": [
              "Finishing previous runs because reinit is set to 'default'."
            ]
          },
          "metadata": {}
        },
        {
          "output_type": "display_data",
          "data": {
            "text/plain": [
              "<IPython.core.display.HTML object>"
            ],
            "text/html": []
          },
          "metadata": {}
        },
        {
          "output_type": "display_data",
          "data": {
            "text/plain": [
              "<IPython.core.display.HTML object>"
            ],
            "text/html": [
              " View run <strong style=\"color:#cdcd00\">GridSearch-WMAE</strong> at: <a href='https://wandb.ai/final-project-ml/walmart-forecasting/runs/ji8m41du' target=\"_blank\">https://wandb.ai/final-project-ml/walmart-forecasting/runs/ji8m41du</a><br> View project at: <a href='https://wandb.ai/final-project-ml/walmart-forecasting' target=\"_blank\">https://wandb.ai/final-project-ml/walmart-forecasting</a><br>Synced 5 W&B file(s), 0 media file(s), 0 artifact file(s) and 0 other file(s)"
            ]
          },
          "metadata": {}
        },
        {
          "output_type": "display_data",
          "data": {
            "text/plain": [
              "<IPython.core.display.HTML object>"
            ],
            "text/html": [
              "Find logs at: <code>./wandb/run-20250708_160008-ji8m41du/logs</code>"
            ]
          },
          "metadata": {}
        },
        {
          "output_type": "display_data",
          "data": {
            "text/plain": [
              "<IPython.core.display.HTML object>"
            ],
            "text/html": [
              "Tracking run with wandb version 0.20.1"
            ]
          },
          "metadata": {}
        },
        {
          "output_type": "display_data",
          "data": {
            "text/plain": [
              "<IPython.core.display.HTML object>"
            ],
            "text/html": [
              "Run data is saved locally in <code>/content/wandb/run-20250708_160359-5gm1ao5g</code>"
            ]
          },
          "metadata": {}
        },
        {
          "output_type": "display_data",
          "data": {
            "text/plain": [
              "<IPython.core.display.HTML object>"
            ],
            "text/html": [
              "Syncing run <strong><a href='https://wandb.ai/final-project-ml/walmart-forecasting/runs/5gm1ao5g' target=\"_blank\">GridSearch-WMAE</a></strong> to <a href='https://wandb.ai/final-project-ml/walmart-forecasting' target=\"_blank\">Weights & Biases</a> (<a href='https://wandb.me/developer-guide' target=\"_blank\">docs</a>)<br>"
            ]
          },
          "metadata": {}
        },
        {
          "output_type": "display_data",
          "data": {
            "text/plain": [
              "<IPython.core.display.HTML object>"
            ],
            "text/html": [
              " View project at <a href='https://wandb.ai/final-project-ml/walmart-forecasting' target=\"_blank\">https://wandb.ai/final-project-ml/walmart-forecasting</a>"
            ]
          },
          "metadata": {}
        },
        {
          "output_type": "display_data",
          "data": {
            "text/plain": [
              "<IPython.core.display.HTML object>"
            ],
            "text/html": [
              " View run at <a href='https://wandb.ai/final-project-ml/walmart-forecasting/runs/5gm1ao5g' target=\"_blank\">https://wandb.ai/final-project-ml/walmart-forecasting/runs/5gm1ao5g</a>"
            ]
          },
          "metadata": {}
        },
        {
          "output_type": "stream",
          "name": "stdout",
          "text": [
            "Starting grid search with 24 combinations...\n",
            "\n",
            "[1/24] Training with lr=0.01, leaves=31, subsample=0.8, colsample=0.8\n",
            "Training until validation scores don't improve for 50 rounds\n",
            "Did not meet early stopping. Best iteration is:\n",
            "[1000]\tvalid_0's l1: 1099.62\tvalid_0's l2: 4.73639e+06\n",
            "→ Val WMAE: 1099.61852, Test WMAE: 1094.45597\n",
            "\n",
            "[2/24] Training with lr=0.01, leaves=31, subsample=0.8, colsample=1.0\n",
            "Training until validation scores don't improve for 50 rounds\n",
            "Early stopping, best iteration is:\n",
            "[559]\tvalid_0's l1: 1128.78\tvalid_0's l2: 5.00677e+06\n",
            "→ Val WMAE: 1128.77504, Test WMAE: 1129.37312\n",
            "\n",
            "[3/24] Training with lr=0.01, leaves=31, subsample=1.0, colsample=0.8\n",
            "Training until validation scores don't improve for 50 rounds\n",
            "Did not meet early stopping. Best iteration is:\n",
            "[1000]\tvalid_0's l1: 1099.62\tvalid_0's l2: 4.73639e+06\n",
            "→ Val WMAE: 1099.61852, Test WMAE: 1094.45597\n",
            "\n",
            "[4/24] Training with lr=0.01, leaves=31, subsample=1.0, colsample=1.0\n",
            "Training until validation scores don't improve for 50 rounds\n",
            "Early stopping, best iteration is:\n",
            "[559]\tvalid_0's l1: 1128.78\tvalid_0's l2: 5.00677e+06\n",
            "→ Val WMAE: 1128.77504, Test WMAE: 1129.37312\n",
            "\n",
            "[5/24] Training with lr=0.01, leaves=63, subsample=0.8, colsample=0.8\n",
            "Training until validation scores don't improve for 50 rounds\n",
            "Did not meet early stopping. Best iteration is:\n",
            "[1000]\tvalid_0's l1: 957.312\tvalid_0's l2: 3.84799e+06\n",
            "→ Val WMAE: 957.31243, Test WMAE: 951.55510\n",
            "\n",
            "[6/24] Training with lr=0.01, leaves=63, subsample=0.8, colsample=1.0\n",
            "Training until validation scores don't improve for 50 rounds\n",
            "Early stopping, best iteration is:\n",
            "[568]\tvalid_0's l1: 1001.51\tvalid_0's l2: 4.09722e+06\n",
            "→ Val WMAE: 1001.51143, Test WMAE: 996.35439\n",
            "\n",
            "[7/24] Training with lr=0.01, leaves=63, subsample=1.0, colsample=0.8\n",
            "Training until validation scores don't improve for 50 rounds\n",
            "Did not meet early stopping. Best iteration is:\n",
            "[1000]\tvalid_0's l1: 957.312\tvalid_0's l2: 3.84799e+06\n",
            "→ Val WMAE: 957.31243, Test WMAE: 951.55510\n",
            "\n",
            "[8/24] Training with lr=0.01, leaves=63, subsample=1.0, colsample=1.0\n",
            "Training until validation scores don't improve for 50 rounds\n",
            "Early stopping, best iteration is:\n",
            "[568]\tvalid_0's l1: 1001.51\tvalid_0's l2: 4.09722e+06\n",
            "→ Val WMAE: 1001.51143, Test WMAE: 996.35439\n",
            "\n",
            "[9/24] Training with lr=0.05, leaves=31, subsample=0.8, colsample=0.8\n",
            "Training until validation scores don't improve for 50 rounds\n",
            "Did not meet early stopping. Best iteration is:\n",
            "[1000]\tvalid_0's l1: 775.258\tvalid_0's l2: 2.81386e+06\n",
            "→ Val WMAE: 775.25805, Test WMAE: 728.72955\n",
            "\n",
            "[10/24] Training with lr=0.05, leaves=31, subsample=0.8, colsample=1.0\n",
            "Training until validation scores don't improve for 50 rounds\n",
            "Did not meet early stopping. Best iteration is:\n",
            "[999]\tvalid_0's l1: 804.116\tvalid_0's l2: 3.13218e+06\n",
            "→ Val WMAE: 804.11647, Test WMAE: 739.70124\n",
            "\n",
            "[11/24] Training with lr=0.05, leaves=31, subsample=1.0, colsample=0.8\n",
            "Training until validation scores don't improve for 50 rounds\n",
            "Did not meet early stopping. Best iteration is:\n",
            "[1000]\tvalid_0's l1: 775.258\tvalid_0's l2: 2.81386e+06\n",
            "→ Val WMAE: 775.25805, Test WMAE: 728.72955\n",
            "\n",
            "[12/24] Training with lr=0.05, leaves=31, subsample=1.0, colsample=1.0\n",
            "Training until validation scores don't improve for 50 rounds\n",
            "Did not meet early stopping. Best iteration is:\n",
            "[999]\tvalid_0's l1: 804.116\tvalid_0's l2: 3.13218e+06\n",
            "→ Val WMAE: 804.11647, Test WMAE: 739.70124\n",
            "\n",
            "[13/24] Training with lr=0.05, leaves=63, subsample=0.8, colsample=0.8\n",
            "Training until validation scores don't improve for 50 rounds\n",
            "Did not meet early stopping. Best iteration is:\n",
            "[1000]\tvalid_0's l1: 659.072\tvalid_0's l2: 2.64724e+06\n",
            "→ Val WMAE: 659.07166, Test WMAE: 630.20700\n",
            "\n",
            "[14/24] Training with lr=0.05, leaves=63, subsample=0.8, colsample=1.0\n",
            "Training until validation scores don't improve for 50 rounds\n",
            "Did not meet early stopping. Best iteration is:\n",
            "[998]\tvalid_0's l1: 652.934\tvalid_0's l2: 2.65315e+06\n",
            "→ Val WMAE: 652.93435, Test WMAE: 638.92385\n",
            "\n",
            "[15/24] Training with lr=0.05, leaves=63, subsample=1.0, colsample=0.8\n",
            "Training until validation scores don't improve for 50 rounds\n",
            "Did not meet early stopping. Best iteration is:\n",
            "[1000]\tvalid_0's l1: 659.072\tvalid_0's l2: 2.64724e+06\n",
            "→ Val WMAE: 659.07166, Test WMAE: 630.20700\n",
            "\n",
            "[16/24] Training with lr=0.05, leaves=63, subsample=1.0, colsample=1.0\n",
            "Training until validation scores don't improve for 50 rounds\n",
            "Did not meet early stopping. Best iteration is:\n",
            "[998]\tvalid_0's l1: 652.934\tvalid_0's l2: 2.65315e+06\n",
            "→ Val WMAE: 652.93435, Test WMAE: 638.92385\n",
            "\n",
            "[17/24] Training with lr=0.1, leaves=31, subsample=0.8, colsample=0.8\n",
            "Training until validation scores don't improve for 50 rounds\n",
            "Did not meet early stopping. Best iteration is:\n",
            "[1000]\tvalid_0's l1: 654.121\tvalid_0's l2: 2.39797e+06\n",
            "→ Val WMAE: 654.12067, Test WMAE: 630.05550\n",
            "\n",
            "[18/24] Training with lr=0.1, leaves=31, subsample=0.8, colsample=1.0\n",
            "Training until validation scores don't improve for 50 rounds\n",
            "Early stopping, best iteration is:\n",
            "[54]\tvalid_0's l1: 1139.56\tvalid_0's l2: 5.09393e+06\n",
            "→ Val WMAE: 1139.55602, Test WMAE: 1136.66591\n",
            "\n",
            "[19/24] Training with lr=0.1, leaves=31, subsample=1.0, colsample=0.8\n",
            "Training until validation scores don't improve for 50 rounds\n",
            "Did not meet early stopping. Best iteration is:\n",
            "[1000]\tvalid_0's l1: 654.121\tvalid_0's l2: 2.39797e+06\n",
            "→ Val WMAE: 654.12067, Test WMAE: 630.05550\n",
            "\n",
            "[20/24] Training with lr=0.1, leaves=31, subsample=1.0, colsample=1.0\n",
            "Training until validation scores don't improve for 50 rounds\n",
            "Early stopping, best iteration is:\n",
            "[54]\tvalid_0's l1: 1139.56\tvalid_0's l2: 5.09393e+06\n",
            "→ Val WMAE: 1139.55602, Test WMAE: 1136.66591\n",
            "\n",
            "[21/24] Training with lr=0.1, leaves=63, subsample=0.8, colsample=0.8\n",
            "Training until validation scores don't improve for 50 rounds\n",
            "Did not meet early stopping. Best iteration is:\n",
            "[1000]\tvalid_0's l1: 589.308\tvalid_0's l2: 2.50336e+06\n",
            "→ Val WMAE: 589.30842, Test WMAE: 575.92619\n",
            "\n",
            "[22/24] Training with lr=0.1, leaves=63, subsample=0.8, colsample=1.0\n",
            "Training until validation scores don't improve for 50 rounds\n",
            "Did not meet early stopping. Best iteration is:\n",
            "[1000]\tvalid_0's l1: 622.51\tvalid_0's l2: 2.80826e+06\n",
            "→ Val WMAE: 622.50967, Test WMAE: 592.12650\n",
            "\n",
            "[23/24] Training with lr=0.1, leaves=63, subsample=1.0, colsample=0.8\n",
            "Training until validation scores don't improve for 50 rounds\n",
            "Did not meet early stopping. Best iteration is:\n",
            "[1000]\tvalid_0's l1: 589.308\tvalid_0's l2: 2.50336e+06\n",
            "→ Val WMAE: 589.30842, Test WMAE: 575.92619\n",
            "\n",
            "[24/24] Training with lr=0.1, leaves=63, subsample=1.0, colsample=1.0\n",
            "Training until validation scores don't improve for 50 rounds\n",
            "Did not meet early stopping. Best iteration is:\n",
            "[1000]\tvalid_0's l1: 622.51\tvalid_0's l2: 2.80826e+06\n",
            "→ Val WMAE: 622.50967, Test WMAE: 592.12650\n"
          ]
        },
        {
          "output_type": "display_data",
          "data": {
            "text/plain": [
              "<Figure size 1500x1200 with 4 Axes>"
            ],
            "image/png": "[encoded data removed]"
          },
          "metadata": {}
        },
        {
          "output_type": "display_data",
          "data": {
            "text/plain": [
              "<Figure size 1500x1200 with 4 Axes>"
            ],
            "image/png": "[encoded data removed]"
          },
          "metadata": {}
        },
        {
          "output_type": "display_data",
          "data": {
            "text/html": [
              "<html>\n",
              "<head><meta charset=\"utf-8\" /></head>\n",
              "<body>\n",
              "    <div>            <script src=\"https://cdnjs.cloudflare.com/ajax/libs/mathjax/2.7.5/MathJax.js?config=TeX-AMS-MML_SVG\"></script><script type=\"text/javascript\">if (window.MathJax && window.MathJax.Hub && window.MathJax.Hub.Config) {window.MathJax.Hub.Config({SVG: {font: \"STIX-Web\"}});}</script>                <script type=\"text/javascript\">window.PlotlyConfig = {MathJaxConfig: 'local'};</script>\n",
              "        <script charset=\"utf-8\" src=\"https://cdn.plot.ly/plotly-2.35.2.min.js\"></script>                <div id=\"4f48d6ea-78c5-4a17-a502-488c54beb93a\" class=\"plotly-graph-div\" style=\"height:800px; width:100%;\"></div>            <script type=\"text/javascript\">                                    window.PLOTLYENV=window.PLOTLYENV || {};                                    if (document.getElementById(\"4f48d6ea-78c5-4a17-a502-488c54beb93a\")) {                    Plotly.newPlot(                        \"4f48d6ea-78c5-4a17-a502-488c54beb93a\",                        [{\"hovertemplate\":\"\\u003cb\\u003e%{text}\\u003c\\u002fb\\u003e\\u003cbr\\u003eVal WMAE: %{x:.5f}\\u003cbr\\u003eTest WMAE: %{y:.5f}\\u003cextra\\u003e\\u003c\\u002fextra\\u003e\",\"marker\":{\"color\":[0.01,0.01,0.01,0.01,0.01,0.01,0.01,0.01,0.05,0.05,0.05,0.05,0.05,0.05,0.05,0.05,0.1,0.1,0.1,0.1,0.1,0.1,0.1,0.1],\"colorbar\":{\"title\":{\"text\":\"Learning Rate\"}},\"colorscale\":[[0.0,\"#440154\"],[0.1111111111111111,\"#482878\"],[0.2222222222222222,\"#3e4989\"],[0.3333333333333333,\"#31688e\"],[0.4444444444444444,\"#26828e\"],[0.5555555555555556,\"#1f9e89\"],[0.6666666666666666,\"#35b779\"],[0.7777777777777778,\"#6ece58\"],[0.8888888888888888,\"#b5de2b\"],[1.0,\"#fde725\"]],\"showscale\":true,\"size\":8},\"mode\":\"markers\",\"name\":\"Combinations\",\"text\":[\"Combo 1\\u003cbr\\u003eLR: 0.01\\u003cbr\\u003eLeaves: 31\",\"Combo 2\\u003cbr\\u003eLR: 0.01\\u003cbr\\u003eLeaves: 31\",\"Combo 3\\u003cbr\\u003eLR: 0.01\\u003cbr\\u003eLeaves: 31\",\"Combo 4\\u003cbr\\u003eLR: 0.01\\u003cbr\\u003eLeaves: 31\",\"Combo 5\\u003cbr\\u003eLR: 0.01\\u003cbr\\u003eLeaves: 63\",\"Combo 6\\u003cbr\\u003eLR: 0.01\\u003cbr\\u003eLeaves: 63\",\"Combo 7\\u003cbr\\u003eLR: 0.01\\u003cbr\\u003eLeaves: 63\",\"Combo 8\\u003cbr\\u003eLR: 0.01\\u003cbr\\u003eLeaves: 63\",\"Combo 9\\u003cbr\\u003eLR: 0.05\\u003cbr\\u003eLeaves: 31\",\"Combo 10\\u003cbr\\u003eLR: 0.05\\u003cbr\\u003eLeaves: 31\",\"Combo 11\\u003cbr\\u003eLR: 0.05\\u003cbr\\u003eLeaves: 31\",\"Combo 12\\u003cbr\\u003eLR: 0.05\\u003cbr\\u003eLeaves: 31\",\"Combo 13\\u003cbr\\u003eLR: 0.05\\u003cbr\\u003eLeaves: 63\",\"Combo 14\\u003cbr\\u003eLR: 0.05\\u003cbr\\u003eLeaves: 63\",\"Combo 15\\u003cbr\\u003eLR: 0.05\\u003cbr\\u003eLeaves: 63\",\"Combo 16\\u003cbr\\u003eLR: 0.05\\u003cbr\\u003eLeaves: 63\",\"Combo 17\\u003cbr\\u003eLR: 0.1\\u003cbr\\u003eLeaves: 31\",\"Combo 18\\u003cbr\\u003eLR: 0.1\\u003cbr\\u003eLeaves: 31\",\"Combo 19\\u003cbr\\u003eLR: 0.1\\u003cbr\\u003eLeaves: 31\",\"Combo 20\\u003cbr\\u003eLR: 0.1\\u003cbr\\u003eLeaves: 31\",\"Combo 21\\u003cbr\\u003eLR: 0.1\\u003cbr\\u003eLeaves: 63\",\"Combo 22\\u003cbr\\u003eLR: 0.1\\u003cbr\\u003eLeaves: 63\",\"Combo 23\\u003cbr\\u003eLR: 0.1\\u003cbr\\u003eLeaves: 63\",\"Combo 24\\u003cbr\\u003eLR: 0.1\\u003cbr\\u003eLeaves: 63\"],\"x\":[1099.61852,1128.77504,1099.61852,1128.77504,957.31243,1001.51143,957.31243,1001.51143,775.25805,804.11647,775.25805,804.11647,659.07166,652.93435,659.07166,652.93435,654.12067,1139.55602,654.12067,1139.55602,589.30842,622.50967,589.30842,622.50967],\"y\":[1094.45597,1129.37312,1094.45597,1129.37312,951.5551,996.35439,951.5551,996.35439,728.72955,739.70124,728.72955,739.70124,630.207,638.92385,630.207,638.92385,630.0555,1136.66591,630.0555,1136.66591,575.92619,592.1265,575.92619,592.1265],\"type\":\"scatter\",\"xaxis\":\"x\",\"yaxis\":\"y\"},{\"line\":{\"color\":\"blue\"},\"mode\":\"lines+markers\",\"name\":\"Val WMAE\",\"x\":[1,2,3,4,5,6,7,8,9,10,11,12,13,14,15,16,17,18,19,20,21,22,23,24],\"y\":[1099.61852,1128.77504,1099.61852,1128.77504,957.31243,1001.51143,957.31243,1001.51143,775.25805,804.11647,775.25805,804.11647,659.07166,652.93435,659.07166,652.93435,654.12067,1139.55602,654.12067,1139.55602,589.30842,622.50967,589.30842,622.50967],\"type\":\"scatter\",\"xaxis\":\"x2\",\"yaxis\":\"y2\"},{\"line\":{\"color\":\"red\"},\"mode\":\"lines+markers\",\"name\":\"Test WMAE\",\"x\":[1,2,3,4,5,6,7,8,9,10,11,12,13,14,15,16,17,18,19,20,21,22,23,24],\"y\":[1094.45597,1129.37312,1094.45597,1129.37312,951.5551,996.35439,951.5551,996.35439,728.72955,739.70124,728.72955,739.70124,630.207,638.92385,630.207,638.92385,630.0555,1136.66591,630.0555,1136.66591,575.92619,592.1265,575.92619,592.1265],\"type\":\"scatter\",\"xaxis\":\"x2\",\"yaxis\":\"y2\"},{\"colorscale\":[[0.0,\"rgb(165,0,38)\"],[0.1,\"rgb(215,48,39)\"],[0.2,\"rgb(244,109,67)\"],[0.3,\"rgb(253,174,97)\"],[0.4,\"rgb(254,224,144)\"],[0.5,\"rgb(255,255,191)\"],[0.6,\"rgb(224,243,248)\"],[0.7,\"rgb(171,217,233)\"],[0.8,\"rgb(116,173,209)\"],[0.9,\"rgb(69,117,180)\"],[1.0,\"rgb(49,54,149)\"]],\"x\":[\"learning_rate\",\"num_leaves\",\"subsample\",\"colsample_bytree\",\"val_WMAE\"],\"y\":[\"learning_rate\",\"num_leaves\",\"subsample\",\"colsample_bytree\",\"val_WMAE\"],\"z\":[[1.0,-1.0208541464877027e-16,-8.049042308845351e-16,-4.907952627344725e-17,-0.5645642145159295],[-1.0208541464877027e-16,1.0,-1.5034270125132334e-16,-1.1564823173178716e-17,-0.4575342616845749],[-8.049042308845351e-16,-1.5034270125132334e-16,1.0,-2.8912057932946805e-17,3.922801872323921e-16],[-4.907952627344725e-17,-1.1564823173178716e-17,-2.8912057932946805e-17,1.0,0.2513882425494139],[-0.5645642145159295,-0.4575342616845749,3.922801872323921e-16,0.2513882425494139,1.0]],\"zmid\":0,\"type\":\"heatmap\",\"xaxis\":\"x3\",\"yaxis\":\"y3\"},{\"marker\":{\"color\":\"lightblue\"},\"name\":\"Top 5 Val WMAE\",\"x\":[\"Combo 21\",\"Combo 23\",\"Combo 22\",\"Combo 24\",\"Combo 14\"],\"y\":[589.30842,589.30842,622.50967,622.50967,652.93435],\"type\":\"bar\",\"xaxis\":\"x4\",\"yaxis\":\"y4\"}],                        {\"template\":{\"data\":{\"histogram2dcontour\":[{\"type\":\"histogram2dcontour\",\"colorbar\":{\"outlinewidth\":0,\"ticks\":\"\"},\"colorscale\":[[0.0,\"#0d0887\"],[0.1111111111111111,\"#46039f\"],[0.2222222222222222,\"#7201a8\"],[0.3333333333333333,\"#9c179e\"],[0.4444444444444444,\"#bd3786\"],[0.5555555555555556,\"#d8576b\"],[0.6666666666666666,\"#ed7953\"],[0.7777777777777778,\"#fb9f3a\"],[0.8888888888888888,\"#fdca26\"],[1.0,\"#f0f921\"]]}],\"choropleth\":[{\"type\":\"choropleth\",\"colorbar\":{\"outlinewidth\":0,\"ticks\":\"\"}}],\"histogram2d\":[{\"type\":\"histogram2d\",\"colorbar\":{\"outlinewidth\":0,\"ticks\":\"\"},\"colorscale\":[[0.0,\"#0d0887\"],[0.1111111111111111,\"#46039f\"],[0.2222222222222222,\"#7201a8\"],[0.3333333333333333,\"#9c179e\"],[0.4444444444444444,\"#bd3786\"],[0.5555555555555556,\"#d8576b\"],[0.6666666666666666,\"#ed7953\"],[0.7777777777777778,\"#fb9f3a\"],[0.8888888888888888,\"#fdca26\"],[1.0,\"#f0f921\"]]}],\"heatmap\":[{\"type\":\"heatmap\",\"colorbar\":{\"outlinewidth\":0,\"ticks\":\"\"},\"colorscale\":[[0.0,\"#0d0887\"],[0.1111111111111111,\"#46039f\"],[0.2222222222222222,\"#7201a8\"],[0.3333333333333333,\"#9c179e\"],[0.4444444444444444,\"#bd3786\"],[0.5555555555555556,\"#d8576b\"],[0.6666666666666666,\"#ed7953\"],[0.7777777777777778,\"#fb9f3a\"],[0.8888888888888888,\"#fdca26\"],[1.0,\"#f0f921\"]]}],\"heatmapgl\":[{\"type\":\"heatmapgl\",\"colorbar\":{\"outlinewidth\":0,\"ticks\":\"\"},\"colorscale\":[[0.0,\"#0d0887\"],[0.1111111111111111,\"#46039f\"],[0.2222222222222222,\"#7201a8\"],[0.3333333333333333,\"#9c179e\"],[0.4444444444444444,\"#bd3786\"],[0.5555555555555556,\"#d8576b\"],[0.6666666666666666,\"#ed7953\"],[0.7777777777777778,\"#fb9f3a\"],[0.8888888888888888,\"#fdca26\"],[1.0,\"#f0f921\"]]}],\"contourcarpet\":[{\"type\":\"contourcarpet\",\"colorbar\":{\"outlinewidth\":0,\"ticks\":\"\"}}],\"contour\":[{\"type\":\"contour\",\"colorbar\":{\"outlinewidth\":0,\"ticks\":\"\"},\"colorscale\":[[0.0,\"#0d0887\"],[0.1111111111111111,\"#46039f\"],[0.2222222222222222,\"#7201a8\"],[0.3333333333333333,\"#9c179e\"],[0.4444444444444444,\"#bd3786\"],[0.5555555555555556,\"#d8576b\"],[0.6666666666666666,\"#ed7953\"],[0.7777777777777778,\"#fb9f3a\"],[0.8888888888888888,\"#fdca26\"],[1.0,\"#f0f921\"]]}],\"surface\":[{\"type\":\"surface\",\"colorbar\":{\"outlinewidth\":0,\"ticks\":\"\"},\"colorscale\":[[0.0,\"#0d0887\"],[0.1111111111111111,\"#46039f\"],[0.2222222222222222,\"#7201a8\"],[0.3333333333333333,\"#9c179e\"],[0.4444444444444444,\"#bd3786\"],[0.5555555555555556,\"#d8576b\"],[0.6666666666666666,\"#ed7953\"],[0.7777777777777778,\"#fb9f3a\"],[0.8888888888888888,\"#fdca26\"],[1.0,\"#f0f921\"]]}],\"mesh3d\":[{\"type\":\"mesh3d\",\"colorbar\":{\"outlinewidth\":0,\"ticks\":\"\"}}],\"scatter\":[{\"fillpattern\":{\"fillmode\":\"overlay\",\"size\":10,\"solidity\":0.2},\"type\":\"scatter\"}],\"parcoords\":[{\"type\":\"parcoords\",\"line\":{\"colorbar\":{\"outlinewidth\":0,\"ticks\":\"\"}}}],\"scatterpolargl\":[{\"type\":\"scatterpolargl\",\"marker\":{\"colorbar\":{\"outlinewidth\":0,\"ticks\":\"\"}}}],\"bar\":[{\"error_x\":{\"color\":\"#2a3f5f\"},\"error_y\":{\"color\":\"#2a3f5f\"},\"marker\":{\"line\":{\"color\":\"#E5ECF6\",\"width\":0.5},\"pattern\":{\"fillmode\":\"overlay\",\"size\":10,\"solidity\":0.2}},\"type\":\"bar\"}],\"scattergeo\":[{\"type\":\"scattergeo\",\"marker\":{\"colorbar\":{\"outlinewidth\":0,\"ticks\":\"\"}}}],\"scatterpolar\":[{\"type\":\"scatterpolar\",\"marker\":{\"colorbar\":{\"outlinewidth\":0,\"ticks\":\"\"}}}],\"histogram\":[{\"marker\":{\"pattern\":{\"fillmode\":\"overlay\",\"size\":10,\"solidity\":0.2}},\"type\":\"histogram\"}],\"scattergl\":[{\"type\":\"scattergl\",\"marker\":{\"colorbar\":{\"outlinewidth\":0,\"ticks\":\"\"}}}],\"scatter3d\":[{\"type\":\"scatter3d\",\"line\":{\"colorbar\":{\"outlinewidth\":0,\"ticks\":\"\"}},\"marker\":{\"colorbar\":{\"outlinewidth\":0,\"ticks\":\"\"}}}],\"scattermapbox\":[{\"type\":\"scattermapbox\",\"marker\":{\"colorbar\":{\"outlinewidth\":0,\"ticks\":\"\"}}}],\"scatterternary\":[{\"type\":\"scatterternary\",\"marker\":{\"colorbar\":{\"outlinewidth\":0,\"ticks\":\"\"}}}],\"scattercarpet\":[{\"type\":\"scattercarpet\",\"marker\":{\"colorbar\":{\"outlinewidth\":0,\"ticks\":\"\"}}}],\"carpet\":[{\"aaxis\":{\"endlinecolor\":\"#2a3f5f\",\"gridcolor\":\"white\",\"linecolor\":\"white\",\"minorgridcolor\":\"white\",\"startlinecolor\":\"#2a3f5f\"},\"baxis\":{\"endlinecolor\":\"#2a3f5f\",\"gridcolor\":\"white\",\"linecolor\":\"white\",\"minorgridcolor\":\"white\",\"startlinecolor\":\"#2a3f5f\"},\"type\":\"carpet\"}],\"table\":[{\"cells\":{\"fill\":{\"color\":\"#EBF0F8\"},\"line\":{\"color\":\"white\"}},\"header\":{\"fill\":{\"color\":\"#C8D4E3\"},\"line\":{\"color\":\"white\"}},\"type\":\"table\"}],\"barpolar\":[{\"marker\":{\"line\":{\"color\":\"#E5ECF6\",\"width\":0.5},\"pattern\":{\"fillmode\":\"overlay\",\"size\":10,\"solidity\":0.2}},\"type\":\"barpolar\"}],\"pie\":[{\"automargin\":true,\"type\":\"pie\"}]},\"layout\":{\"autotypenumbers\":\"strict\",\"colorway\":[\"#636efa\",\"#EF553B\",\"#00cc96\",\"#ab63fa\",\"#FFA15A\",\"#19d3f3\",\"#FF6692\",\"#B6E880\",\"#FF97FF\",\"#FECB52\"],\"font\":{\"color\":\"#2a3f5f\"},\"hovermode\":\"closest\",\"hoverlabel\":{\"align\":\"left\"},\"paper_bgcolor\":\"white\",\"plot_bgcolor\":\"#E5ECF6\",\"polar\":{\"bgcolor\":\"#E5ECF6\",\"angularaxis\":{\"gridcolor\":\"white\",\"linecolor\":\"white\",\"ticks\":\"\"},\"radialaxis\":{\"gridcolor\":\"white\",\"linecolor\":\"white\",\"ticks\":\"\"}},\"ternary\":{\"bgcolor\":\"#E5ECF6\",\"aaxis\":{\"gridcolor\":\"white\",\"linecolor\":\"white\",\"ticks\":\"\"},\"baxis\":{\"gridcolor\":\"white\",\"linecolor\":\"white\",\"ticks\":\"\"},\"caxis\":{\"gridcolor\":\"white\",\"linecolor\":\"white\",\"ticks\":\"\"}},\"coloraxis\":{\"colorbar\":{\"outlinewidth\":0,\"ticks\":\"\"}},\"colorscale\":{\"sequential\":[[0.0,\"#0d0887\"],[0.1111111111111111,\"#46039f\"],[0.2222222222222222,\"#7201a8\"],[0.3333333333333333,\"#9c179e\"],[0.4444444444444444,\"#bd3786\"],[0.5555555555555556,\"#d8576b\"],[0.6666666666666666,\"#ed7953\"],[0.7777777777777778,\"#fb9f3a\"],[0.8888888888888888,\"#fdca26\"],[1.0,\"#f0f921\"]],\"sequentialminus\":[[0.0,\"#0d0887\"],[0.1111111111111111,\"#46039f\"],[0.2222222222222222,\"#7201a8\"],[0.3333333333333333,\"#9c179e\"],[0.4444444444444444,\"#bd3786\"],[0.5555555555555556,\"#d8576b\"],[0.6666666666666666,\"#ed7953\"],[0.7777777777777778,\"#fb9f3a\"],[0.8888888888888888,\"#fdca26\"],[1.0,\"#f0f921\"]],\"diverging\":[[0,\"#8e0152\"],[0.1,\"#c51b7d\"],[0.2,\"#de77ae\"],[0.3,\"#f1b6da\"],[0.4,\"#fde0ef\"],[0.5,\"#f7f7f7\"],[0.6,\"#e6f5d0\"],[0.7,\"#b8e186\"],[0.8,\"#7fbc41\"],[0.9,\"#4d9221\"],[1,\"#276419\"]]},\"xaxis\":{\"gridcolor\":\"white\",\"linecolor\":\"white\",\"ticks\":\"\",\"title\":{\"standoff\":15},\"zerolinecolor\":\"white\",\"automargin\":true,\"zerolinewidth\":2},\"yaxis\":{\"gridcolor\":\"white\",\"linecolor\":\"white\",\"ticks\":\"\",\"title\":{\"standoff\":15},\"zerolinecolor\":\"white\",\"automargin\":true,\"zerolinewidth\":2},\"scene\":{\"xaxis\":{\"backgroundcolor\":\"#E5ECF6\",\"gridcolor\":\"white\",\"linecolor\":\"white\",\"showbackground\":true,\"ticks\":\"\",\"zerolinecolor\":\"white\",\"gridwidth\":2},\"yaxis\":{\"backgroundcolor\":\"#E5ECF6\",\"gridcolor\":\"white\",\"linecolor\":\"white\",\"showbackground\":true,\"ticks\":\"\",\"zerolinecolor\":\"white\",\"gridwidth\":2},\"zaxis\":{\"backgroundcolor\":\"#E5ECF6\",\"gridcolor\":\"white\",\"linecolor\":\"white\",\"showbackground\":true,\"ticks\":\"\",\"zerolinecolor\":\"white\",\"gridwidth\":2}},\"shapedefaults\":{\"line\":{\"color\":\"#2a3f5f\"}},\"annotationdefaults\":{\"arrowcolor\":\"#2a3f5f\",\"arrowhead\":0,\"arrowwidth\":1},\"geo\":{\"bgcolor\":\"white\",\"landcolor\":\"#E5ECF6\",\"subunitcolor\":\"white\",\"showland\":true,\"showlakes\":true,\"lakecolor\":\"white\"},\"title\":{\"x\":0.05},\"mapbox\":{\"style\":\"light\"}}},\"xaxis\":{\"anchor\":\"y\",\"domain\":[0.0,0.45]},\"yaxis\":{\"anchor\":\"x\",\"domain\":[0.625,1.0]},\"xaxis2\":{\"anchor\":\"y2\",\"domain\":[0.55,1.0]},\"yaxis2\":{\"anchor\":\"x2\",\"domain\":[0.625,1.0]},\"xaxis3\":{\"anchor\":\"y3\",\"domain\":[0.0,0.45]},\"yaxis3\":{\"anchor\":\"x3\",\"domain\":[0.0,0.375]},\"xaxis4\":{\"anchor\":\"y4\",\"domain\":[0.55,1.0]},\"yaxis4\":{\"anchor\":\"x4\",\"domain\":[0.0,0.375]},\"annotations\":[{\"font\":{\"size\":16},\"showarrow\":false,\"text\":\"Val vs Test WMAE\",\"x\":0.225,\"xanchor\":\"center\",\"xref\":\"paper\",\"y\":1.0,\"yanchor\":\"bottom\",\"yref\":\"paper\"},{\"font\":{\"size\":16},\"showarrow\":false,\"text\":\"Performance Timeline\",\"x\":0.775,\"xanchor\":\"center\",\"xref\":\"paper\",\"y\":1.0,\"yanchor\":\"bottom\",\"yref\":\"paper\"},{\"font\":{\"size\":16},\"showarrow\":false,\"text\":\"Hyperparameter Heatmap\",\"x\":0.225,\"xanchor\":\"center\",\"xref\":\"paper\",\"y\":0.375,\"yanchor\":\"bottom\",\"yref\":\"paper\"},{\"font\":{\"size\":16},\"showarrow\":false,\"text\":\"Top 5 Combinations\",\"x\":0.775,\"xanchor\":\"center\",\"xref\":\"paper\",\"y\":0.375,\"yanchor\":\"bottom\",\"yref\":\"paper\"}],\"title\":{\"text\":\"Interactive Grid Search Analysis\"},\"showlegend\":false,\"height\":800},                        {\"responsive\": true}                    ).then(function(){\n",
              "                            \n",
              "var gd = document.getElementById('4f48d6ea-78c5-4a17-a502-488c54beb93a');\n",
              "var x = new MutationObserver(function (mutations, observer) {{\n",
              "        var display = window.getComputedStyle(gd).display;\n",
              "        if (!display || display === 'none') {{\n",
              "            console.log([gd, 'removed!']);\n",
              "            Plotly.purge(gd);\n",
              "            observer.disconnect();\n",
              "        }}\n",
              "}});\n",
              "\n",
              "// Listen for the removal of the full notebook cells\n",
              "var notebookContainer = gd.closest('#notebook-container');\n",
              "if (notebookContainer) {{\n",
              "    x.observe(notebookContainer, {childList: true});\n",
              "}}\n",
              "\n",
              "// Listen for the clearing of the current output cell\n",
              "var outputEl = gd.closest('.output');\n",
              "if (outputEl) {{\n",
              "    x.observe(outputEl, {childList: true});\n",
              "}}\n",
              "\n",
              "                        })                };                            </script>        </div>\n",
              "</body>\n",
              "</html>"
            ]
          },
          "metadata": {}
        },
        {
          "output_type": "stream",
          "name": "stdout",
          "text": [
            "\n",
            "============================================================\n",
            "GRID SEARCH SUMMARY\n",
            "============================================================\n",
            "Total combinations tested: 24\n",
            "Best validation WMAE: 589.30842\n",
            "\n",
            "Top 5 Combinations (by validation WMAE):\n",
            "  21: Val=589.30842, Test=575.92619 (LR=0.1, Leaves=63.0, Subsample=0.8, Colsample=0.8)\n",
            "  23: Val=589.30842, Test=575.92619 (LR=0.1, Leaves=63.0, Subsample=1.0, Colsample=0.8)\n",
            "  22: Val=622.50967, Test=592.12650 (LR=0.1, Leaves=63.0, Subsample=0.8, Colsample=1.0)\n",
            "  24: Val=622.50967, Test=592.12650 (LR=0.1, Leaves=63.0, Subsample=1.0, Colsample=1.0)\n",
            "  14: Val=652.93435, Test=638.92385 (LR=0.05, Leaves=63.0, Subsample=0.8, Colsample=1.0)\n",
            "\n",
            "Parameter Impact (average validation WMAE):\n",
            "\n",
            "learning_rate:\n",
            "  0.01: 1046.80436 ± 74.77353\n",
            "  0.05: 722.84513 ± 72.32213\n",
            "  0.1: 751.37370 ± 240.84065\n",
            "\n",
            "num_leaves:\n",
            "  31: 933.57413 ± 203.61290\n",
            "  63: 747.10799 ± 173.70379\n",
            "\n",
            "subsample:\n",
            "  0.8: 840.34106 ± 212.83382\n",
            "  1.0: 840.34106 ± 212.83382\n",
            "\n",
            "colsample_bytree:\n",
            "  0.8: 789.11496 ± 190.66975\n",
            "  1.0: 891.56716 ± 220.26388\n",
            "\n",
            "============================================================\n",
            "BEST MODEL RESULTS\n",
            "============================================================\n",
            "Best Parameters:\n",
            "  learning_rate: 0.1\n",
            "  num_leaves: 63\n",
            "  subsample: 0.8\n",
            "  colsample_bytree: 0.8\n",
            "\n",
            "Best Validation WMAE: 589.30842\n",
            "Final Test WMAE: 575.92619\n",
            "Overfitting (Test - Val): -13.38223\n"
          ]
        },
        {
          "output_type": "display_data",
          "data": {
            "text/plain": [
              "<Figure size 1200x800 with 1 Axes>"
            ],
            "image/png": "[encoded data removed]"
          },
          "metadata": {}
        },
        {
          "output_type": "display_data",
          "data": {
            "text/plain": [
              "<IPython.core.display.HTML object>"
            ],
            "text/html": []
          },
          "metadata": {}
        },
        {
          "output_type": "display_data",
          "data": {
            "text/plain": [
              "<IPython.core.display.HTML object>"
            ],
            "text/html": [
              "<br>    <style><br>        .wandb-row {<br>            display: flex;<br>            flex-direction: row;<br>            flex-wrap: wrap;<br>            justify-content: flex-start;<br>            width: 100%;<br>        }<br>        .wandb-col {<br>            display: flex;<br>            flex-direction: column;<br>            flex-basis: 100%;<br>            flex: 1;<br>            padding: 10px;<br>        }<br>    </style><br><div class=\"wandb-row\"><div class=\"wandb-col\"><h3>Run history:</h3><br/><table class=\"wandb\"><tr><td>best_colsample_bytree</td><td>▁</td></tr><tr><td>best_learning_rate</td><td>▁</td></tr><tr><td>best_num_leaves</td><td>▁</td></tr><tr><td>best_subsample</td><td>▁</td></tr><tr><td>best_val_WMAE</td><td>▁</td></tr><tr><td>colsample_bytree</td><td>▁█▁█▁█▁█▁█▁█▁█▁█▁█▁█▁█▁█</td></tr><tr><td>final_test_WMAE</td><td>▁</td></tr><tr><td>learning_rate</td><td>▁▁▁▁▁▁▁▁▄▄▄▄▄▄▄▄████████</td></tr><tr><td>n_estimators_used</td><td>█▅█▅█▅█▅█████████▁█▁████</td></tr><tr><td>num_leaves</td><td>▁▁▁▁████▁▁▁▁████▁▁▁▁████</td></tr><tr><td>overfitting</td><td>▇█▇█▇▇▇▇▃▁▃▁▅▆▅▆▅█▅█▆▅▆▅</td></tr><tr><td>overfitting_best_model</td><td>▁</td></tr><tr><td>subsample</td><td>▁▁██▁▁██▁▁██▁▁██▁▁██▁▁██</td></tr><tr><td>test_WMAE</td><td>▇█▇█▆▆▆▆▃▃▃▃▂▂▂▂▂█▂█▁▁▁▁</td></tr><tr><td>val_WMAE</td><td>▇█▇█▆▆▆▆▃▄▃▄▂▂▂▂▂█▂█▁▁▁▁</td></tr></table><br/></div><div class=\"wandb-col\"><h3>Run summary:</h3><br/><table class=\"wandb\"><tr><td>best_colsample_bytree</td><td>0.8</td></tr><tr><td>best_learning_rate</td><td>0.1</td></tr><tr><td>best_num_leaves</td><td>63</td></tr><tr><td>best_subsample</td><td>0.8</td></tr><tr><td>best_val_WMAE</td><td>589.30842</td></tr><tr><td>colsample_bytree</td><td>1</td></tr><tr><td>final_test_WMAE</td><td>575.92619</td></tr><tr><td>learning_rate</td><td>0.1</td></tr><tr><td>n_estimators_used</td><td>1000</td></tr><tr><td>num_leaves</td><td>63</td></tr><tr><td>overfitting</td><td>-30.38317</td></tr><tr><td>overfitting_best_model</td><td>-13.38223</td></tr><tr><td>subsample</td><td>1</td></tr><tr><td>test_WMAE</td><td>592.1265</td></tr><tr><td>val_WMAE</td><td>622.50967</td></tr></table><br/></div></div>"
            ]
          },
          "metadata": {}
        },
        {
          "output_type": "display_data",
          "data": {
            "text/plain": [
              "<IPython.core.display.HTML object>"
            ],
            "text/html": [
              " View run <strong style=\"color:#cdcd00\">GridSearch-WMAE</strong> at: <a href='https://wandb.ai/final-project-ml/walmart-forecasting/runs/5gm1ao5g' target=\"_blank\">https://wandb.ai/final-project-ml/walmart-forecasting/runs/5gm1ao5g</a><br> View project at: <a href='https://wandb.ai/final-project-ml/walmart-forecasting' target=\"_blank\">https://wandb.ai/final-project-ml/walmart-forecasting</a><br>Synced 5 W&B file(s), 2 media file(s), 2 artifact file(s) and 0 other file(s)"
            ]
          },
          "metadata": {}
        },
        {
          "output_type": "display_data",
          "data": {
            "text/plain": [
              "<IPython.core.display.HTML object>"
            ],
            "text/html": [
              "Find logs at: <code>./wandb/run-20250708_160359-5gm1ao5g/logs</code>"
            ]
          },
          "metadata": {}
        },
        {
          "output_type": "stream",
          "name": "stdout",
          "text": [
            "\n",
            "Grid search completed! Check your plots above and W&B dashboard for detailed analysis.\n"
          ]
        },
        {
          "output_type": "display_data",
          "data": {
            "text/plain": [
              "<Figure size 800x550 with 0 Axes>"
            ]
          },
          "metadata": {}
        }
      ]
    },
    {
      "cell_type": "code",
      "source": [
        "!pip install lightgbm --quiet\n",
        "import lightgbm as lgb\n",
        "import numpy as np\n",
        "wandb.init(\n",
        "    project=\"walmart-forecasting\",\n",
        "    entity=\"final-project-ml\",\n",
        "    name=\"lightGBM basic\",\n",
        "    config={\n",
        "        \"model\": \"LightGBM\",\n",
        "        \"learning_rate\": 0.05,\n",
        "        \"num_leaves\": 31,\n",
        "        \"n_estimators\": 1000,\n",
        "        \"subsample\": 0.8,\n",
        "        \"colsample_bytree\": 0.8,\n",
        "        \"random_state\": 42\n",
        "    }\n",
        ")"
      ],
      "metadata": {
        "colab": {
          "base_uri": "https://localhost:8080/",
          "height": 125
        },
        "id": "jAOduYguvfMY",
        "outputId": "8ea248dc-e0ac-4e21-81e0-fe3cfe4944f2"
      },
      "execution_count": null,
      "outputs": [
        {
          "output_type": "display_data",
          "data": {
            "text/plain": [
              "<IPython.core.display.HTML object>"
            ],
            "text/html": [
              "Tracking run with wandb version 0.20.1"
            ]
          },
          "metadata": {}
        },
        {
          "output_type": "display_data",
          "data": {
            "text/plain": [
              "<IPython.core.display.HTML object>"
            ],
            "text/html": [
              "Run data is saved locally in <code>/content/wandb/run-20250703_195523-zvx7wo7e</code>"
            ]
          },
          "metadata": {}
        },
        {
          "output_type": "display_data",
          "data": {
            "text/plain": [
              "<IPython.core.display.HTML object>"
            ],
            "text/html": [
              "Syncing run <strong><a href='https://wandb.ai/final-project-ml/walmart-forecasting/runs/zvx7wo7e' target=\"_blank\">lightGBM basic</a></strong> to <a href='https://wandb.ai/final-project-ml/walmart-forecasting' target=\"_blank\">Weights & Biases</a> (<a href='https://wandb.me/developer-guide' target=\"_blank\">docs</a>)<br>"
            ]
          },
          "metadata": {}
        },
        {
          "output_type": "display_data",
          "data": {
            "text/plain": [
              "<IPython.core.display.HTML object>"
            ],
            "text/html": [
              " View project at <a href='https://wandb.ai/final-project-ml/walmart-forecasting' target=\"_blank\">https://wandb.ai/final-project-ml/walmart-forecasting</a>"
            ]
          },
          "metadata": {}
        },
        {
          "output_type": "display_data",
          "data": {
            "text/plain": [
              "<IPython.core.display.HTML object>"
            ],
            "text/html": [
              " View run at <a href='https://wandb.ai/final-project-ml/walmart-forecasting/runs/zvx7wo7e' target=\"_blank\">https://wandb.ai/final-project-ml/walmart-forecasting/runs/zvx7wo7e</a>"
            ]
          },
          "metadata": {}
        },
        {
          "output_type": "execute_result",
          "data": {
            "text/html": [
              "<button onClick=\"this.nextSibling.style.display='block';this.style.display='none';\">Display W&B run</button><iframe src='https://wandb.ai/final-project-ml/walmart-forecasting/runs/zvx7wo7e?jupyter=true' style='border:none;width:100%;height:420px;display:none;'></iframe>"
            ],
            "text/plain": [
              "<wandb.sdk.wandb_run.Run at 0x7c98b3b6abd0>"
            ]
          },
          "metadata": {},
          "execution_count": 31
        }
      ]
    },
    {
      "cell_type": "code",
      "source": [
        "model = lgb.LGBMRegressor(\n",
        "    objective=\"regression\",\n",
        "    learning_rate=0.05,\n",
        "    num_leaves=31,\n",
        "    n_estimators=1000,\n",
        "    subsample=0.8,\n",
        "    colsample_bytree=0.8,\n",
        "    random_state=42,\n",
        "    verbosity=-1\n",
        ")\n",
        "\n",
        "best_val_wmae = float(\"inf\")\n",
        "early_stopping_rounds = 50\n",
        "rounds_no_improve = 0\n",
        "\n",
        "for i in range(1, 101):\n",
        "    model.n_estimators = i\n",
        "    model.fit(X_train, y_train)\n",
        "\n",
        "    train_preds = model.predict(X_train)\n",
        "    val_preds = model.predict(X_val)\n",
        "    test_preds = model.predict(X_test)\n",
        "\n",
        "    train_wmae = WMAE(y_train, train_preds, train_weights)\n",
        "    val_wmae = WMAE(y_val, val_preds, val_weights)\n",
        "    test_wmae = WMAE(y_test, test_preds, test_weights)\n",
        "\n",
        "\n",
        "    wandb.log({\n",
        "        \"epoch\": i,\n",
        "        \"train_WMAE\": train_wmae,\n",
        "        \"val_WMAE\": val_wmae,\n",
        "        \"test_WMAE\": test_wmae,\n",
        "    })\n",
        "\n",
        "    print(f\"Epoch {i} - Train: {train_wmae:.2f}\"\n",
        "          f\", Val: {val_wmae:.2f}\"\n",
        "          f\", Test: {test_wmae:.2f}\")\n",
        "\n",
        "    if val_wmae < best_val_wmae:\n",
        "        best_val_wmae = val_wmae\n",
        "        rounds_no_improve = 0\n",
        "    else:\n",
        "        rounds_no_improve += 1\n",
        "\n",
        "    if rounds_no_improve >= early_stopping_rounds:\n",
        "        print(f\"Early stopping at round {i}\")\n",
        "        break\n",
        "\n",
        "wandb.finish()"
      ],
      "metadata": {
        "colab": {
          "base_uri": "https://localhost:8080/",
          "height": 1000
        },
        "id": "a-Ypo0Rd2jyO",
        "outputId": "62a9e16c-758f-45b3-a47e-00ad33507c59"
      },
      "execution_count": null,
      "outputs": [
        {
          "output_type": "stream",
          "name": "stdout",
          "text": [
            "Epoch 1 - Train: 14661.85 (89.98%), Val: 14474.29 (90.49%), Test: 14382.53 (91.43%)\n",
            "Epoch 2 - Train: 13963.25 (85.69%), Val: 13766.05 (86.06%), Test: 13676.35 (86.94%)\n",
            "Epoch 3 - Train: 13301.82 (81.63%), Val: 13092.38 (81.85%), Test: 13007.92 (82.69%)\n",
            "Epoch 4 - Train: 12679.89 (77.82%), Val: 12451.16 (77.84%), Test: 12373.68 (78.66%)\n",
            "Epoch 5 - Train: 12093.63 (74.22%), Val: 11840.16 (74.02%), Test: 11771.62 (74.83%)\n",
            "Epoch 6 - Train: 11530.75 (70.77%), Val: 11263.97 (70.42%), Test: 11200.79 (71.20%)\n",
            "Epoch 7 - Train: 11008.28 (67.56%), Val: 10717.45 (67.00%), Test: 10657.18 (67.75%)\n",
            "Epoch 8 - Train: 10512.70 (64.52%), Val: 10201.11 (63.77%), Test: 10145.43 (64.49%)\n",
            "Epoch 9 - Train: 10028.86 (61.55%), Val: 9709.15 (60.70%), Test: 9657.50 (61.39%)\n",
            "Epoch 10 - Train: 9572.01 (58.74%), Val: 9242.33 (57.78%), Test: 9195.80 (58.46%)\n",
            "Epoch 11 - Train: 9142.01 (56.11%), Val: 8798.64 (55.00%), Test: 8757.82 (55.67%)\n",
            "Epoch 12 - Train: 8743.34 (53.66%), Val: 8379.66 (52.39%), Test: 8341.99 (53.03%)\n",
            "Epoch 13 - Train: 8355.12 (51.28%), Val: 7979.95 (49.89%), Test: 7948.38 (50.53%)\n",
            "Epoch 14 - Train: 7989.46 (49.03%), Val: 7600.38 (47.51%), Test: 7574.27 (48.15%)\n",
            "Epoch 15 - Train: 7652.81 (46.97%), Val: 7242.39 (45.28%), Test: 7220.46 (45.90%)\n",
            "Epoch 16 - Train: 7330.65 (44.99%), Val: 6900.94 (43.14%), Test: 6885.86 (43.77%)\n",
            "Epoch 17 - Train: 7027.51 (43.13%), Val: 6579.70 (41.13%), Test: 6567.61 (41.75%)\n",
            "Epoch 18 - Train: 6733.75 (41.33%), Val: 6276.90 (39.24%), Test: 6266.02 (39.83%)\n",
            "Epoch 19 - Train: 6465.47 (39.68%), Val: 5991.36 (37.45%), Test: 5982.22 (38.03%)\n",
            "Epoch 20 - Train: 6202.77 (38.07%), Val: 5714.56 (35.72%), Test: 5709.35 (36.29%)\n",
            "Epoch 21 - Train: 5956.84 (36.56%), Val: 5455.45 (34.10%), Test: 5453.71 (34.67%)\n",
            "Epoch 22 - Train: 5719.22 (35.10%), Val: 5207.82 (32.56%), Test: 5205.10 (33.09%)\n",
            "Epoch 23 - Train: 5494.62 (33.72%), Val: 4973.19 (31.09%), Test: 4969.57 (31.59%)\n",
            "Epoch 24 - Train: 5281.57 (32.41%), Val: 4752.53 (29.71%), Test: 4750.52 (30.20%)\n",
            "Epoch 25 - Train: 5082.54 (31.19%), Val: 4543.91 (28.41%), Test: 4543.66 (28.88%)\n",
            "Epoch 26 - Train: 4896.47 (30.05%), Val: 4346.15 (27.17%), Test: 4347.66 (27.64%)\n",
            "Epoch 27 - Train: 4720.67 (28.97%), Val: 4159.72 (26.00%), Test: 4162.68 (26.46%)\n",
            "Epoch 28 - Train: 4550.18 (27.92%), Val: 3985.59 (24.92%), Test: 3988.89 (25.36%)\n",
            "Epoch 29 - Train: 4389.63 (26.94%), Val: 3820.92 (23.89%), Test: 3824.19 (24.31%)\n",
            "Epoch 30 - Train: 4247.52 (26.07%), Val: 3663.92 (22.90%), Test: 3669.02 (23.32%)\n",
            "Epoch 31 - Train: 4106.53 (25.20%), Val: 3515.14 (21.97%), Test: 3518.75 (22.37%)\n",
            "Epoch 32 - Train: 3968.56 (24.36%), Val: 3376.83 (21.11%), Test: 3377.52 (21.47%)\n",
            "Epoch 33 - Train: 3842.44 (23.58%), Val: 3245.55 (20.29%), Test: 3246.35 (20.64%)\n",
            "Epoch 34 - Train: 3726.03 (22.87%), Val: 3122.29 (19.52%), Test: 3119.57 (19.83%)\n",
            "Epoch 35 - Train: 3608.17 (22.14%), Val: 3004.77 (18.78%), Test: 3000.07 (19.07%)\n",
            "Epoch 36 - Train: 3498.60 (21.47%), Val: 2896.09 (18.10%), Test: 2890.02 (18.37%)\n",
            "Epoch 37 - Train: 3395.81 (20.84%), Val: 2792.00 (17.45%), Test: 2786.40 (17.71%)\n",
            "Epoch 38 - Train: 3304.97 (20.28%), Val: 2693.25 (16.84%), Test: 2686.72 (17.08%)\n",
            "Epoch 39 - Train: 3216.99 (19.74%), Val: 2602.38 (16.27%), Test: 2595.13 (16.50%)\n",
            "Epoch 40 - Train: 3133.53 (19.23%), Val: 2515.56 (15.73%), Test: 2508.85 (15.95%)\n",
            "Epoch 41 - Train: 3054.61 (18.75%), Val: 2434.79 (15.22%), Test: 2429.42 (15.44%)\n",
            "Epoch 42 - Train: 2982.48 (18.30%), Val: 2359.08 (14.75%), Test: 2354.49 (14.97%)\n",
            "Epoch 43 - Train: 2911.61 (17.87%), Val: 2289.05 (14.31%), Test: 2283.93 (14.52%)\n",
            "Epoch 44 - Train: 2844.88 (17.46%), Val: 2224.29 (13.91%), Test: 2219.24 (14.11%)\n",
            "Epoch 45 - Train: 2786.52 (17.10%), Val: 2162.06 (13.52%), Test: 2156.63 (13.71%)\n",
            "Epoch 46 - Train: 2724.36 (16.72%), Val: 2104.79 (13.16%), Test: 2099.46 (13.35%)\n",
            "Epoch 47 - Train: 2669.94 (16.39%), Val: 2051.79 (12.83%), Test: 2046.51 (13.01%)\n",
            "Epoch 48 - Train: 2622.10 (16.09%), Val: 2000.63 (12.51%), Test: 1994.93 (12.68%)\n",
            "Epoch 49 - Train: 2573.95 (15.80%), Val: 1955.00 (12.22%), Test: 1948.70 (12.39%)\n",
            "Epoch 50 - Train: 2527.16 (15.51%), Val: 1911.11 (11.95%), Test: 1905.36 (12.11%)\n",
            "Epoch 51 - Train: 2482.07 (15.23%), Val: 1869.12 (11.68%), Test: 1862.91 (11.84%)\n",
            "Epoch 52 - Train: 2441.33 (14.98%), Val: 1830.92 (11.45%), Test: 1825.25 (11.60%)\n",
            "Epoch 53 - Train: 2405.66 (14.76%), Val: 1796.95 (11.23%), Test: 1791.39 (11.39%)\n",
            "Epoch 54 - Train: 2368.14 (14.53%), Val: 1765.68 (11.04%), Test: 1758.04 (11.18%)\n",
            "Epoch 55 - Train: 2336.61 (14.34%), Val: 1736.68 (10.86%), Test: 1728.61 (10.99%)\n",
            "Epoch 56 - Train: 2305.84 (14.15%), Val: 1706.88 (10.67%), Test: 1698.57 (10.80%)\n",
            "Epoch 57 - Train: 2275.61 (13.97%), Val: 1680.47 (10.51%), Test: 1671.97 (10.63%)\n",
            "Epoch 58 - Train: 2246.52 (13.79%), Val: 1654.43 (10.34%), Test: 1646.56 (10.47%)\n",
            "Epoch 59 - Train: 2216.79 (13.60%), Val: 1631.81 (10.20%), Test: 1622.85 (10.32%)\n",
            "Epoch 60 - Train: 2192.50 (13.46%), Val: 1610.33 (10.07%), Test: 1601.62 (10.18%)\n",
            "Epoch 61 - Train: 2168.32 (13.31%), Val: 1588.96 (9.93%), Test: 1580.75 (10.05%)\n",
            "Epoch 62 - Train: 2145.67 (13.17%), Val: 1569.97 (9.81%), Test: 1561.55 (9.93%)\n",
            "Epoch 63 - Train: 2123.56 (13.03%), Val: 1551.07 (9.70%), Test: 1542.85 (9.81%)\n",
            "Epoch 64 - Train: 2102.65 (12.90%), Val: 1535.77 (9.60%), Test: 1528.62 (9.72%)\n",
            "Epoch 65 - Train: 2082.68 (12.78%), Val: 1518.63 (9.49%), Test: 1511.79 (9.61%)\n",
            "Epoch 66 - Train: 2063.51 (12.66%), Val: 1503.02 (9.40%), Test: 1496.46 (9.51%)\n",
            "Epoch 67 - Train: 2046.05 (12.56%), Val: 1489.61 (9.31%), Test: 1483.14 (9.43%)\n",
            "Epoch 68 - Train: 2028.51 (12.45%), Val: 1477.74 (9.24%), Test: 1470.44 (9.35%)\n",
            "Epoch 69 - Train: 2010.78 (12.34%), Val: 1465.26 (9.16%), Test: 1458.13 (9.27%)\n",
            "Epoch 70 - Train: 1996.92 (12.26%), Val: 1452.26 (9.08%), Test: 1456.19 (9.26%)\n",
            "Epoch 71 - Train: 1982.17 (12.16%), Val: 1441.73 (9.01%), Test: 1445.85 (9.19%)\n",
            "Epoch 72 - Train: 1968.70 (12.08%), Val: 1431.65 (8.95%), Test: 1435.34 (9.12%)\n",
            "Epoch 73 - Train: 1956.36 (12.01%), Val: 1422.93 (8.90%), Test: 1426.60 (9.07%)\n",
            "Epoch 74 - Train: 1942.37 (11.92%), Val: 1412.27 (8.83%), Test: 1416.79 (9.01%)\n",
            "Epoch 75 - Train: 1928.24 (11.83%), Val: 1405.04 (8.78%), Test: 1408.85 (8.96%)\n",
            "Epoch 76 - Train: 1917.39 (11.77%), Val: 1397.01 (8.73%), Test: 1400.81 (8.90%)\n",
            "Epoch 77 - Train: 1905.48 (11.69%), Val: 1390.91 (8.70%), Test: 1393.05 (8.86%)\n",
            "Epoch 78 - Train: 1894.52 (11.63%), Val: 1382.71 (8.64%), Test: 1388.98 (8.83%)\n",
            "Epoch 79 - Train: 1886.47 (11.58%), Val: 1377.53 (8.61%), Test: 1383.99 (8.80%)\n",
            "Epoch 80 - Train: 1876.52 (11.52%), Val: 1371.83 (8.58%), Test: 1378.20 (8.76%)\n",
            "Epoch 81 - Train: 1868.39 (11.47%), Val: 1366.61 (8.54%), Test: 1372.56 (8.73%)\n",
            "Epoch 82 - Train: 1858.97 (11.41%), Val: 1360.82 (8.51%), Test: 1370.15 (8.71%)\n",
            "Epoch 83 - Train: 1849.60 (11.35%), Val: 1354.08 (8.47%), Test: 1362.94 (8.66%)\n",
            "Epoch 84 - Train: 1842.43 (11.31%), Val: 1349.18 (8.43%), Test: 1357.73 (8.63%)\n",
            "Epoch 85 - Train: 1833.04 (11.25%), Val: 1342.61 (8.39%), Test: 1350.73 (8.59%)\n",
            "Epoch 86 - Train: 1825.93 (11.21%), Val: 1337.04 (8.36%), Test: 1345.52 (8.55%)\n",
            "Epoch 87 - Train: 1816.50 (11.15%), Val: 1332.00 (8.33%), Test: 1344.35 (8.55%)\n",
            "Epoch 88 - Train: 1810.41 (11.11%), Val: 1328.28 (8.30%), Test: 1339.96 (8.52%)\n",
            "Epoch 89 - Train: 1802.83 (11.06%), Val: 1322.73 (8.27%), Test: 1338.05 (8.51%)\n",
            "Epoch 90 - Train: 1796.38 (11.02%), Val: 1318.21 (8.24%), Test: 1333.99 (8.48%)\n",
            "Epoch 91 - Train: 1787.14 (10.97%), Val: 1314.51 (8.22%), Test: 1331.83 (8.47%)\n",
            "Epoch 92 - Train: 1781.74 (10.93%), Val: 1311.19 (8.20%), Test: 1328.06 (8.44%)\n",
            "Epoch 93 - Train: 1773.12 (10.88%), Val: 1308.09 (8.18%), Test: 1328.37 (8.44%)\n",
            "Epoch 94 - Train: 1767.24 (10.85%), Val: 1305.11 (8.16%), Test: 1381.83 (8.78%)\n",
            "Epoch 95 - Train: 1761.53 (10.81%), Val: 1301.41 (8.14%), Test: 1377.35 (8.76%)\n",
            "Epoch 96 - Train: 1756.35 (10.78%), Val: 1298.57 (8.12%), Test: 1374.28 (8.74%)\n",
            "Epoch 97 - Train: 1753.10 (10.76%), Val: 1298.63 (8.12%), Test: 1372.39 (8.72%)\n",
            "Epoch 98 - Train: 1747.13 (10.72%), Val: 1295.35 (8.10%), Test: 1375.52 (8.74%)\n",
            "Epoch 99 - Train: 1742.32 (10.69%), Val: 1292.19 (8.08%), Test: 1426.18 (9.07%)\n",
            "Epoch 100 - Train: 1737.16 (10.66%), Val: 1291.13 (8.07%), Test: 1425.34 (9.06%)\n"
          ]
        },
        {
          "output_type": "display_data",
          "data": {
            "text/plain": [
              "<IPython.core.display.HTML object>"
            ],
            "text/html": []
          },
          "metadata": {}
        },
        {
          "output_type": "display_data",
          "data": {
            "text/plain": [
              "<IPython.core.display.HTML object>"
            ],
            "text/html": [
              "<br>    <style><br>        .wandb-row {<br>            display: flex;<br>            flex-direction: row;<br>            flex-wrap: wrap;<br>            justify-content: flex-start;<br>            width: 100%;<br>        }<br>        .wandb-col {<br>            display: flex;<br>            flex-direction: column;<br>            flex-basis: 100%;<br>            flex: 1;<br>            padding: 10px;<br>        }<br>    </style><br><div class=\"wandb-row\"><div class=\"wandb-col\"><h3>Run history:</h3><br/><table class=\"wandb\"><tr><td>epoch</td><td>▁▁▁▂▂▁▁▁▂▂▂▂▃▃▃▄▄▄▄▁▁▁▂▂▂▃▃▃▃▅▅▅▆▆▆▇▇▇██</td></tr><tr><td>test_WMAE</td><td>▇▆▆▆▆▇▇▆▆▅▄▃▃▂▂▁█▅▄▃▂▂▂▂▂▂▁▁▁▁▁▁▁▁▁▁▁▁▁▁</td></tr><tr><td>test_WMAE_percent</td><td>█▇▆▄▃▃▃▂▂▂▁▁█▇▆▆▃▃▃▃▂▂▂▂▁▁▁▁▁▁▁▁▁▁▁▁▁▁▁▁</td></tr><tr><td>train_WMAE</td><td>█▇▇▆█▆▆▅▅▄█▇▅▄▄▃▂▂▂▁▆▆▅▅▅▄▂▂▂▂▁▁▁▁▁▁▁▁▁▁</td></tr><tr><td>train_WMAE_percent</td><td>█▆▆▅▄▃▃▃▂▂▂▂▂▁█▆▅▅▅▄▂▂▂▂▂▂▁▁▁▁▁▁▁▁▁▁▁▁▁▁</td></tr><tr><td>val_WMAE</td><td>▆██▇▇▇▅▄▄█▅▄▄▃▃▂▂▂▁▁▅▅▄▄▃▂▂▂▂▁▁▁▁▁▁▁▁▁▁▁</td></tr><tr><td>val_WMAE_percent</td><td>██▇▅▅▄▄▄▄▂▂▂▂█▅▅▄▄▃▃▂▂▂▂▂▁▁▁▁▁▁▁▁▁▁▁▁▁▁▁</td></tr></table><br/></div><div class=\"wandb-col\"><h3>Run summary:</h3><br/><table class=\"wandb\"><tr><td>epoch</td><td>100</td></tr><tr><td>test_WMAE</td><td>1425.34185</td></tr><tr><td>test_WMAE_percent</td><td>9.06062</td></tr><tr><td>train_WMAE</td><td>1737.16161</td></tr><tr><td>train_WMAE_percent</td><td>10.6611</td></tr><tr><td>val_WMAE</td><td>1291.13213</td></tr><tr><td>val_WMAE_percent</td><td>8.07148</td></tr></table><br/></div></div>"
            ]
          },
          "metadata": {}
        },
        {
          "output_type": "display_data",
          "data": {
            "text/plain": [
              "<IPython.core.display.HTML object>"
            ],
            "text/html": [
              " View run <strong style=\"color:#cdcd00\">lightGBM basic</strong> at: <a href='https://wandb.ai/final-project-ml/walmart-forecasting/runs/zvx7wo7e' target=\"_blank\">https://wandb.ai/final-project-ml/walmart-forecasting/runs/zvx7wo7e</a><br> View project at: <a href='https://wandb.ai/final-project-ml/walmart-forecasting' target=\"_blank\">https://wandb.ai/final-project-ml/walmart-forecasting</a><br>Synced 5 W&B file(s), 0 media file(s), 0 artifact file(s) and 0 other file(s)"
            ]
          },
          "metadata": {}
        },
        {
          "output_type": "display_data",
          "data": {
            "text/plain": [
              "<IPython.core.display.HTML object>"
            ],
            "text/html": [
              "Find logs at: <code>./wandb/run-20250703_195523-zvx7wo7e/logs</code>"
            ]
          },
          "metadata": {}
        }
      ]
    },
    {
      "cell_type": "code",
      "source": [
        "import lightgbm as lgb\n",
        "import numpy as np\n",
        "import pandas as pd\n",
        "import itertools\n",
        "import wandb\n",
        "\n",
        "# Initialize wandb\n",
        "wandb.init(\n",
        "    project=\"walmart-forecasting\",\n",
        "    entity=\"final-project-ml\",\n",
        "    name=\"LightGBM tuning\",\n",
        "    config={\n",
        "        \"model\": \"LightGBM\",\n",
        "        \"search_type\": \"grid\",\n",
        "        \"early_stopping_rounds\": 50,\n",
        "        \"n_estimators\": 1000,\n",
        "        \"metric\": \"WMAE\"\n",
        "    }\n",
        ")\n",
        "\n",
        "# Define WMAE\n",
        "def WMAE(y_true, y_pred, weights):\n",
        "    return np.sum(weights * np.abs(y_true - y_pred)) / np.sum(weights)\n",
        "\n",
        "# Define weights\n",
        "train_weights = np.where(train_df['IsHoliday'] == True, 5, 1)\n",
        "val_weights = np.where(val_df['IsHoliday'] == True, 5, 1)\n",
        "test_weights = np.where(test_df['IsHoliday'] == True, 5, 1)\n",
        "\n",
        "# Hyperparameter grid\n",
        "param_grid = {\n",
        "    'num_leaves': [31, 50, 70],\n",
        "    'max_depth': [7, 10, 15],\n",
        "    'learning_rate': [0.05, 0.1],\n",
        "    'min_child_samples': [20, 50],\n",
        "    'subsample': [0.8, 1.0]\n",
        "}\n",
        "\n",
        "best_val_wmae = float('inf')\n",
        "best_params = None\n",
        "\n",
        "# Grid search\n",
        "for num_leaves, max_depth, learning_rate, min_child_samples, subsample in itertools.product(\n",
        "    param_grid['num_leaves'],\n",
        "    param_grid['max_depth'],\n",
        "    param_grid['learning_rate'],\n",
        "    param_grid['min_child_samples'],\n",
        "    param_grid['subsample']\n",
        "):\n",
        "    model = lgb.LGBMRegressor(\n",
        "        objective=\"regression\",\n",
        "        num_leaves=num_leaves,\n",
        "        max_depth=max_depth,\n",
        "        learning_rate=learning_rate,\n",
        "        n_estimators=1000,\n",
        "        min_child_samples=min_child_samples,\n",
        "        subsample=subsample,\n",
        "        random_state=42\n",
        "    )\n",
        "\n",
        "    model.fit(\n",
        "        X_train, y_train,\n",
        "        eval_set=[(X_val, y_val)],\n",
        "        callbacks=[lgb.early_stopping(stopping_rounds=50, verbose=False)]\n",
        "    )\n",
        "\n",
        "    val_preds = model.predict(X_val, num_iteration=model.best_iteration_)\n",
        "    val_wmae = WMAE(y_val, val_preds, val_weights)\n",
        "\n",
        "    wandb.log({\n",
        "        \"val_WMAE\": val_wmae,\n",
        "        \"params/num_leaves\": num_leaves,\n",
        "        \"params/max_depth\": max_depth,\n",
        "        \"params/learning_rate\": learning_rate,\n",
        "        \"params/min_child_samples\": min_child_samples,\n",
        "        \"params/subsample\": subsample\n",
        "    })\n",
        "\n",
        "    print(f\"Params: num_leaves={num_leaves}, max_depth={max_depth}, lr={learning_rate}, \"\n",
        "          f\"min_child_samples={min_child_samples}, subsample={subsample} -> Val WMAE: {val_wmae:.4f}\")\n",
        "\n",
        "    if val_wmae < best_val_wmae:\n",
        "        best_val_wmae = val_wmae\n",
        "        best_params = {\n",
        "            'num_leaves': num_leaves,\n",
        "            'max_depth': max_depth,\n",
        "            'learning_rate': learning_rate,\n",
        "            'min_child_samples': min_child_samples,\n",
        "            'subsample': subsample\n",
        "        }\n",
        "\n",
        "# Final training on train+val\n",
        "print(\"\\nBest params:\", best_params)\n",
        "print(\"Best validation WMAE:\", best_val_wmae)\n",
        "\n",
        "X_train_val = pd.concat([X_train, X_val])\n",
        "y_train_val = pd.concat([y_train, y_val])\n",
        "\n",
        "final_model = lgb.LGBMRegressor(\n",
        "    objective=\"regression\",\n",
        "    **best_params,\n",
        "    n_estimators=1000,\n",
        "    random_state=42\n",
        ")\n",
        "\n",
        "final_model.fit(\n",
        "    X_train_val, y_train_val,\n",
        "    eval_set=[(X_val, y_val)],\n",
        "    callbacks=[lgb.early_stopping(stopping_rounds=50, verbose=False)]\n",
        ")\n",
        "\n",
        "test_preds = final_model.predict(X_test, num_iteration=final_model.best_iteration_)\n",
        "test_wmae = WMAE(y_test, test_preds, test_weights)\n",
        "\n",
        "print(f\"Test WMAE with best params: {test_wmae:.4f}\")\n",
        "wandb.log({\"final_test_WMAE\": test_wmae})\n",
        "\n",
        "wandb.finish()"
      ],
      "metadata": {
        "colab": {
          "base_uri": "https://localhost:8080/",
          "height": 1000
        },
        "id": "-AgOCqKaJeoB",
        "outputId": "04d34957-bb70-4c60-be7f-560ba777a6fd"
      },
      "execution_count": null,
      "outputs": [
        {
          "output_type": "display_data",
          "data": {
            "text/plain": [
              "<IPython.core.display.HTML object>"
            ],
            "text/html": [
              "Finishing previous runs because reinit is set to 'default'."
            ]
          },
          "metadata": {}
        },
        {
          "output_type": "display_data",
          "data": {
            "text/plain": [
              "<IPython.core.display.HTML object>"
            ],
            "text/html": []
          },
          "metadata": {}
        },
        {
          "output_type": "display_data",
          "data": {
            "text/plain": [
              "<IPython.core.display.HTML object>"
            ],
            "text/html": [
              " View run <strong style=\"color:#cdcd00\">LightGBM tuning</strong> at: <a href='https://wandb.ai/final-project-ml/walmart-forecasting/runs/90v7ni7b' target=\"_blank\">https://wandb.ai/final-project-ml/walmart-forecasting/runs/90v7ni7b</a><br> View project at: <a href='https://wandb.ai/final-project-ml/walmart-forecasting' target=\"_blank\">https://wandb.ai/final-project-ml/walmart-forecasting</a><br>Synced 5 W&B file(s), 0 media file(s), 0 artifact file(s) and 0 other file(s)"
            ]
          },
          "metadata": {}
        },
        {
          "output_type": "display_data",
          "data": {
            "text/plain": [
              "<IPython.core.display.HTML object>"
            ],
            "text/html": [
              "Find logs at: <code>./wandb/run-20250703_212040-90v7ni7b/logs</code>"
            ]
          },
          "metadata": {}
        },
        {
          "output_type": "display_data",
          "data": {
            "text/plain": [
              "<IPython.core.display.HTML object>"
            ],
            "text/html": [
              "Tracking run with wandb version 0.20.1"
            ]
          },
          "metadata": {}
        },
        {
          "output_type": "display_data",
          "data": {
            "text/plain": [
              "<IPython.core.display.HTML object>"
            ],
            "text/html": [
              "Run data is saved locally in <code>/content/wandb/run-20250703_212120-mwqvsupi</code>"
            ]
          },
          "metadata": {}
        },
        {
          "output_type": "display_data",
          "data": {
            "text/plain": [
              "<IPython.core.display.HTML object>"
            ],
            "text/html": [
              "Syncing run <strong><a href='https://wandb.ai/final-project-ml/walmart-forecasting/runs/mwqvsupi' target=\"_blank\">LightGBM tuning</a></strong> to <a href='https://wandb.ai/final-project-ml/walmart-forecasting' target=\"_blank\">Weights & Biases</a> (<a href='https://wandb.me/developer-guide' target=\"_blank\">docs</a>)<br>"
            ]
          },
          "metadata": {}
        },
        {
          "output_type": "display_data",
          "data": {
            "text/plain": [
              "<IPython.core.display.HTML object>"
            ],
            "text/html": [
              " View project at <a href='https://wandb.ai/final-project-ml/walmart-forecasting' target=\"_blank\">https://wandb.ai/final-project-ml/walmart-forecasting</a>"
            ]
          },
          "metadata": {}
        },
        {
          "output_type": "display_data",
          "data": {
            "text/plain": [
              "<IPython.core.display.HTML object>"
            ],
            "text/html": [
              " View run at <a href='https://wandb.ai/final-project-ml/walmart-forecasting/runs/mwqvsupi' target=\"_blank\">https://wandb.ai/final-project-ml/walmart-forecasting/runs/mwqvsupi</a>"
            ]
          },
          "metadata": {}
        },
        {
          "output_type": "stream",
          "name": "stdout",
          "text": [
            "Params: num_leaves=31, max_depth=7, lr=0.05, min_child_samples=20, subsample=0.8 -> Val WMAE: 875.1967\n",
            "Params: num_leaves=31, max_depth=7, lr=0.05, min_child_samples=20, subsample=1.0 -> Val WMAE: 875.1967\n",
            "Params: num_leaves=31, max_depth=7, lr=0.05, min_child_samples=50, subsample=0.8 -> Val WMAE: 901.4147\n",
            "Params: num_leaves=31, max_depth=7, lr=0.05, min_child_samples=50, subsample=1.0 -> Val WMAE: 901.4147\n",
            "Params: num_leaves=31, max_depth=7, lr=0.1, min_child_samples=20, subsample=0.8 -> Val WMAE: 730.5658\n",
            "Params: num_leaves=31, max_depth=7, lr=0.1, min_child_samples=20, subsample=1.0 -> Val WMAE: 730.5658\n",
            "Params: num_leaves=31, max_depth=7, lr=0.1, min_child_samples=50, subsample=0.8 -> Val WMAE: 726.7433\n",
            "Params: num_leaves=31, max_depth=7, lr=0.1, min_child_samples=50, subsample=1.0 -> Val WMAE: 726.7433\n",
            "Params: num_leaves=31, max_depth=10, lr=0.05, min_child_samples=20, subsample=0.8 -> Val WMAE: 871.2514\n",
            "Params: num_leaves=31, max_depth=10, lr=0.05, min_child_samples=20, subsample=1.0 -> Val WMAE: 871.2514\n",
            "Params: num_leaves=31, max_depth=10, lr=0.05, min_child_samples=50, subsample=0.8 -> Val WMAE: 883.3477\n",
            "Params: num_leaves=31, max_depth=10, lr=0.05, min_child_samples=50, subsample=1.0 -> Val WMAE: 883.3477\n",
            "Params: num_leaves=31, max_depth=10, lr=0.1, min_child_samples=20, subsample=0.8 -> Val WMAE: 776.9889\n",
            "Params: num_leaves=31, max_depth=10, lr=0.1, min_child_samples=20, subsample=1.0 -> Val WMAE: 776.9889\n",
            "Params: num_leaves=31, max_depth=10, lr=0.1, min_child_samples=50, subsample=0.8 -> Val WMAE: 773.5966\n",
            "Params: num_leaves=31, max_depth=10, lr=0.1, min_child_samples=50, subsample=1.0 -> Val WMAE: 773.5966\n",
            "Params: num_leaves=31, max_depth=15, lr=0.05, min_child_samples=20, subsample=0.8 -> Val WMAE: 853.1127\n",
            "Params: num_leaves=31, max_depth=15, lr=0.05, min_child_samples=20, subsample=1.0 -> Val WMAE: 853.1127\n",
            "Params: num_leaves=31, max_depth=15, lr=0.05, min_child_samples=50, subsample=0.8 -> Val WMAE: 865.6996\n",
            "Params: num_leaves=31, max_depth=15, lr=0.05, min_child_samples=50, subsample=1.0 -> Val WMAE: 865.6996\n",
            "Params: num_leaves=31, max_depth=15, lr=0.1, min_child_samples=20, subsample=0.8 -> Val WMAE: 695.3326\n",
            "Params: num_leaves=31, max_depth=15, lr=0.1, min_child_samples=20, subsample=1.0 -> Val WMAE: 695.3326\n",
            "Params: num_leaves=31, max_depth=15, lr=0.1, min_child_samples=50, subsample=0.8 -> Val WMAE: 756.6266\n",
            "Params: num_leaves=31, max_depth=15, lr=0.1, min_child_samples=50, subsample=1.0 -> Val WMAE: 756.6266\n",
            "Params: num_leaves=50, max_depth=7, lr=0.05, min_child_samples=20, subsample=0.8 -> Val WMAE: 758.9394\n",
            "Params: num_leaves=50, max_depth=7, lr=0.05, min_child_samples=20, subsample=1.0 -> Val WMAE: 758.9394\n",
            "Params: num_leaves=50, max_depth=7, lr=0.05, min_child_samples=50, subsample=0.8 -> Val WMAE: 788.2851\n",
            "Params: num_leaves=50, max_depth=7, lr=0.05, min_child_samples=50, subsample=1.0 -> Val WMAE: 788.2851\n",
            "Params: num_leaves=50, max_depth=7, lr=0.1, min_child_samples=20, subsample=0.8 -> Val WMAE: 655.0534\n",
            "Params: num_leaves=50, max_depth=7, lr=0.1, min_child_samples=20, subsample=1.0 -> Val WMAE: 655.0534\n",
            "Params: num_leaves=50, max_depth=7, lr=0.1, min_child_samples=50, subsample=0.8 -> Val WMAE: 714.0653\n",
            "Params: num_leaves=50, max_depth=7, lr=0.1, min_child_samples=50, subsample=1.0 -> Val WMAE: 714.0653\n",
            "Params: num_leaves=50, max_depth=10, lr=0.05, min_child_samples=20, subsample=0.8 -> Val WMAE: 764.7247\n",
            "Params: num_leaves=50, max_depth=10, lr=0.05, min_child_samples=20, subsample=1.0 -> Val WMAE: 764.7247\n",
            "Params: num_leaves=50, max_depth=10, lr=0.05, min_child_samples=50, subsample=0.8 -> Val WMAE: 759.9683\n",
            "Params: num_leaves=50, max_depth=10, lr=0.05, min_child_samples=50, subsample=1.0 -> Val WMAE: 759.9683\n",
            "Params: num_leaves=50, max_depth=10, lr=0.1, min_child_samples=20, subsample=0.8 -> Val WMAE: 659.1593\n",
            "Params: num_leaves=50, max_depth=10, lr=0.1, min_child_samples=20, subsample=1.0 -> Val WMAE: 659.1593\n",
            "Params: num_leaves=50, max_depth=10, lr=0.1, min_child_samples=50, subsample=0.8 -> Val WMAE: 657.3398\n",
            "Params: num_leaves=50, max_depth=10, lr=0.1, min_child_samples=50, subsample=1.0 -> Val WMAE: 657.3398\n",
            "Params: num_leaves=50, max_depth=15, lr=0.05, min_child_samples=20, subsample=0.8 -> Val WMAE: 747.0502\n",
            "Params: num_leaves=50, max_depth=15, lr=0.05, min_child_samples=20, subsample=1.0 -> Val WMAE: 747.0502\n",
            "Params: num_leaves=50, max_depth=15, lr=0.05, min_child_samples=50, subsample=0.8 -> Val WMAE: 766.4371\n",
            "Params: num_leaves=50, max_depth=15, lr=0.05, min_child_samples=50, subsample=1.0 -> Val WMAE: 766.4371\n",
            "Params: num_leaves=50, max_depth=15, lr=0.1, min_child_samples=20, subsample=0.8 -> Val WMAE: 648.2040\n",
            "Params: num_leaves=50, max_depth=15, lr=0.1, min_child_samples=20, subsample=1.0 -> Val WMAE: 648.2040\n",
            "Params: num_leaves=50, max_depth=15, lr=0.1, min_child_samples=50, subsample=0.8 -> Val WMAE: 705.9659\n",
            "Params: num_leaves=50, max_depth=15, lr=0.1, min_child_samples=50, subsample=1.0 -> Val WMAE: 705.9659\n",
            "Params: num_leaves=70, max_depth=7, lr=0.05, min_child_samples=20, subsample=0.8 -> Val WMAE: 720.2471\n",
            "Params: num_leaves=70, max_depth=7, lr=0.05, min_child_samples=20, subsample=1.0 -> Val WMAE: 720.2471\n",
            "Params: num_leaves=70, max_depth=7, lr=0.05, min_child_samples=50, subsample=0.8 -> Val WMAE: 751.7394\n",
            "Params: num_leaves=70, max_depth=7, lr=0.05, min_child_samples=50, subsample=1.0 -> Val WMAE: 751.7394\n",
            "Params: num_leaves=70, max_depth=7, lr=0.1, min_child_samples=20, subsample=0.8 -> Val WMAE: 643.7282\n",
            "Params: num_leaves=70, max_depth=7, lr=0.1, min_child_samples=20, subsample=1.0 -> Val WMAE: 643.7282\n",
            "Params: num_leaves=70, max_depth=7, lr=0.1, min_child_samples=50, subsample=0.8 -> Val WMAE: 708.2670\n",
            "Params: num_leaves=70, max_depth=7, lr=0.1, min_child_samples=50, subsample=1.0 -> Val WMAE: 708.2670\n",
            "Params: num_leaves=70, max_depth=10, lr=0.05, min_child_samples=20, subsample=0.8 -> Val WMAE: 764.0232\n",
            "Params: num_leaves=70, max_depth=10, lr=0.05, min_child_samples=20, subsample=1.0 -> Val WMAE: 764.0232\n",
            "Params: num_leaves=70, max_depth=10, lr=0.05, min_child_samples=50, subsample=0.8 -> Val WMAE: 720.6935\n",
            "Params: num_leaves=70, max_depth=10, lr=0.05, min_child_samples=50, subsample=1.0 -> Val WMAE: 720.6935\n",
            "Params: num_leaves=70, max_depth=10, lr=0.1, min_child_samples=20, subsample=0.8 -> Val WMAE: 601.8706\n",
            "Params: num_leaves=70, max_depth=10, lr=0.1, min_child_samples=20, subsample=1.0 -> Val WMAE: 601.8706\n",
            "Params: num_leaves=70, max_depth=10, lr=0.1, min_child_samples=50, subsample=0.8 -> Val WMAE: 629.5493\n",
            "Params: num_leaves=70, max_depth=10, lr=0.1, min_child_samples=50, subsample=1.0 -> Val WMAE: 629.5493\n",
            "Params: num_leaves=70, max_depth=15, lr=0.05, min_child_samples=20, subsample=0.8 -> Val WMAE: 667.6041\n",
            "Params: num_leaves=70, max_depth=15, lr=0.05, min_child_samples=20, subsample=1.0 -> Val WMAE: 667.6041\n",
            "Params: num_leaves=70, max_depth=15, lr=0.05, min_child_samples=50, subsample=0.8 -> Val WMAE: 698.5068\n",
            "Params: num_leaves=70, max_depth=15, lr=0.05, min_child_samples=50, subsample=1.0 -> Val WMAE: 698.5068\n",
            "Params: num_leaves=70, max_depth=15, lr=0.1, min_child_samples=20, subsample=0.8 -> Val WMAE: 596.6169\n",
            "Params: num_leaves=70, max_depth=15, lr=0.1, min_child_samples=20, subsample=1.0 -> Val WMAE: 596.6169\n",
            "Params: num_leaves=70, max_depth=15, lr=0.1, min_child_samples=50, subsample=0.8 -> Val WMAE: 627.0611\n",
            "Params: num_leaves=70, max_depth=15, lr=0.1, min_child_samples=50, subsample=1.0 -> Val WMAE: 627.0611\n",
            "\n",
            "Best params: {'num_leaves': 70, 'max_depth': 15, 'learning_rate': 0.1, 'min_child_samples': 20, 'subsample': 0.8}\n",
            "Best validation WMAE: 596.6169126584606\n",
            "Test WMAE with best params: 841.4496\n"
          ]
        },
        {
          "output_type": "display_data",
          "data": {
            "text/plain": [
              "<IPython.core.display.HTML object>"
            ],
            "text/html": []
          },
          "metadata": {}
        },
        {
          "output_type": "display_data",
          "data": {
            "text/plain": [
              "<IPython.core.display.HTML object>"
            ],
            "text/html": [
              "<br>    <style><br>        .wandb-row {<br>            display: flex;<br>            flex-direction: row;<br>            flex-wrap: wrap;<br>            justify-content: flex-start;<br>            width: 100%;<br>        }<br>        .wandb-col {<br>            display: flex;<br>            flex-direction: column;<br>            flex-basis: 100%;<br>            flex: 1;<br>            padding: 10px;<br>        }<br>    </style><br><div class=\"wandb-row\"><div class=\"wandb-col\"><h3>Run history:</h3><br/><table class=\"wandb\"><tr><td>final_test_WMAE</td><td>▁</td></tr><tr><td>params/learning_rate</td><td>▁▁███▁▁██▁▁██▁▁▁██▁▁██▁██▁▁▁███▁▁██▁▁▁██</td></tr><tr><td>params/max_depth</td><td>▁▁▁▁▄▄▄▄████▁▁▁▄▄▄▄▄█████▁▁▁▁▁▄▄▄▄▄█████</td></tr><tr><td>params/min_child_samples</td><td>▁▁██▁█▁█▁▁▁▁▁████▁▁███▁▁█▁▁█▁▁▁██▁▁▁██▁█</td></tr><tr><td>params/num_leaves</td><td>▁▁▁▁▁▁▁▁▁▁▄▄▄▄▄▄▄▄▄▄▄▄▄▄▄███████████████</td></tr><tr><td>params/subsample</td><td>▁█▁██▁▁▁█▁▁▁█▁██▁█▁██▁█▁█▁██▁██▁█▁██▁█▁▁</td></tr><tr><td>val_WMAE</td><td>▇█▄▄▄██▅▅▅▇▃▅▅▅▅▂▂▄▅▅▂▂▂▂▄▂▂▄▄▂▄▅▄▁▂▃▃▃▁</td></tr></table><br/></div><div class=\"wandb-col\"><h3>Run summary:</h3><br/><table class=\"wandb\"><tr><td>final_test_WMAE</td><td>841.44964</td></tr><tr><td>params/learning_rate</td><td>0.1</td></tr><tr><td>params/max_depth</td><td>15</td></tr><tr><td>params/min_child_samples</td><td>50</td></tr><tr><td>params/num_leaves</td><td>70</td></tr><tr><td>params/subsample</td><td>1</td></tr><tr><td>val_WMAE</td><td>627.0611</td></tr></table><br/></div></div>"
            ]
          },
          "metadata": {}
        },
        {
          "output_type": "display_data",
          "data": {
            "text/plain": [
              "<IPython.core.display.HTML object>"
            ],
            "text/html": [
              " View run <strong style=\"color:#cdcd00\">LightGBM tuning</strong> at: <a href='https://wandb.ai/final-project-ml/walmart-forecasting/runs/mwqvsupi' target=\"_blank\">https://wandb.ai/final-project-ml/walmart-forecasting/runs/mwqvsupi</a><br> View project at: <a href='https://wandb.ai/final-project-ml/walmart-forecasting' target=\"_blank\">https://wandb.ai/final-project-ml/walmart-forecasting</a><br>Synced 5 W&B file(s), 0 media file(s), 0 artifact file(s) and 0 other file(s)"
            ]
          },
          "metadata": {}
        },
        {
          "output_type": "display_data",
          "data": {
            "text/plain": [
              "<IPython.core.display.HTML object>"
            ],
            "text/html": [
              "Find logs at: <code>./wandb/run-20250703_212120-mwqvsupi/logs</code>"
            ]
          },
          "metadata": {}
        }
      ]
    }
  ]
}