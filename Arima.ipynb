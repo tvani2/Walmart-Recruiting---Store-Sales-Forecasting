{
  "nbformat": 4,
  "nbformat_minor": 0,
  "metadata": {
    "colab": {
      "provenance": [],
      "authorship_tag": "ABX9TyMDrr74tbU9YpMM/DAM8+sl",
      "include_colab_link": true
    },
    "kernelspec": {
      "name": "python3",
      "display_name": "Python 3"
    },
    "language_info": {
      "name": "python"
    }
  },
  "cells": [
    {
      "cell_type": "markdown",
      "metadata": {
        "id": "view-in-github",
        "colab_type": "text"
      },
      "source": [
        "<a href=\"https://colab.research.google.com/github/tvani2/Walmart-Recruiting---Store-Sales-Forecasting/blob/main/Arima.ipynb\" target=\"_parent\"><img src=\"https://colab.research.google.com/assets/colab-badge.svg\" alt=\"Open In Colab\"/></a>"
      ]
    },
    {
      "cell_type": "code",
      "execution_count": 2,
      "metadata": {
        "colab": {
          "base_uri": "https://localhost:8080/"
        },
        "id": "OAK98uZPeRkZ",
        "outputId": "25fbc546-2728-4a42-dc39-d75a7809e7a9"
      },
      "outputs": [
        {
          "output_type": "stream",
          "name": "stdout",
          "text": [
            "n_polynomials=5 → max_steps=2600 → h=53 → random_seed=42 → input_size=52 → batch_size=256 → learning_rate=0.001 → optimizer=<class 'torch.optim.adamw.AdamW'> → activation=ReLU → WMAE=1587.5859\n"
          ]
        }
      ],
      "source": [
        "print(\"wmae =\", 2)"
      ]
    }
  ]
}