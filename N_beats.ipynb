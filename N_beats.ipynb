{
  "cells": [
    {
      "cell_type": "code",
      "execution_count": null,
      "metadata": {
        "id": "_TPSAjFBVyww",
        "collapsed": true
      },
      "outputs": [],
      "source": [
        "! pip install kaggle\n",
        "from google.colab import drive\n",
        "drive.mount('/content/drive')\n",
        "! mkdir ~/.kaggle\n",
        "! cp /content/drive/MyDrive/cs231n/assignments/finalproject/kaggle.json ~/.kaggle/kaggle.json\n",
        "! chmod 600 ~/.kaggle/kaggle.json\n",
        "! kaggle competitions download -c walmart-recruiting-store-sales-forecasting\n",
        "! unzip walmart-recruiting-store-sales-forecasting.zip\n",
        "!unzip features.csv.zip\n",
        "!unzip train.csv.zip\n",
        "!unzip test.csv.zip\n",
        "!unzip sampleSubmission.csv.zip"
      ]
    },
    {
      "cell_type": "code",
      "execution_count": null,
      "metadata": {
        "id": "1LQt5ZCZV24h",
        "collapsed": true
      },
      "outputs": [],
      "source": [
        "!pip install neuralforecast"
      ]
    },
    {
      "cell_type": "code",
      "execution_count": 3,
      "metadata": {
        "id": "lhUzbhaeV_Ii"
      },
      "outputs": [],
      "source": [
        "import pandas as pd\n",
        "\n",
        "train = pd.read_csv(\"train.csv\")\n",
        "test = pd.read_csv(\"test.csv\")\n",
        "features = pd.read_csv(\"features.csv\")\n",
        "stores = pd.read_csv(\"stores.csv\")"
      ]
    },
    {
      "cell_type": "code",
      "execution_count": 4,
      "metadata": {
        "id": "DtUH1jGdYSfY"
      },
      "outputs": [],
      "source": [
        "train['Date'] = pd.to_datetime(train.Date)"
      ]
    },
    {
      "cell_type": "code",
      "execution_count": 5,
      "metadata": {
        "id": "jXVrnIuEYTvZ"
      },
      "outputs": [],
      "source": [
        "SPLIT_DATE = pd.Timestamp('2011-11-30')\n",
        "\n",
        "# Split the dataframe based on date\n",
        "train_df = train[train[\"Date\"] < SPLIT_DATE]\n",
        "val_df = train[train[\"Date\"] >= SPLIT_DATE]\n",
        "\n",
        "# Separate features and target\n",
        "X_train = train_df.drop(columns=[\"Weekly_Sales\"])\n",
        "X_val = val_df.drop(columns=[\"Weekly_Sales\"])\n",
        "\n",
        "Y_train = train_df[\"Weekly_Sales\"]\n",
        "Y_val = val_df[\"Weekly_Sales\"]"
      ]
    },
    {
      "cell_type": "code",
      "execution_count": 6,
      "metadata": {
        "id": "-YhUaoHqYUtU"
      },
      "outputs": [],
      "source": [
        "import numpy as np\n",
        "\n",
        "# WMAE Metric Definition\n",
        "def wmae(y_true, y_pred, is_holiday):\n",
        "    \"\"\"\n",
        "    Weighted Mean Absolute Error.\n",
        "    Weights = 5 if is_holiday else 1\n",
        "    \"\"\"\n",
        "    weights = np.where(is_holiday == 1, 5, 1)\n",
        "    return np.sum(weights * np.abs(y_true - y_pred)) / np.sum(weights)"
      ]
    },
    {
      "cell_type": "code",
      "execution_count": 7,
      "metadata": {
        "id": "KbJHWMFrY3yy"
      },
      "outputs": [],
      "source": [
        "import torch\n",
        "import pandas as pd\n",
        "from neuralforecast.models import NBEATS\n",
        "from neuralforecast import NeuralForecast\n",
        "from sklearn.base import BaseEstimator, TransformerMixin\n",
        "\n",
        "class N_Beats(NBEATS):\n",
        "    def __init__(self, *args, **kwargs):\n",
        "        super().__init__(*args, **kwargs)\n",
        "        self.optimizer = torch.optim.AdamW(self.parameters(), lr=1e-3)\n",
        "        self.scheduler = torch.optim.lr_scheduler.StepLR(self.optimizer, step_size=10, gamma=0.9)\n",
        "\n",
        "    def set_optim(self, optimizer):\n",
        "        self.optimizer = optimizer\n",
        "\n",
        "    def set_scheduler(self, scheduler):\n",
        "        self.scheduler = scheduler\n",
        "\n",
        "    def configure_optimizers(self):\n",
        "        return {\n",
        "            'optimizer': self.optimizer,\n",
        "            'lr_scheduler': {\n",
        "                'scheduler': self.scheduler,\n",
        "                'interval': 'epoch',\n",
        "                'frequency': 1\n",
        "            }\n",
        "        }\n",
        "\n",
        "class Preprocessor(BaseEstimator, TransformerMixin):\n",
        "    def fit(self, X, y=None): return self\n",
        "    def transform(self, X):\n",
        "        x_copy = X.copy()\n",
        "        if 'y' not in x_copy.columns:\n",
        "            x_copy['y'] = 0\n",
        "        x_copy['Date'] = pd.to_datetime(x_copy['Date'])\n",
        "        return x_copy\n",
        "\n",
        "class NBEATSModel(BaseEstimator, TransformerMixin):\n",
        "    def __init__(self, models: list[NBEATS] = None):\n",
        "        if models is None or len(models) == 0:\n",
        "            device = 'gpu' if torch.cuda.is_available() else 'cpu'\n",
        "            models = [N_Beats(\n",
        "                input_size=15,\n",
        "                h=48,\n",
        "                max_steps=1500,\n",
        "                batch_size=64,\n",
        "                stack_types=['identity', 'trend', 'seasonality'],\n",
        "                n_blocks=[1, 1, 1],\n",
        "                random_seed=42,\n",
        "                accelerator=device,\n",
        "                devices=1,\n",
        "                logger=True,\n",
        "                enable_progress_bar=False,\n",
        "                enable_model_summary=False,\n",
        "            )]\n",
        "        self.nf = NeuralForecast(models=models, freq='W-FRI')\n",
        "\n",
        "    def fit(self, X, y=None):\n",
        "        df = self.create_nbeats(X, y)\n",
        "        df.sort_values(by=['ds'], inplace=True)\n",
        "        self.nf.fit(df)\n",
        "        return self\n",
        "\n",
        "    def transform(self, X):\n",
        "        preds = self.nf.predict()\n",
        "        real = self.create_nbeats(X, X['y'])\n",
        "        merged = pd.merge(real, preds, on=['unique_id', 'ds'], how='left')\n",
        "        merged.fillna(0, inplace=True)\n",
        "        return merged\n",
        "\n",
        "    def predict(self, X=None):\n",
        "        return self.transform(X)\n",
        "\n",
        "    def create_nbeats(self, x: pd.DataFrame, y: pd.DataFrame) -> pd.DataFrame:\n",
        "        df = pd.DataFrame()\n",
        "        df[\"ds\"] = pd.to_datetime(x[\"Date\"])\n",
        "        df[\"Store\"] = x[\"Store\"]\n",
        "        df[\"Dept\"] = x[\"Dept\"]\n",
        "        df[\"IsHoliday\"] = x[\"IsHoliday\"].astype(int)\n",
        "        df[\"unique_id\"] = df[\"Dept\"].astype(str) + \"_\" + df[\"Store\"].astype(str)\n",
        "        df[\"y\"] = y.values\n",
        "        return df[[\"unique_id\", \"ds\", \"y\", \"IsHoliday\"]].copy()"
      ]
    },
    {
      "cell_type": "code",
      "source": [
        "import wandb\n",
        "wandb.login()"
      ],
      "metadata": {
        "id": "iQflHA-3E0kc"
      },
      "execution_count": null,
      "outputs": []
    },
    {
      "cell_type": "markdown",
      "source": [
        "# Gamma, input size and forecast horizon search"
      ],
      "metadata": {
        "id": "i5bbdt2fLe8J"
      }
    },
    {
      "cell_type": "code",
      "execution_count": null,
      "metadata": {
        "id": "d7RVbSEtaqpa"
      },
      "outputs": [],
      "source": [
        "import wandb\n",
        "from sklearn.pipeline import Pipeline\n",
        "\n",
        "gamma = [0.9, 0.8, 0.7]\n",
        "h = [24, 48]\n",
        "input_size = [20, 30, 40]\n",
        "\n",
        "for lr in gamma:\n",
        "    for h_ in h:\n",
        "        for input_size_ in input_size:\n",
        "            # Initialize wandb run\n",
        "            wandb.init(\n",
        "                project=\"walmart-forecasting\",\n",
        "                name=\"NBeats\",\n",
        "                config={\n",
        "                    \"learning_rate_gamma\": lr,\n",
        "                    \"h\": h_,\n",
        "                    \"input_size\": input_size_,\n",
        "                    \"max_steps\": 1500,\n",
        "                    \"batch_size\": 64\n",
        "                },\n",
        "                reinit=True\n",
        "            )\n",
        "\n",
        "            estm = N_Beats(\n",
        "                input_size=input_size_,\n",
        "                h=h_,\n",
        "                max_steps= 1500,\n",
        "                batch_size=64,\n",
        "                stack_types=(['identity', 'trend', 'seasonality']),\n",
        "                n_blocks=[1, 1, 1],\n",
        "                random_seed=42,\n",
        "                devices=1,\n",
        "                logger=False,\n",
        "                enable_progress_bar=False,\n",
        "                enable_model_summary=False,\n",
        "            )\n",
        "\n",
        "            estm.set_scheduler(\n",
        "                torch.optim.lr_scheduler.StepLR(estm.optimizer, step_size=10, gamma=lr)\n",
        "            )\n",
        "            estimators = [estm]\n",
        "\n",
        "            pipeline = Pipeline([\n",
        "                ('preprocess', Preprocessor()),\n",
        "                ('model', NBEATSModel(estimators))\n",
        "            ])\n",
        "\n",
        "            model = pipeline.fit(X_train, Y_train)\n",
        "\n",
        "            # Log final training and validation loss\n",
        "            try:\n",
        "                wandb.log({\n",
        "                    \"train_loss\": estm.loss_history['train'][-1],\n",
        "                    \"val_loss\": estm.loss_history['val'][-1]\n",
        "                })\n",
        "            except:\n",
        "                print(\"Could not log train/val loss\")\n",
        "\n",
        "            X_val['y'] = Y_val\n",
        "            preds = model.predict(X_val)\n",
        "\n",
        "            score = wmae(preds['y'], preds['N_Beats'], preds['IsHoliday'])\n",
        "\n",
        "            # Log wmae score\n",
        "            wandb.log({\n",
        "                \"wmae\": score\n",
        "            })\n",
        "\n",
        "            print(f'learning rate = {lr}, input_size = {input_size_}, h = {h_}, wmae = {score}')\n",
        "\n",
        "            wandb.finish()"
      ]
    },
    {
      "cell_type": "markdown",
      "source": [
        "# Stack types and block number search"
      ],
      "metadata": {
        "id": "HR8QTQQtLqrs"
      }
    },
    {
      "cell_type": "code",
      "source": [
        "from sklearn.pipeline import Pipeline\n",
        "import torch\n",
        "\n",
        "# Fixed hyperparameters\n",
        "learning_rate_gamma = 0.7\n",
        "h = 48\n",
        "input_size = 40\n",
        "\n",
        "# Grid values for stack types and blocks\n",
        "stack_types_list = [\n",
        "    ['identity'],\n",
        "    ['trend'],\n",
        "    ['identity', 'trend'],\n",
        "    ['identity', 'trend', 'seasonality']\n",
        "]\n",
        "n_blocks_list = [\n",
        "    [1],\n",
        "    [2],\n",
        "    [2, 2],\n",
        "    [1, 1, 1]\n",
        "]\n",
        "\n",
        "for stack_types_ in stack_types_list:\n",
        "    for n_blocks_ in n_blocks_list:\n",
        "        if len(stack_types_) != len(n_blocks_):\n",
        "            continue  # skip invalid combinations\n",
        "\n",
        "        print(f\"\\nRunning config: stack_types={stack_types_}, n_blocks={n_blocks_}\")\n",
        "\n",
        "        estm = N_Beats(\n",
        "            input_size=input_size,\n",
        "            h=h,\n",
        "            max_steps=1500,\n",
        "            batch_size=64,\n",
        "            stack_types=stack_types_,\n",
        "            n_blocks=n_blocks_,\n",
        "            random_seed=42,\n",
        "            devices=1,\n",
        "            logger=False,\n",
        "            enable_progress_bar=False,\n",
        "            enable_model_summary=False,\n",
        "        )\n",
        "\n",
        "        estm.set_scheduler(\n",
        "            torch.optim.lr_scheduler.StepLR(estm.optimizer, step_size=10, gamma=learning_rate_gamma)\n",
        "        )\n",
        "\n",
        "        estimators = [estm]\n",
        "\n",
        "        pipeline = Pipeline([\n",
        "            ('preprocess', Preprocessor()),\n",
        "            ('model', NBEATSModel(estimators))\n",
        "        ])\n",
        "\n",
        "        try:\n",
        "            model = pipeline.fit(X_train, Y_train)\n",
        "\n",
        "            X_val['y'] = Y_val\n",
        "            preds = model.predict(X_val)\n",
        "\n",
        "            score = wmae(preds['y'], preds['N_Beats'], preds['IsHoliday'])\n",
        "\n",
        "            print(f\"WMAE: {score:.5f}\")\n",
        "        except Exception as e:\n",
        "            print(f\"Error with config {stack_types_} / {n_blocks_}: {e}\")"
      ],
      "metadata": {
        "id": "JmyGapx5IAQ0"
      },
      "execution_count": null,
      "outputs": []
    },
    {
      "cell_type": "markdown",
      "source": [
        "# Best batch size search"
      ],
      "metadata": {
        "id": "gN5n2Ba2Lyf2"
      }
    },
    {
      "cell_type": "code",
      "source": [
        "import wandb\n",
        "from sklearn.pipeline import Pipeline\n",
        "\n",
        "batch_sizes = [64, 128, 256]\n",
        "\n",
        "for batch in batch_sizes:\n",
        "    try:\n",
        "        wandb.init(\n",
        "            project=\"walmart-forecasting\",\n",
        "            name=f\"NBeats-batch{batch}\",\n",
        "            config={\n",
        "                \"learning_rate_gamma\": 0.7,\n",
        "                \"h\": 48,\n",
        "                \"input_size\": 40,\n",
        "                \"max_steps\": 1500,\n",
        "                \"batch_size\": batch\n",
        "            },\n",
        "            reinit=True\n",
        "        )\n",
        "\n",
        "        estm = N_Beats(\n",
        "            input_size=40,\n",
        "            h=48,\n",
        "            max_steps=1500,\n",
        "            batch_size=batch,\n",
        "            stack_types=(['identity', 'trend', 'seasonality']),\n",
        "            n_blocks=[1, 1, 1],\n",
        "            random_seed=42,\n",
        "            devices=1,\n",
        "            logger=False,\n",
        "            enable_progress_bar=False,\n",
        "            enable_model_summary=False,\n",
        "        )\n",
        "\n",
        "        estm.set_scheduler(torch.optim.lr_scheduler.StepLR(estm.optimizer, step_size=10, gamma=0.7))\n",
        "        estimators = [estm]\n",
        "\n",
        "        pipeline = Pipeline([\n",
        "            ('preprocess', Preprocessor()),\n",
        "            ('model', NBEATSModel(estimators))\n",
        "        ])\n",
        "\n",
        "        # Fit model\n",
        "        model = pipeline.fit(X_train, Y_train)\n",
        "\n",
        "        # Log train/val loss if available\n",
        "        try:\n",
        "            wandb.log({\n",
        "                \"train_loss\": estm.loss_history['train'][-1],\n",
        "                \"val_loss\": estm.loss_history['val'][-1]\n",
        "            })\n",
        "        except Exception as e:\n",
        "            print(f\"[WARN] Could not log losses: {e}\")\n",
        "\n",
        "        # Predict and score\n",
        "        X_val['y'] = Y_val\n",
        "        preds = model.predict(X_val)\n",
        "\n",
        "        score = wmae(preds['y'], preds['N_Beats'], preds['IsHoliday'])\n",
        "\n",
        "        # Log final WMAE\n",
        "        wandb.log({\"wmae\": score})\n",
        "        print(f'[BATCH={batch}] WMAE: {score:.4f}')\n",
        "\n",
        "    finally:\n",
        "        wandb.finish()"
      ],
      "metadata": {
        "colab": {
          "base_uri": "https://localhost:8080/",
          "height": 1000
        },
        "id": "ksuK7wQYxJ8c",
        "outputId": "75dff299-9e87-4384-929c-36df7eddc4cd"
      },
      "execution_count": null,
      "outputs": [
        {
          "output_type": "display_data",
          "data": {
            "text/plain": [
              "<IPython.core.display.HTML object>"
            ],
            "text/html": [
              "Tracking run with wandb version 0.20.1"
            ]
          },
          "metadata": {}
        },
        {
          "output_type": "display_data",
          "data": {
            "text/plain": [
              "<IPython.core.display.HTML object>"
            ],
            "text/html": [
              "Run data is saved locally in <code>/content/wandb/run-20250707_213311-9ma4qpsg</code>"
            ]
          },
          "metadata": {}
        },
        {
          "output_type": "display_data",
          "data": {
            "text/plain": [
              "<IPython.core.display.HTML object>"
            ],
            "text/html": [
              "Syncing run <strong><a href='https://wandb.ai/final-project-ml/walmart-forecasting/runs/9ma4qpsg' target=\"_blank\">NBeats-batch64</a></strong> to <a href='https://wandb.ai/final-project-ml/walmart-forecasting' target=\"_blank\">Weights & Biases</a> (<a href='https://wandb.me/developer-guide' target=\"_blank\">docs</a>)<br>"
            ]
          },
          "metadata": {}
        },
        {
          "output_type": "display_data",
          "data": {
            "text/plain": [
              "<IPython.core.display.HTML object>"
            ],
            "text/html": [
              " View project at <a href='https://wandb.ai/final-project-ml/walmart-forecasting' target=\"_blank\">https://wandb.ai/final-project-ml/walmart-forecasting</a>"
            ]
          },
          "metadata": {}
        },
        {
          "output_type": "display_data",
          "data": {
            "text/plain": [
              "<IPython.core.display.HTML object>"
            ],
            "text/html": [
              " View run at <a href='https://wandb.ai/final-project-ml/walmart-forecasting/runs/9ma4qpsg' target=\"_blank\">https://wandb.ai/final-project-ml/walmart-forecasting/runs/9ma4qpsg</a>"
            ]
          },
          "metadata": {}
        },
        {
          "output_type": "stream",
          "name": "stderr",
          "text": [
            "INFO:lightning_fabric.utilities.seed:Seed set to 42\n",
            "INFO:pytorch_lightning.utilities.rank_zero:GPU available: False, used: False\n",
            "INFO:pytorch_lightning.utilities.rank_zero:TPU available: False, using: 0 TPU cores\n",
            "INFO:pytorch_lightning.utilities.rank_zero:HPU available: False, using: 0 HPUs\n",
            "INFO:pytorch_lightning.utilities.rank_zero:`Trainer.fit` stopped: `max_steps=1500` reached.\n"
          ]
        },
        {
          "output_type": "stream",
          "name": "stdout",
          "text": [
            "[WARN] Could not log losses: 'N_Beats' object has no attribute 'loss_history'\n"
          ]
        },
        {
          "output_type": "stream",
          "name": "stderr",
          "text": [
            "INFO:pytorch_lightning.utilities.rank_zero:GPU available: False, used: False\n",
            "INFO:pytorch_lightning.utilities.rank_zero:TPU available: False, using: 0 TPU cores\n",
            "INFO:pytorch_lightning.utilities.rank_zero:HPU available: False, using: 0 HPUs\n"
          ]
        },
        {
          "output_type": "stream",
          "name": "stdout",
          "text": [
            "[BATCH=64] WMAE: 2116.8844\n"
          ]
        },
        {
          "output_type": "display_data",
          "data": {
            "text/plain": [
              "<IPython.core.display.HTML object>"
            ],
            "text/html": []
          },
          "metadata": {}
        },
        {
          "output_type": "display_data",
          "data": {
            "text/plain": [
              "<IPython.core.display.HTML object>"
            ],
            "text/html": [
              "<br>    <style><br>        .wandb-row {<br>            display: flex;<br>            flex-direction: row;<br>            flex-wrap: wrap;<br>            justify-content: flex-start;<br>            width: 100%;<br>        }<br>        .wandb-col {<br>            display: flex;<br>            flex-direction: column;<br>            flex-basis: 100%;<br>            flex: 1;<br>            padding: 10px;<br>        }<br>    </style><br><div class=\"wandb-row\"><div class=\"wandb-col\"><h3>Run history:</h3><br/><table class=\"wandb\"><tr><td>wmae</td><td>▁</td></tr></table><br/></div><div class=\"wandb-col\"><h3>Run summary:</h3><br/><table class=\"wandb\"><tr><td>wmae</td><td>2116.88437</td></tr></table><br/></div></div>"
            ]
          },
          "metadata": {}
        },
        {
          "output_type": "display_data",
          "data": {
            "text/plain": [
              "<IPython.core.display.HTML object>"
            ],
            "text/html": [
              " View run <strong style=\"color:#cdcd00\">NBeats-batch64</strong> at: <a href='https://wandb.ai/final-project-ml/walmart-forecasting/runs/9ma4qpsg' target=\"_blank\">https://wandb.ai/final-project-ml/walmart-forecasting/runs/9ma4qpsg</a><br> View project at: <a href='https://wandb.ai/final-project-ml/walmart-forecasting' target=\"_blank\">https://wandb.ai/final-project-ml/walmart-forecasting</a><br>Synced 5 W&B file(s), 0 media file(s), 0 artifact file(s) and 0 other file(s)"
            ]
          },
          "metadata": {}
        },
        {
          "output_type": "display_data",
          "data": {
            "text/plain": [
              "<IPython.core.display.HTML object>"
            ],
            "text/html": [
              "Find logs at: <code>./wandb/run-20250707_213311-9ma4qpsg/logs</code>"
            ]
          },
          "metadata": {}
        },
        {
          "output_type": "display_data",
          "data": {
            "text/plain": [
              "<IPython.core.display.HTML object>"
            ],
            "text/html": [
              "Tracking run with wandb version 0.20.1"
            ]
          },
          "metadata": {}
        },
        {
          "output_type": "display_data",
          "data": {
            "text/plain": [
              "<IPython.core.display.HTML object>"
            ],
            "text/html": [
              "Run data is saved locally in <code>/content/wandb/run-20250707_214325-s4fm1969</code>"
            ]
          },
          "metadata": {}
        },
        {
          "output_type": "display_data",
          "data": {
            "text/plain": [
              "<IPython.core.display.HTML object>"
            ],
            "text/html": [
              "Syncing run <strong><a href='https://wandb.ai/final-project-ml/walmart-forecasting/runs/s4fm1969' target=\"_blank\">NBeats-batch128</a></strong> to <a href='https://wandb.ai/final-project-ml/walmart-forecasting' target=\"_blank\">Weights & Biases</a> (<a href='https://wandb.me/developer-guide' target=\"_blank\">docs</a>)<br>"
            ]
          },
          "metadata": {}
        },
        {
          "output_type": "display_data",
          "data": {
            "text/plain": [
              "<IPython.core.display.HTML object>"
            ],
            "text/html": [
              " View project at <a href='https://wandb.ai/final-project-ml/walmart-forecasting' target=\"_blank\">https://wandb.ai/final-project-ml/walmart-forecasting</a>"
            ]
          },
          "metadata": {}
        },
        {
          "output_type": "display_data",
          "data": {
            "text/plain": [
              "<IPython.core.display.HTML object>"
            ],
            "text/html": [
              " View run at <a href='https://wandb.ai/final-project-ml/walmart-forecasting/runs/s4fm1969' target=\"_blank\">https://wandb.ai/final-project-ml/walmart-forecasting/runs/s4fm1969</a>"
            ]
          },
          "metadata": {}
        },
        {
          "output_type": "stream",
          "name": "stderr",
          "text": [
            "INFO:lightning_fabric.utilities.seed:Seed set to 42\n",
            "INFO:pytorch_lightning.utilities.rank_zero:GPU available: False, used: False\n",
            "INFO:pytorch_lightning.utilities.rank_zero:TPU available: False, using: 0 TPU cores\n",
            "INFO:pytorch_lightning.utilities.rank_zero:HPU available: False, using: 0 HPUs\n",
            "INFO:pytorch_lightning.utilities.rank_zero:`Trainer.fit` stopped: `max_steps=1500` reached.\n"
          ]
        },
        {
          "output_type": "stream",
          "name": "stdout",
          "text": [
            "[WARN] Could not log losses: 'N_Beats' object has no attribute 'loss_history'\n"
          ]
        },
        {
          "output_type": "stream",
          "name": "stderr",
          "text": [
            "INFO:pytorch_lightning.utilities.rank_zero:GPU available: False, used: False\n",
            "INFO:pytorch_lightning.utilities.rank_zero:TPU available: False, using: 0 TPU cores\n",
            "INFO:pytorch_lightning.utilities.rank_zero:HPU available: False, using: 0 HPUs\n"
          ]
        },
        {
          "output_type": "stream",
          "name": "stdout",
          "text": [
            "[BATCH=128] WMAE: 2092.8477\n"
          ]
        },
        {
          "output_type": "display_data",
          "data": {
            "text/plain": [
              "<IPython.core.display.HTML object>"
            ],
            "text/html": []
          },
          "metadata": {}
        },
        {
          "output_type": "display_data",
          "data": {
            "text/plain": [
              "<IPython.core.display.HTML object>"
            ],
            "text/html": [
              "<br>    <style><br>        .wandb-row {<br>            display: flex;<br>            flex-direction: row;<br>            flex-wrap: wrap;<br>            justify-content: flex-start;<br>            width: 100%;<br>        }<br>        .wandb-col {<br>            display: flex;<br>            flex-direction: column;<br>            flex-basis: 100%;<br>            flex: 1;<br>            padding: 10px;<br>        }<br>    </style><br><div class=\"wandb-row\"><div class=\"wandb-col\"><h3>Run history:</h3><br/><table class=\"wandb\"><tr><td>wmae</td><td>▁</td></tr></table><br/></div><div class=\"wandb-col\"><h3>Run summary:</h3><br/><table class=\"wandb\"><tr><td>wmae</td><td>2092.84773</td></tr></table><br/></div></div>"
            ]
          },
          "metadata": {}
        },
        {
          "output_type": "display_data",
          "data": {
            "text/plain": [
              "<IPython.core.display.HTML object>"
            ],
            "text/html": [
              " View run <strong style=\"color:#cdcd00\">NBeats-batch128</strong> at: <a href='https://wandb.ai/final-project-ml/walmart-forecasting/runs/s4fm1969' target=\"_blank\">https://wandb.ai/final-project-ml/walmart-forecasting/runs/s4fm1969</a><br> View project at: <a href='https://wandb.ai/final-project-ml/walmart-forecasting' target=\"_blank\">https://wandb.ai/final-project-ml/walmart-forecasting</a><br>Synced 5 W&B file(s), 0 media file(s), 0 artifact file(s) and 0 other file(s)"
            ]
          },
          "metadata": {}
        },
        {
          "output_type": "display_data",
          "data": {
            "text/plain": [
              "<IPython.core.display.HTML object>"
            ],
            "text/html": [
              "Find logs at: <code>./wandb/run-20250707_214325-s4fm1969/logs</code>"
            ]
          },
          "metadata": {}
        },
        {
          "output_type": "display_data",
          "data": {
            "text/plain": [
              "<IPython.core.display.HTML object>"
            ],
            "text/html": [
              "Tracking run with wandb version 0.20.1"
            ]
          },
          "metadata": {}
        },
        {
          "output_type": "display_data",
          "data": {
            "text/plain": [
              "<IPython.core.display.HTML object>"
            ],
            "text/html": [
              "Run data is saved locally in <code>/content/wandb/run-20250707_215345-web57c3t</code>"
            ]
          },
          "metadata": {}
        },
        {
          "output_type": "display_data",
          "data": {
            "text/plain": [
              "<IPython.core.display.HTML object>"
            ],
            "text/html": [
              "Syncing run <strong><a href='https://wandb.ai/final-project-ml/walmart-forecasting/runs/web57c3t' target=\"_blank\">NBeats-batch256</a></strong> to <a href='https://wandb.ai/final-project-ml/walmart-forecasting' target=\"_blank\">Weights & Biases</a> (<a href='https://wandb.me/developer-guide' target=\"_blank\">docs</a>)<br>"
            ]
          },
          "metadata": {}
        },
        {
          "output_type": "display_data",
          "data": {
            "text/plain": [
              "<IPython.core.display.HTML object>"
            ],
            "text/html": [
              " View project at <a href='https://wandb.ai/final-project-ml/walmart-forecasting' target=\"_blank\">https://wandb.ai/final-project-ml/walmart-forecasting</a>"
            ]
          },
          "metadata": {}
        },
        {
          "output_type": "display_data",
          "data": {
            "text/plain": [
              "<IPython.core.display.HTML object>"
            ],
            "text/html": [
              " View run at <a href='https://wandb.ai/final-project-ml/walmart-forecasting/runs/web57c3t' target=\"_blank\">https://wandb.ai/final-project-ml/walmart-forecasting/runs/web57c3t</a>"
            ]
          },
          "metadata": {}
        },
        {
          "output_type": "stream",
          "name": "stderr",
          "text": [
            "INFO:lightning_fabric.utilities.seed:Seed set to 42\n",
            "INFO:pytorch_lightning.utilities.rank_zero:GPU available: False, used: False\n",
            "INFO:pytorch_lightning.utilities.rank_zero:TPU available: False, using: 0 TPU cores\n",
            "INFO:pytorch_lightning.utilities.rank_zero:HPU available: False, using: 0 HPUs\n",
            "INFO:pytorch_lightning.utilities.rank_zero:`Trainer.fit` stopped: `max_steps=1500` reached.\n"
          ]
        },
        {
          "output_type": "stream",
          "name": "stdout",
          "text": [
            "[WARN] Could not log losses: 'N_Beats' object has no attribute 'loss_history'\n"
          ]
        },
        {
          "output_type": "stream",
          "name": "stderr",
          "text": [
            "INFO:pytorch_lightning.utilities.rank_zero:GPU available: False, used: False\n",
            "INFO:pytorch_lightning.utilities.rank_zero:TPU available: False, using: 0 TPU cores\n",
            "INFO:pytorch_lightning.utilities.rank_zero:HPU available: False, using: 0 HPUs\n"
          ]
        },
        {
          "output_type": "stream",
          "name": "stdout",
          "text": [
            "[BATCH=256] WMAE: 2087.4574\n"
          ]
        },
        {
          "output_type": "display_data",
          "data": {
            "text/plain": [
              "<IPython.core.display.HTML object>"
            ],
            "text/html": []
          },
          "metadata": {}
        },
        {
          "output_type": "display_data",
          "data": {
            "text/plain": [
              "<IPython.core.display.HTML object>"
            ],
            "text/html": [
              "<br>    <style><br>        .wandb-row {<br>            display: flex;<br>            flex-direction: row;<br>            flex-wrap: wrap;<br>            justify-content: flex-start;<br>            width: 100%;<br>        }<br>        .wandb-col {<br>            display: flex;<br>            flex-direction: column;<br>            flex-basis: 100%;<br>            flex: 1;<br>            padding: 10px;<br>        }<br>    </style><br><div class=\"wandb-row\"><div class=\"wandb-col\"><h3>Run history:</h3><br/><table class=\"wandb\"><tr><td>wmae</td><td>▁</td></tr></table><br/></div><div class=\"wandb-col\"><h3>Run summary:</h3><br/><table class=\"wandb\"><tr><td>wmae</td><td>2087.45741</td></tr></table><br/></div></div>"
            ]
          },
          "metadata": {}
        },
        {
          "output_type": "display_data",
          "data": {
            "text/plain": [
              "<IPython.core.display.HTML object>"
            ],
            "text/html": [
              " View run <strong style=\"color:#cdcd00\">NBeats-batch256</strong> at: <a href='https://wandb.ai/final-project-ml/walmart-forecasting/runs/web57c3t' target=\"_blank\">https://wandb.ai/final-project-ml/walmart-forecasting/runs/web57c3t</a><br> View project at: <a href='https://wandb.ai/final-project-ml/walmart-forecasting' target=\"_blank\">https://wandb.ai/final-project-ml/walmart-forecasting</a><br>Synced 5 W&B file(s), 0 media file(s), 0 artifact file(s) and 0 other file(s)"
            ]
          },
          "metadata": {}
        },
        {
          "output_type": "display_data",
          "data": {
            "text/plain": [
              "<IPython.core.display.HTML object>"
            ],
            "text/html": [
              "Find logs at: <code>./wandb/run-20250707_215345-web57c3t/logs</code>"
            ]
          },
          "metadata": {}
        }
      ]
    },
    {
      "cell_type": "code",
      "source": [
        "test.head()"
      ],
      "metadata": {
        "colab": {
          "base_uri": "https://localhost:8080/",
          "height": 206
        },
        "id": "1zErC5Xb7b50",
        "outputId": "c6a12315-e900-44d9-e072-ec216d55fd12"
      },
      "execution_count": null,
      "outputs": [
        {
          "output_type": "execute_result",
          "data": {
            "text/plain": [
              "   Store  Dept        Date  IsHoliday\n",
              "0      1     1  2012-11-02      False\n",
              "1      1     1  2012-11-09      False\n",
              "2      1     1  2012-11-16      False\n",
              "3      1     1  2012-11-23       True\n",
              "4      1     1  2012-11-30      False"
            ],
            "text/html": [
              "\n",
              "  <div id=\"df-b57e20a2-818c-4d17-8a2c-afae1bb4f097\" class=\"colab-df-container\">\n",
              "    <div>\n",
              "<style scoped>\n",
              "    .dataframe tbody tr th:only-of-type {\n",
              "        vertical-align: middle;\n",
              "    }\n",
              "\n",
              "    .dataframe tbody tr th {\n",
              "        vertical-align: top;\n",
              "    }\n",
              "\n",
              "    .dataframe thead th {\n",
              "        text-align: right;\n",
              "    }\n",
              "</style>\n",
              "<table border=\"1\" class=\"dataframe\">\n",
              "  <thead>\n",
              "    <tr style=\"text-align: right;\">\n",
              "      <th></th>\n",
              "      <th>Store</th>\n",
              "      <th>Dept</th>\n",
              "      <th>Date</th>\n",
              "      <th>IsHoliday</th>\n",
              "    </tr>\n",
              "  </thead>\n",
              "  <tbody>\n",
              "    <tr>\n",
              "      <th>0</th>\n",
              "      <td>1</td>\n",
              "      <td>1</td>\n",
              "      <td>2012-11-02</td>\n",
              "      <td>False</td>\n",
              "    </tr>\n",
              "    <tr>\n",
              "      <th>1</th>\n",
              "      <td>1</td>\n",
              "      <td>1</td>\n",
              "      <td>2012-11-09</td>\n",
              "      <td>False</td>\n",
              "    </tr>\n",
              "    <tr>\n",
              "      <th>2</th>\n",
              "      <td>1</td>\n",
              "      <td>1</td>\n",
              "      <td>2012-11-16</td>\n",
              "      <td>False</td>\n",
              "    </tr>\n",
              "    <tr>\n",
              "      <th>3</th>\n",
              "      <td>1</td>\n",
              "      <td>1</td>\n",
              "      <td>2012-11-23</td>\n",
              "      <td>True</td>\n",
              "    </tr>\n",
              "    <tr>\n",
              "      <th>4</th>\n",
              "      <td>1</td>\n",
              "      <td>1</td>\n",
              "      <td>2012-11-30</td>\n",
              "      <td>False</td>\n",
              "    </tr>\n",
              "  </tbody>\n",
              "</table>\n",
              "</div>\n",
              "    <div class=\"colab-df-buttons\">\n",
              "\n",
              "  <div class=\"colab-df-container\">\n",
              "    <button class=\"colab-df-convert\" onclick=\"convertToInteractive('df-b57e20a2-818c-4d17-8a2c-afae1bb4f097')\"\n",
              "            title=\"Convert this dataframe to an interactive table.\"\n",
              "            style=\"display:none;\">\n",
              "\n",
              "  <svg xmlns=\"http://www.w3.org/2000/svg\" height=\"24px\" viewBox=\"0 -960 960 960\">\n",
              "    <path d=\"M120-120v-720h720v720H120Zm60-500h600v-160H180v160Zm220 220h160v-160H400v160Zm0 220h160v-160H400v160ZM180-400h160v-160H180v160Zm440 0h160v-160H620v160ZM180-180h160v-160H180v160Zm440 0h160v-160H620v160Z\"/>\n",
              "  </svg>\n",
              "    </button>\n",
              "\n",
              "  <style>\n",
              "    .colab-df-container {\n",
              "      display:flex;\n",
              "      gap: 12px;\n",
              "    }\n",
              "\n",
              "    .colab-df-convert {\n",
              "      background-color: #E8F0FE;\n",
              "      border: none;\n",
              "      border-radius: 50%;\n",
              "      cursor: pointer;\n",
              "      display: none;\n",
              "      fill: #1967D2;\n",
              "      height: 32px;\n",
              "      padding: 0 0 0 0;\n",
              "      width: 32px;\n",
              "    }\n",
              "\n",
              "    .colab-df-convert:hover {\n",
              "      background-color: #E2EBFA;\n",
              "      box-shadow: 0px 1px 2px rgba(60, 64, 67, 0.3), 0px 1px 3px 1px rgba(60, 64, 67, 0.15);\n",
              "      fill: #174EA6;\n",
              "    }\n",
              "\n",
              "    .colab-df-buttons div {\n",
              "      margin-bottom: 4px;\n",
              "    }\n",
              "\n",
              "    [theme=dark] .colab-df-convert {\n",
              "      background-color: #3B4455;\n",
              "      fill: #D2E3FC;\n",
              "    }\n",
              "\n",
              "    [theme=dark] .colab-df-convert:hover {\n",
              "      background-color: #434B5C;\n",
              "      box-shadow: 0px 1px 3px 1px rgba(0, 0, 0, 0.15);\n",
              "      filter: drop-shadow(0px 1px 2px rgba(0, 0, 0, 0.3));\n",
              "      fill: #FFFFFF;\n",
              "    }\n",
              "  </style>\n",
              "\n",
              "    <script>\n",
              "      const buttonEl =\n",
              "        document.querySelector('#df-b57e20a2-818c-4d17-8a2c-afae1bb4f097 button.colab-df-convert');\n",
              "      buttonEl.style.display =\n",
              "        google.colab.kernel.accessAllowed ? 'block' : 'none';\n",
              "\n",
              "      async function convertToInteractive(key) {\n",
              "        const element = document.querySelector('#df-b57e20a2-818c-4d17-8a2c-afae1bb4f097');\n",
              "        const dataTable =\n",
              "          await google.colab.kernel.invokeFunction('convertToInteractive',\n",
              "                                                    [key], {});\n",
              "        if (!dataTable) return;\n",
              "\n",
              "        const docLinkHtml = 'Like what you see? Visit the ' +\n",
              "          '<a target=\"_blank\" href=https://colab.research.google.com/notebooks/data_table.ipynb>data table notebook</a>'\n",
              "          + ' to learn more about interactive tables.';\n",
              "        element.innerHTML = '';\n",
              "        dataTable['output_type'] = 'display_data';\n",
              "        await google.colab.output.renderOutput(dataTable, element);\n",
              "        const docLink = document.createElement('div');\n",
              "        docLink.innerHTML = docLinkHtml;\n",
              "        element.appendChild(docLink);\n",
              "      }\n",
              "    </script>\n",
              "  </div>\n",
              "\n",
              "\n",
              "    <div id=\"df-101438d6-f482-4671-af66-a21c4dbd740c\">\n",
              "      <button class=\"colab-df-quickchart\" onclick=\"quickchart('df-101438d6-f482-4671-af66-a21c4dbd740c')\"\n",
              "                title=\"Suggest charts\"\n",
              "                style=\"display:none;\">\n",
              "\n",
              "<svg xmlns=\"http://www.w3.org/2000/svg\" height=\"24px\"viewBox=\"0 0 24 24\"\n",
              "     width=\"24px\">\n",
              "    <g>\n",
              "        <path d=\"M19 3H5c-1.1 0-2 .9-2 2v14c0 1.1.9 2 2 2h14c1.1 0 2-.9 2-2V5c0-1.1-.9-2-2-2zM9 17H7v-7h2v7zm4 0h-2V7h2v10zm4 0h-2v-4h2v4z\"/>\n",
              "    </g>\n",
              "</svg>\n",
              "      </button>\n",
              "\n",
              "<style>\n",
              "  .colab-df-quickchart {\n",
              "      --bg-color: #E8F0FE;\n",
              "      --fill-color: #1967D2;\n",
              "      --hover-bg-color: #E2EBFA;\n",
              "      --hover-fill-color: #174EA6;\n",
              "      --disabled-fill-color: #AAA;\n",
              "      --disabled-bg-color: #DDD;\n",
              "  }\n",
              "\n",
              "  [theme=dark] .colab-df-quickchart {\n",
              "      --bg-color: #3B4455;\n",
              "      --fill-color: #D2E3FC;\n",
              "      --hover-bg-color: #434B5C;\n",
              "      --hover-fill-color: #FFFFFF;\n",
              "      --disabled-bg-color: #3B4455;\n",
              "      --disabled-fill-color: #666;\n",
              "  }\n",
              "\n",
              "  .colab-df-quickchart {\n",
              "    background-color: var(--bg-color);\n",
              "    border: none;\n",
              "    border-radius: 50%;\n",
              "    cursor: pointer;\n",
              "    display: none;\n",
              "    fill: var(--fill-color);\n",
              "    height: 32px;\n",
              "    padding: 0;\n",
              "    width: 32px;\n",
              "  }\n",
              "\n",
              "  .colab-df-quickchart:hover {\n",
              "    background-color: var(--hover-bg-color);\n",
              "    box-shadow: 0 1px 2px rgba(60, 64, 67, 0.3), 0 1px 3px 1px rgba(60, 64, 67, 0.15);\n",
              "    fill: var(--button-hover-fill-color);\n",
              "  }\n",
              "\n",
              "  .colab-df-quickchart-complete:disabled,\n",
              "  .colab-df-quickchart-complete:disabled:hover {\n",
              "    background-color: var(--disabled-bg-color);\n",
              "    fill: var(--disabled-fill-color);\n",
              "    box-shadow: none;\n",
              "  }\n",
              "\n",
              "  .colab-df-spinner {\n",
              "    border: 2px solid var(--fill-color);\n",
              "    border-color: transparent;\n",
              "    border-bottom-color: var(--fill-color);\n",
              "    animation:\n",
              "      spin 1s steps(1) infinite;\n",
              "  }\n",
              "\n",
              "  @keyframes spin {\n",
              "    0% {\n",
              "      border-color: transparent;\n",
              "      border-bottom-color: var(--fill-color);\n",
              "      border-left-color: var(--fill-color);\n",
              "    }\n",
              "    20% {\n",
              "      border-color: transparent;\n",
              "      border-left-color: var(--fill-color);\n",
              "      border-top-color: var(--fill-color);\n",
              "    }\n",
              "    30% {\n",
              "      border-color: transparent;\n",
              "      border-left-color: var(--fill-color);\n",
              "      border-top-color: var(--fill-color);\n",
              "      border-right-color: var(--fill-color);\n",
              "    }\n",
              "    40% {\n",
              "      border-color: transparent;\n",
              "      border-right-color: var(--fill-color);\n",
              "      border-top-color: var(--fill-color);\n",
              "    }\n",
              "    60% {\n",
              "      border-color: transparent;\n",
              "      border-right-color: var(--fill-color);\n",
              "    }\n",
              "    80% {\n",
              "      border-color: transparent;\n",
              "      border-right-color: var(--fill-color);\n",
              "      border-bottom-color: var(--fill-color);\n",
              "    }\n",
              "    90% {\n",
              "      border-color: transparent;\n",
              "      border-bottom-color: var(--fill-color);\n",
              "    }\n",
              "  }\n",
              "</style>\n",
              "\n",
              "      <script>\n",
              "        async function quickchart(key) {\n",
              "          const quickchartButtonEl =\n",
              "            document.querySelector('#' + key + ' button');\n",
              "          quickchartButtonEl.disabled = true;  // To prevent multiple clicks.\n",
              "          quickchartButtonEl.classList.add('colab-df-spinner');\n",
              "          try {\n",
              "            const charts = await google.colab.kernel.invokeFunction(\n",
              "                'suggestCharts', [key], {});\n",
              "          } catch (error) {\n",
              "            console.error('Error during call to suggestCharts:', error);\n",
              "          }\n",
              "          quickchartButtonEl.classList.remove('colab-df-spinner');\n",
              "          quickchartButtonEl.classList.add('colab-df-quickchart-complete');\n",
              "        }\n",
              "        (() => {\n",
              "          let quickchartButtonEl =\n",
              "            document.querySelector('#df-101438d6-f482-4671-af66-a21c4dbd740c button');\n",
              "          quickchartButtonEl.style.display =\n",
              "            google.colab.kernel.accessAllowed ? 'block' : 'none';\n",
              "        })();\n",
              "      </script>\n",
              "    </div>\n",
              "\n",
              "    </div>\n",
              "  </div>\n"
            ],
            "application/vnd.google.colaboratory.intrinsic+json": {
              "type": "dataframe",
              "variable_name": "test"
            }
          },
          "metadata": {},
          "execution_count": 58
        }
      ]
    },
    {
      "cell_type": "code",
      "source": [
        "test['Date'] = pd.to_datetime(test['Date'])\n",
        "preds = pipeline.predict(test)\n",
        "preds = preds[['Id', 'N_Beats']]\n",
        "\n",
        "submission = pd.merge(test[['Id']], preds, on='Id', how='left')\n",
        "\n",
        "submission.to_csv(\"submission_batch256.csv\", index=False)\n",
        "print(\"✅ Final submission saved as 'submission_batch256.csv'\")"
      ],
      "metadata": {
        "colab": {
          "base_uri": "https://localhost:8080/"
        },
        "id": "LGKhhK1w719X",
        "outputId": "a73e8228-a4b8-4d21-97fe-32ce41b04dec"
      },
      "execution_count": null,
      "outputs": [
        {
          "output_type": "stream",
          "name": "stderr",
          "text": [
            "INFO:pytorch_lightning.utilities.rank_zero:GPU available: False, used: False\n",
            "INFO:pytorch_lightning.utilities.rank_zero:TPU available: False, using: 0 TPU cores\n",
            "INFO:pytorch_lightning.utilities.rank_zero:HPU available: False, using: 0 HPUs\n"
          ]
        },
        {
          "output_type": "stream",
          "name": "stdout",
          "text": [
            "✅ Final submission saved as 'submission_batch256.csv'\n"
          ]
        }
      ]
    }
  ],
  "metadata": {
    "colab": {
      "provenance": [],
      "authorship_tag": "ABX9TyMH0ngsSxZGgp9/47oNZBBz"
    },
    "kernelspec": {
      "display_name": "Python 3",
      "name": "python3"
    },
    "language_info": {
      "name": "python"
    }
  },
  "nbformat": 4,
  "nbformat_minor": 0
}